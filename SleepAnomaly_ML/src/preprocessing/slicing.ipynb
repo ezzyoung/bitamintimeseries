{
 "cells": [
  {
   "cell_type": "code",
   "execution_count": 3,
   "id": "34a01866",
   "metadata": {},
   "outputs": [
    {
     "name": "stdout",
     "output_type": "stream",
     "text": [
      "✅ train_0 세트 처리 중...\n",
      "  → 저장 완료: 755832개 샘플\n",
      "✅ train_1 세트 처리 중...\n",
      "  → 저장 완료: 767239개 샘플\n",
      "✅ val_0 세트 처리 중...\n",
      "  → 저장 완료: 188958개 샘플\n",
      "✅ val_1 세트 처리 중...\n",
      "  → 저장 완료: 191818개 샘플\n"
     ]
    }
   ],
   "source": [
    "# 📄 src/preprocessing/sliding_window_split.py\n",
    "\n",
    "import os\n",
    "import numpy as np\n",
    "\n",
    "# 원본 경로 및 저장 경로\n",
    "BASE_DIR = \"c:/BitaminDirectory/Sleep_Anomaly_Detection\"\n",
    "input_dir = os.path.join(BASE_DIR, \"Database\", \"processed\", \"split\")\n",
    "output_dir = os.path.join(BASE_DIR, \"Database\", \"processed\", \"split_sliced\")\n",
    "os.makedirs(output_dir, exist_ok=True)\n",
    "\n",
    "# 슬라이딩 윈도우 설정\n",
    "window_size = 1000  # 시간 길이\n",
    "stride = 500        # 절반 겹치기\n",
    "\n",
    "def sliding_window_npy(X, y):\n",
    "    sliced_X = []\n",
    "    sliced_y = []\n",
    "    for xi, yi in zip(X, y):\n",
    "        T = xi.shape[1]  # 시간축 길이\n",
    "        for start in range(0, T - window_size + 1, stride):\n",
    "            end = start + window_size\n",
    "            sliced_X.append(xi[:, start:end])\n",
    "            sliced_y.append(yi)\n",
    "    return np.array(sliced_X), np.array(sliced_y)\n",
    "\n",
    "def process_and_save(name):\n",
    "    X_path = os.path.join(input_dir, f\"X_{name}.npy\")\n",
    "    y_path = os.path.join(input_dir, f\"y_{name}.npy\")\n",
    "\n",
    "    if not os.path.exists(X_path) or not os.path.exists(y_path):\n",
    "        print(f\"❌ {name} 세트 누락: {X_path} 또는 {y_path} 없음\")\n",
    "        return\n",
    "\n",
    "    print(f\"✅ {name} 세트 처리 중...\")\n",
    "\n",
    "    X = np.load(X_path)  # shape: (N, C, T)\n",
    "    y = np.load(y_path)  # shape: (N,)\n",
    "\n",
    "    X_sliced, y_sliced = sliding_window_npy(X, y)\n",
    "\n",
    "    np.save(os.path.join(output_dir, f\"X_{name}.npy\"), X_sliced)\n",
    "    np.save(os.path.join(output_dir, f\"y_{name}.npy\"), y_sliced)\n",
    "\n",
    "    print(f\"  → 저장 완료: {X_sliced.shape[0]}개 샘플\")\n",
    "\n",
    "# 모든 세트 처리\n",
    "for name in [\"train_0\", \"train_1\", \"val_0\", \"val_1\"]:\n",
    "    process_and_save(name)\n"
   ]
  },
  {
   "cell_type": "code",
   "execution_count": null,
   "id": "74d234aa",
   "metadata": {},
   "outputs": [],
   "source": []
  }
 ],
 "metadata": {
  "kernelspec": {
   "display_name": "recsys",
   "language": "python",
   "name": "python3"
  },
  "language_info": {
   "codemirror_mode": {
    "name": "ipython",
    "version": 3
   },
   "file_extension": ".py",
   "mimetype": "text/x-python",
   "name": "python",
   "nbconvert_exporter": "python",
   "pygments_lexer": "ipython3",
   "version": "3.12.9"
  }
 },
 "nbformat": 4,
 "nbformat_minor": 5
}
