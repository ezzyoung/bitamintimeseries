{
 "cells": [
  {
   "cell_type": "markdown",
   "id": "6874e2b3",
   "metadata": {},
   "source": [
    "## 1. Pretraining 전처리\n",
    "\n",
    "라벨 : 없음"
   ]
  },
  {
   "cell_type": "code",
   "execution_count": 1,
   "id": "9abc04fb",
   "metadata": {},
   "outputs": [],
   "source": [
    "import os\n",
    "import numpy as np\n",
    "from scipy.io import loadmat"
   ]
  },
  {
   "cell_type": "code",
   "execution_count": 2,
   "id": "51ddcb97",
   "metadata": {},
   "outputs": [],
   "source": [
    "data_dir = \"../../Database/raw/Healthy_Subjects\"\n",
    "\n",
    "# x3은 너무 데이터가 flat해서 버렸음음\n",
    "selected_channels = ['F3_A2', 'C3_A2', 'O1_A2', 'F4_A1', 'C4_A1',\n",
    "                     'O2_A1', 'LOC_A2', 'ROC_A1', 'X1', 'X2']"
   ]
  },
  {
   "cell_type": "markdown",
   "id": "069bf593",
   "metadata": {},
   "source": [
    "### 데이터 정규화\n",
    "\n",
    "전체를 같은 정규화x\n",
    "\n",
    "채널별 Z-score 정규화 방식"
   ]
  },
  {
   "cell_type": "code",
   "execution_count": 3,
   "id": "6caa3570",
   "metadata": {},
   "outputs": [],
   "source": [
    "X_all = []\n",
    "\n",
    "# 데이터 로딩 및 정규화\n",
    "for fname in sorted(os.listdir(data_dir)):\n",
    "    if not fname.endswith(\".mat\"):\n",
    "        continue\n",
    "\n",
    "    file_path = os.path.join(data_dir, fname)\n",
    "    mat_data = loadmat(file_path)\n",
    "\n",
    "    signals = []\n",
    "    for ch in selected_channels:\n",
    "        if ch not in mat_data:\n",
    "            print(f\"⚠️ 채널 {ch} 누락: {fname}\")\n",
    "            continue\n",
    "        signals.append(mat_data[ch])  # (epochs, time)\n",
    "\n",
    "    data = np.stack(signals, axis=1)  # (epochs, channels, time)\n",
    "\n",
    "    # Z-score 정규화\n",
    "    for c in range(data.shape[1]):\n",
    "        ch_data = data[:, c, :]\n",
    "        mean = np.mean(ch_data)\n",
    "        std = np.std(ch_data) + 1e-6\n",
    "        data[:, c, :] = (ch_data - mean) / std\n",
    "\n",
    "    X_all.append(data)"
   ]
  },
  {
   "cell_type": "markdown",
   "id": "6cad9169",
   "metadata": {},
   "source": [
    "### 병합, 저장"
   ]
  },
  {
   "cell_type": "code",
   "execution_count": 4,
   "id": "5f44e5d2",
   "metadata": {},
   "outputs": [
    {
     "name": "stdout",
     "output_type": "stream",
     "text": [
      "전처리 완료!\n",
      "X shape: (8589, 10, 6000)\n"
     ]
    }
   ],
   "source": [
    "X_all = np.concatenate(X_all, axis=0)  # (전체 epoch, channels, time)\n",
    "print(\"전처리 완료!\")\n",
    "print(\"X shape:\", X_all.shape)         # (85890, 10, 6000) 이어야 정상\n",
    "\n",
    "# 저장\n",
    "np.save(\"../../Database/processed/sub/subgroup3_pretrain_X.npy\", X_all.astype(np.float32))"
   ]
  },
  {
   "cell_type": "code",
   "execution_count": 5,
   "id": "9d5ec13c",
   "metadata": {},
   "outputs": [
    {
     "name": "stdout",
     "output_type": "stream",
     "text": [
      "subject9.mat → (939, 10, 6000)\n"
     ]
    }
   ],
   "source": [
    "print(f\"{fname} → {data.shape}\")\n"
   ]
  },
  {
   "cell_type": "code",
   "execution_count": null,
   "id": "3d38e115",
   "metadata": {},
   "outputs": [],
   "source": []
  }
 ],
 "metadata": {
  "kernelspec": {
   "display_name": "recsys",
   "language": "python",
   "name": "python3"
  },
  "language_info": {
   "codemirror_mode": {
    "name": "ipython",
    "version": 3
   },
   "file_extension": ".py",
   "mimetype": "text/x-python",
   "name": "python",
   "nbconvert_exporter": "python",
   "pygments_lexer": "ipython3",
   "version": "3.12.9"
  }
 },
 "nbformat": 4,
 "nbformat_minor": 5
}
