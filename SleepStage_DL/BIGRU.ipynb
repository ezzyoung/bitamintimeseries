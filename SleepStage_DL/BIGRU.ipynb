{
  "nbformat": 4,
  "nbformat_minor": 0,
  "metadata": {
    "colab": {
      "provenance": [],
      "gpuType": "T4",
      "collapsed_sections": [
        "M3xyEzW7k_Oz"
      ],
      "machine_shape": "hm"
    },
    "kernelspec": {
      "name": "python3",
      "display_name": "Python 3"
    },
    "language_info": {
      "name": "python"
    },
    "accelerator": "GPU"
  },
  "cells": [
    {
      "cell_type": "code",
      "source": [
        "!pip install mne"
      ],
      "metadata": {
        "colab": {
          "base_uri": "https://localhost:8080/"
        },
        "id": "dIdt_KlZ3azT",
        "outputId": "41aa141f-0ead-4341-f2ea-76db6a4c4ad0"
      },
      "execution_count": null,
      "outputs": [
        {
          "output_type": "stream",
          "name": "stdout",
          "text": [
            "Collecting mne\n",
            "  Downloading mne-1.9.0-py3-none-any.whl.metadata (20 kB)\n",
            "Requirement already satisfied: decorator in /usr/local/lib/python3.11/dist-packages (from mne) (4.4.2)\n",
            "Requirement already satisfied: jinja2 in /usr/local/lib/python3.11/dist-packages (from mne) (3.1.6)\n",
            "Requirement already satisfied: lazy-loader>=0.3 in /usr/local/lib/python3.11/dist-packages (from mne) (0.4)\n",
            "Requirement already satisfied: matplotlib>=3.6 in /usr/local/lib/python3.11/dist-packages (from mne) (3.10.0)\n",
            "Requirement already satisfied: numpy<3,>=1.23 in /usr/local/lib/python3.11/dist-packages (from mne) (2.0.2)\n",
            "Requirement already satisfied: packaging in /usr/local/lib/python3.11/dist-packages (from mne) (24.2)\n",
            "Requirement already satisfied: pooch>=1.5 in /usr/local/lib/python3.11/dist-packages (from mne) (1.8.2)\n",
            "Requirement already satisfied: scipy>=1.9 in /usr/local/lib/python3.11/dist-packages (from mne) (1.15.2)\n",
            "Requirement already satisfied: tqdm in /usr/local/lib/python3.11/dist-packages (from mne) (4.67.1)\n",
            "Requirement already satisfied: contourpy>=1.0.1 in /usr/local/lib/python3.11/dist-packages (from matplotlib>=3.6->mne) (1.3.2)\n",
            "Requirement already satisfied: cycler>=0.10 in /usr/local/lib/python3.11/dist-packages (from matplotlib>=3.6->mne) (0.12.1)\n",
            "Requirement already satisfied: fonttools>=4.22.0 in /usr/local/lib/python3.11/dist-packages (from matplotlib>=3.6->mne) (4.57.0)\n",
            "Requirement already satisfied: kiwisolver>=1.3.1 in /usr/local/lib/python3.11/dist-packages (from matplotlib>=3.6->mne) (1.4.8)\n",
            "Requirement already satisfied: pillow>=8 in /usr/local/lib/python3.11/dist-packages (from matplotlib>=3.6->mne) (11.2.1)\n",
            "Requirement already satisfied: pyparsing>=2.3.1 in /usr/local/lib/python3.11/dist-packages (from matplotlib>=3.6->mne) (3.2.3)\n",
            "Requirement already satisfied: python-dateutil>=2.7 in /usr/local/lib/python3.11/dist-packages (from matplotlib>=3.6->mne) (2.9.0.post0)\n",
            "Requirement already satisfied: platformdirs>=2.5.0 in /usr/local/lib/python3.11/dist-packages (from pooch>=1.5->mne) (4.3.7)\n",
            "Requirement already satisfied: requests>=2.19.0 in /usr/local/lib/python3.11/dist-packages (from pooch>=1.5->mne) (2.32.3)\n",
            "Requirement already satisfied: MarkupSafe>=2.0 in /usr/local/lib/python3.11/dist-packages (from jinja2->mne) (3.0.2)\n",
            "Requirement already satisfied: six>=1.5 in /usr/local/lib/python3.11/dist-packages (from python-dateutil>=2.7->matplotlib>=3.6->mne) (1.17.0)\n",
            "Requirement already satisfied: charset-normalizer<4,>=2 in /usr/local/lib/python3.11/dist-packages (from requests>=2.19.0->pooch>=1.5->mne) (3.4.1)\n",
            "Requirement already satisfied: idna<4,>=2.5 in /usr/local/lib/python3.11/dist-packages (from requests>=2.19.0->pooch>=1.5->mne) (3.10)\n",
            "Requirement already satisfied: urllib3<3,>=1.21.1 in /usr/local/lib/python3.11/dist-packages (from requests>=2.19.0->pooch>=1.5->mne) (2.4.0)\n",
            "Requirement already satisfied: certifi>=2017.4.17 in /usr/local/lib/python3.11/dist-packages (from requests>=2.19.0->pooch>=1.5->mne) (2025.4.26)\n",
            "Downloading mne-1.9.0-py3-none-any.whl (7.4 MB)\n",
            "\u001b[2K   \u001b[90m━━━━━━━━━━━━━━━━━━━━━━━━━━━━━━━━━━━━━━━━\u001b[0m \u001b[32m7.4/7.4 MB\u001b[0m \u001b[31m71.3 MB/s\u001b[0m eta \u001b[36m0:00:00\u001b[0m\n",
            "\u001b[?25hInstalling collected packages: mne\n",
            "Successfully installed mne-1.9.0\n"
          ]
        }
      ]
    },
    {
      "cell_type": "markdown",
      "source": [
        "## BIGRU Implimentation"
      ],
      "metadata": {
        "id": "xZRRyIFV3IoD"
      }
    },
    {
      "cell_type": "code",
      "source": [
        "!pip install scikit-learn\n",
        "\n",
        "import torch\n",
        "import torch.nn as nn\n",
        "import torch.nn.functional as F\n",
        "import matplotlib.pyplot as plt\n",
        "from torch.utils.data import Dataset, DataLoader\n",
        "from sklearn.model_selection import train_test_split\n",
        "\n",
        "import pickle"
      ],
      "metadata": {
        "colab": {
          "base_uri": "https://localhost:8080/"
        },
        "id": "3Qp81nU315Zi",
        "outputId": "811b069f-fe45-41c4-c576-1a4651f901cb"
      },
      "execution_count": null,
      "outputs": [
        {
          "output_type": "stream",
          "name": "stdout",
          "text": [
            "Requirement already satisfied: scikit-learn in /usr/local/lib/python3.11/dist-packages (1.6.1)\n",
            "Requirement already satisfied: numpy>=1.19.5 in /usr/local/lib/python3.11/dist-packages (from scikit-learn) (2.0.2)\n",
            "Requirement already satisfied: scipy>=1.6.0 in /usr/local/lib/python3.11/dist-packages (from scikit-learn) (1.15.2)\n",
            "Requirement already satisfied: joblib>=1.2.0 in /usr/local/lib/python3.11/dist-packages (from scikit-learn) (1.4.2)\n",
            "Requirement already satisfied: threadpoolctl>=3.1.0 in /usr/local/lib/python3.11/dist-packages (from scikit-learn) (3.6.0)\n"
          ]
        }
      ]
    },
    {
      "cell_type": "markdown",
      "source": [
        "## 모델 정의"
      ],
      "metadata": {
        "id": "cVeA6p-518gi"
      }
    },
    {
      "cell_type": "markdown",
      "source": [
        "![image.png](data:image/png;base64,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)"
      ],
      "metadata": {
        "id": "0vf_KaH0dlsp"
      }
    },
    {
      "cell_type": "code",
      "source": [
        "import torch\n",
        "import torch.nn as nn\n",
        "import torch.nn.functional as F\n",
        "\n",
        "# Channel Attention\n",
        "class ChannelGate(nn.Module):\n",
        "    def __init__(self, gate_channels, reduction_ratio=16):\n",
        "        super().__init__()\n",
        "        self.mlp = nn.Sequential(\n",
        "            nn.AdaptiveAvgPool1d(1),\n",
        "            nn.Flatten(),\n",
        "            nn.Linear(gate_channels, gate_channels // reduction_ratio),\n",
        "            nn.ReLU(),\n",
        "            nn.Linear(gate_channels // reduction_ratio, gate_channels),\n",
        "            nn.Sigmoid()\n",
        "        )\n",
        "\n",
        "    def forward(self, x):\n",
        "        scale = self.mlp(x).unsqueeze(2)\n",
        "        return x * scale\n",
        "\n",
        "# Pyramid CNN for EEG/EOG\n",
        "class SignalCNN(nn.Module):\n",
        "    def __init__(self, in_channels=1, base_channels=32):\n",
        "        super().__init__()\n",
        "        self.block = nn.Sequential(\n",
        "            nn.Conv1d(in_channels, base_channels, kernel_size=5, padding=2),\n",
        "            nn.BatchNorm1d(base_channels),\n",
        "            nn.PReLU(),\n",
        "            ChannelGate(base_channels),\n",
        "            nn.MaxPool1d(2),\n",
        "\n",
        "            nn.Conv1d(base_channels, base_channels * 2, kernel_size=5, padding=2),\n",
        "            nn.BatchNorm1d(base_channels * 2),\n",
        "            nn.PReLU(),\n",
        "            ChannelGate(base_channels * 2),\n",
        "            nn.MaxPool1d(2),\n",
        "        )\n",
        "\n",
        "    def forward(self, x):\n",
        "        return self.block(x)  # (B, 64, T//4)\n",
        "\n",
        "# Cross-Modal Attention (Q=EEG, K/V=EOG)\n",
        "class CrossModalAttention(nn.Module):\n",
        "    def __init__(self, dim, heads=2):\n",
        "        super().__init__()\n",
        "        self.query_proj = nn.Linear(dim, dim)\n",
        "        self.key_proj = nn.Linear(dim, dim)\n",
        "        self.value_proj = nn.Linear(dim, dim)\n",
        "        self.attn = nn.MultiheadAttention(embed_dim=dim, num_heads=heads, batch_first=True)\n",
        "\n",
        "    def forward(self, eeg, eog):\n",
        "        Q = self.query_proj(eeg)\n",
        "        K = self.key_proj(eog)\n",
        "        V = self.value_proj(eog)\n",
        "        out, _ = self.attn(Q, K, V)\n",
        "        return out\n",
        "\n",
        "# Sequence Modeling (Bi-GRU)\n",
        "class BiGRU(nn.Module):\n",
        "    def __init__(self, input_dim, hidden_dim=64, num_layers=1):\n",
        "        super().__init__()\n",
        "        self.rnn = nn.GRU(input_dim, hidden_dim, num_layers=num_layers,\n",
        "                          bidirectional=True, batch_first=True)\n",
        "\n",
        "    def forward(self, x):\n",
        "        out, _ = self.rnn(x)\n",
        "        return out\n",
        "\n",
        "# Attention Pooling + Classifier\n",
        "class AttnClassifier(nn.Module):\n",
        "    def __init__(self, input_dim, num_classes=5):\n",
        "        super().__init__()\n",
        "        self.attn = nn.Linear(input_dim, 1)\n",
        "        self.fc = nn.Linear(input_dim, num_classes)\n",
        "\n",
        "    def forward(self, x):\n",
        "        attn_weights = torch.softmax(self.attn(x), dim=1)\n",
        "        pooled = torch.sum(attn_weights * x, dim=1)\n",
        "        out = self.fc(pooled)\n",
        "        return out, attn_weights\n",
        "\n",
        "# Full Model\n",
        "class CSTAN_BiGRU(nn.Module):\n",
        "    def __init__(self, cnn_dim=32, rnn_dim=64, num_classes=5):\n",
        "        super().__init__()\n",
        "        self.eeg_cnn = SignalCNN(1, cnn_dim)\n",
        "        self.eog_cnn = SignalCNN(1, cnn_dim)\n",
        "        self.cross_attn = CrossModalAttention(dim=cnn_dim * 2)\n",
        "        self.gru = BiGRU(input_dim=cnn_dim * 2, hidden_dim=rnn_dim)\n",
        "        self.classifier = AttnClassifier(input_dim=rnn_dim * 2, num_classes=num_classes)\n",
        "\n",
        "    def forward(self, x):  # x: (B, 2, T)\n",
        "        eeg = x[:, 0:1, :]\n",
        "        eog = x[:, 1:2, :]\n",
        "\n",
        "        eeg_feat = self.eeg_cnn(eeg)  # (B, C, L)\n",
        "        eog_feat = self.eog_cnn(eog)\n",
        "\n",
        "        eeg_feat = eeg_feat.transpose(1, 2)  # (B, L, C)\n",
        "        eog_feat = eog_feat.transpose(1, 2)\n",
        "\n",
        "        fused = self.cross_attn(eeg_feat, eog_feat)  # (B, L, C)\n",
        "        seq_out = self.gru(fused)  # (B, L, 2H)\n",
        "\n",
        "        out, attn = self.classifier(seq_out)  # (B, num_classes)\n",
        "        return out, attn"
      ],
      "metadata": {
        "id": "0Hs3Zrif16Dq"
      },
      "execution_count": null,
      "outputs": []
    },
    {
      "cell_type": "markdown",
      "source": [
        "## 데이터 합치기"
      ],
      "metadata": {
        "id": "DIE2tGV-vzJ_"
      }
    },
    {
      "cell_type": "code",
      "source": [
        "import os\n",
        "import pickle\n",
        "import torch\n",
        "import numpy as np\n",
        "\n",
        "# 🔹 병합할 pkl 경로 설정\n",
        "pkl_dir = \"/content/drive/MyDrive/sleep_segments\"\n",
        "file_list = [os.path.join(pkl_dir, f\"sleep_data_part{i}.pkl\") for i in range(1, 4)]\n",
        "\n",
        "all_segments, all_labels = [], []\n",
        "\n",
        "print(\"🔄 피클 파일 병합 중...\")\n",
        "for file in file_list:\n",
        "    with open(file, 'rb') as f:\n",
        "        segments, labels = pickle.load(f)\n",
        "        for seg in segments:\n",
        "            tensor_seg = torch.tensor(seg, dtype=torch.float32)\n",
        "            if tensor_seg.ndim == 3:  # (2, 60, 50)\n",
        "                tensor_seg = tensor_seg.view(2, -1)  # (2, 3000)\n",
        "            all_segments.append(tensor_seg)\n",
        "        all_labels.extend(labels)\n",
        "\n",
        "all_segments = torch.stack(all_segments)  # (N, 2, T)\n",
        "all_labels = torch.tensor(all_labels, dtype=torch.long)\n",
        "\n",
        "save_path = \"/content/drive/MyDrive/sleep_segments/merged_sleep_dataset.pt\"\n",
        "torch.save((all_segments, all_labels), save_path)\n",
        "print(f\"✅ 병합 완료! 저장 위치: {save_path}\")"
      ],
      "metadata": {
        "id": "T7_ivoKhCsbi",
        "colab": {
          "base_uri": "https://localhost:8080/"
        },
        "outputId": "06ea01d1-4ebd-4c9a-fd0a-f77260b3ac70"
      },
      "execution_count": null,
      "outputs": [
        {
          "output_type": "stream",
          "name": "stdout",
          "text": [
            "🔄 피클 파일 병합 중...\n",
            "✅ 병합 완료! 저장 위치: /content/drive/MyDrive/sleep_segments/merged_sleep_dataset.pt\n"
          ]
        }
      ]
    },
    {
      "cell_type": "code",
      "source": [
        "import torch\n",
        "from torch.utils.data import Dataset, DataLoader, Subset\n",
        "import numpy as np\n",
        "\n",
        "class SleepTensorDataset(Dataset):\n",
        "    def __init__(self, data_tensor, label_tensor):\n",
        "        self.data = data_tensor\n",
        "        self.labels = label_tensor\n",
        "\n",
        "    def __len__(self):\n",
        "        return len(self.data)\n",
        "\n",
        "    def __getitem__(self, idx):\n",
        "        return self.data[idx], self.labels[idx]\n",
        "\n",
        "# 🔹 불러오기\n",
        "merged_path = \"/content/drive/MyDrive/sleep_segments/merged_sleep_dataset.pt\"\n",
        "print(\"🔄 병합된 데이터 불러오는 중...\")\n",
        "all_data, all_labels = torch.load(merged_path)\n",
        "print(f\"✅ 불러오기 완료: 총 샘플 = {len(all_data)}\")\n",
        "\n",
        "# 🔹 Train/Test Split\n",
        "indices = np.arange(len(all_data))\n",
        "np.random.seed(42)\n",
        "np.random.shuffle(indices)\n",
        "split = int(len(indices) * 0.8)\n",
        "train_idx, test_idx = indices[:split], indices[split:]\n",
        "\n",
        "train_dataset = SleepTensorDataset(all_data[train_idx], all_labels[train_idx])\n",
        "test_dataset  = SleepTensorDataset(all_data[test_idx], all_labels[test_idx])\n",
        "\n",
        "train_loader = DataLoader(train_dataset, batch_size=32, shuffle=True)\n",
        "test_loader  = DataLoader(test_dataset, batch_size=32, shuffle=False)\n",
        "\n",
        "print(f\"✅ DataLoader 생성 완료: Train = {len(train_dataset)} / Test = {len(test_dataset)}\")"
      ],
      "metadata": {
        "colab": {
          "base_uri": "https://localhost:8080/"
        },
        "id": "XCBARnMLFl2L",
        "outputId": "ab46e0dd-3983-4e6f-8da9-61f053b9c600"
      },
      "execution_count": null,
      "outputs": [
        {
          "output_type": "stream",
          "name": "stdout",
          "text": [
            "🔄 병합된 데이터 불러오는 중...\n",
            "✅ 불러오기 완료: 총 샘플 = 163698\n",
            "✅ DataLoader 생성 완료: Train = 130958 / Test = 32740\n"
          ]
        }
      ]
    },
    {
      "cell_type": "markdown",
      "source": [
        "## 학습 파이프라인"
      ],
      "metadata": {
        "id": "PRHBfvuQHMpD"
      }
    },
    {
      "cell_type": "markdown",
      "source": [
        "## 학습/평가 정의"
      ],
      "metadata": {
        "id": "E8JSHb7FMV7V"
      }
    },
    {
      "cell_type": "code",
      "source": [
        "def train(model, dataloader, optimizer, criterion, device):\n",
        "    model.train()\n",
        "    total_loss, correct, total = 0, 0, 0\n",
        "    for x, y in tqdm(dataloader, desc=\"Train\"):\n",
        "        x, y = x.to(device), y.to(device)\n",
        "        optimizer.zero_grad()\n",
        "        output, _ = model(x)\n",
        "        loss = criterion(output, y)\n",
        "        loss.backward()\n",
        "        optimizer.step()\n",
        "\n",
        "        preds = output.argmax(1)\n",
        "        total_loss += loss.item()\n",
        "        correct += (preds == y).sum().item()\n",
        "        total += y.size(0)\n",
        "\n",
        "    acc = correct / total * 100\n",
        "    return total_loss / len(dataloader), acc"
      ],
      "metadata": {
        "id": "4mtJ94e8M629"
      },
      "execution_count": null,
      "outputs": []
    },
    {
      "cell_type": "code",
      "source": [
        "from sklearn.metrics import classification_report, accuracy_score, f1_score, precision_score, recall_score\n",
        "\n",
        "def evaluate(model, dataloader, criterion, device):\n",
        "    model.eval()\n",
        "    y_true, y_pred = [], []\n",
        "    total_loss = 0\n",
        "\n",
        "    with torch.no_grad():\n",
        "        for x, y in dataloader:\n",
        "            x, y = x.to(device), y.to(device)\n",
        "            output, _ = model(x)\n",
        "            loss = criterion(output, y)\n",
        "            total_loss += loss.item()\n",
        "\n",
        "            preds = output.argmax(dim=1)\n",
        "            y_true.extend(y.cpu().numpy())\n",
        "            y_pred.extend(preds.cpu().numpy())\n",
        "\n",
        "    acc = accuracy_score(y_true, y_pred) * 100\n",
        "    f1 = f1_score(y_true, y_pred, average='macro')\n",
        "    prec = precision_score(y_true, y_pred, average='macro')\n",
        "    rec = recall_score(y_true, y_pred, average='macro')\n",
        "\n",
        "    print(\"\\n📊 Classification Report:\\n\")\n",
        "    print(classification_report(y_true, y_pred, digits=3))\n",
        "\n",
        "    return total_loss / len(dataloader), acc, f1, prec, rec"
      ],
      "metadata": {
        "id": "zeo25sdfNFF9"
      },
      "execution_count": null,
      "outputs": []
    },
    {
      "cell_type": "code",
      "source": [
        "x_tensor, y_tensor = torch.load('/content/drive/MyDrive/sleep_segments/merged_sleep_dataset.pt')\n",
        "\n",
        "from torch.utils.data import TensorDataset, random_split, DataLoader\n",
        "\n",
        "dataset = TensorDataset(x_tensor, y_tensor)\n",
        "train_len = int(len(dataset) * 0.8)\n",
        "train_set, test_set = random_split(dataset, [train_len, len(dataset) - train_len])\n",
        "\n",
        "train_loader = DataLoader(train_set, batch_size=16, shuffle=True)\n",
        "test_loader = DataLoader(test_set, batch_size=16, shuffle=False)\n",
        "\n",
        "print(f\"✅ DataLoader 생성 완료: Train = {len(train_set)}개 / Test = {len(test_set)}개\")"
      ],
      "metadata": {
        "colab": {
          "base_uri": "https://localhost:8080/"
        },
        "id": "H1kh4KOG_bl8",
        "outputId": "0a4904cc-f18e-4c63-f1a2-811f1ac202cc"
      },
      "execution_count": null,
      "outputs": [
        {
          "output_type": "stream",
          "name": "stdout",
          "text": [
            "✅ DataLoader 생성 완료: Train = 261245개 / Test = 65312개\n"
          ]
        }
      ]
    },
    {
      "cell_type": "code",
      "source": [
        "device = torch.device(\"cuda\" if torch.cuda.is_available() else \"cpu\")"
      ],
      "metadata": {
        "id": "gOKVxpAiTANF"
      },
      "execution_count": null,
      "outputs": []
    },
    {
      "cell_type": "code",
      "source": [
        "from tqdm import tqdm"
      ],
      "metadata": {
        "id": "fFtqjLa4TJsk"
      },
      "execution_count": null,
      "outputs": []
    },
    {
      "cell_type": "code",
      "source": [
        "from sklearn.utils.class_weight import compute_class_weight"
      ],
      "metadata": {
        "id": "bwo0uzyVe_IC"
      },
      "execution_count": null,
      "outputs": []
    },
    {
      "cell_type": "markdown",
      "source": [
        "## 가중치 맞추는 작업"
      ],
      "metadata": {
        "id": "SY9ZKXw7fIMa"
      }
    },
    {
      "cell_type": "code",
      "source": [
        "#Class weights 계산 및 손실 함수 정의\n",
        "y_train = [label.item() for _, label in train_set]\n",
        "class_weights = compute_class_weight(class_weight='balanced', classes=np.unique(y_train), y=y_train)\n",
        "weights_tensor = torch.tensor(class_weights, dtype=torch.float).to(device)\n",
        "criterion = nn.CrossEntropyLoss(weight=weights_tensor)"
      ],
      "metadata": {
        "id": "5PsfeDnqe0vi"
      },
      "execution_count": null,
      "outputs": []
    },
    {
      "cell_type": "markdown",
      "source": [
        "## 학습"
      ],
      "metadata": {
        "id": "bvJ-XvKRfLI6"
      }
    },
    {
      "cell_type": "code",
      "source": [
        "# 모델, 손실 함수, 옵티마이저 정의\n",
        "model = CSTAN_BiGRU().to(device)\n",
        "optimizer = torch.optim.Adam(model.parameters(), lr=1e-4)\n",
        "\n",
        "# 학습 기록\n",
        "train_losses, val_losses, val_accuracies = [], [], []\n",
        "all_f1, all_precision, all_recall = [], [], []\n",
        "\n",
        "# EarlyStopping 설정\n",
        "best_val_loss = float('inf')\n",
        "patience = 3\n",
        "patience_counter = 0\n",
        "best_model_state = None\n",
        "\n",
        "for epoch in range(1, 21):  # Epoch 20까지\n",
        "    print(f\"\\n🌀 Epoch {epoch}\")\n",
        "\n",
        "    train_loss, train_acc = train(model, train_loader, optimizer, criterion, device)\n",
        "    print(f\"Train Loss: {train_loss:.4f} | Train Accuracy: {train_acc:.2f}%\")\n",
        "\n",
        "    val_loss, val_acc, f1, prec, rec = evaluate(model, test_loader, criterion, device)\n",
        "    print(f\"Val Loss: {val_loss:.4f} | Val Acc: {val_acc:.2f}% | F1: {f1:.3f} | Precision: {prec:.3f} | Recall: {rec:.3f}\")\n",
        "\n",
        "    # 기록 저장\n",
        "    train_losses.append(train_loss)\n",
        "    val_losses.append(val_loss)\n",
        "    val_accuracies.append(val_acc)\n",
        "    all_f1.append(f1)\n",
        "    all_precision.append(prec)\n",
        "    all_recall.append(rec)\n",
        "\n",
        "    # EarlyStopping\n",
        "    if val_loss < best_val_loss:\n",
        "        best_val_loss = val_loss\n",
        "        patience_counter = 0\n",
        "        best_model_state = model.state_dict()\n",
        "        patience_counter += 1\n",
        "        if patience_counter >= patience:\n",
        "            print(f\"\\n⏹️ Early stopping at epoch {epoch}. Best Val Loss: {best_val_loss:.4f}\")\n",
        "            break\n",
        "\n",
        "#  가장 성능 좋았던 모델 불러오기\n",
        "if best_model_state is not None:\n",
        "    model.load_state_dict(best_model_state)\n",
        "\n",
        "# 최종 성능 요약\n",
        "print(\"\\n📊 최종 모델 평가 요약:\")\n",
        "print(f\"Average Validation Accuracy: {np.mean(val_accuracies):.2f}%\")\n",
        "print(f\"Average Macro F1 Score: {np.mean(all_f1):.4f}\")\n",
        "print(f\"Average Precision: {np.mean(all_precision):.4f}\")\n",
        "print(f\"Average Recall: {np.mean(all_recall):.4f}\")\n",
        "print(f\"Last Epoch Accuracy: {val_accuracies[-1]:.2f}% | F1: {all_f1[-1]:.4f} | Precision: {all_precision[-1]:.4f} | Recall: {all_recall[-1]:.4f}\")"
      ],
      "metadata": {
        "id": "8y_3FYKc_k40",
        "colab": {
          "base_uri": "https://localhost:8080/"
        },
        "outputId": "9470b0c9-5804-4140-e5d1-3a0caf4f7f9e"
      },
      "execution_count": null,
      "outputs": [
        {
          "output_type": "stream",
          "name": "stdout",
          "text": [
            "\n",
            "🌀 Epoch 1\n"
          ]
        },
        {
          "output_type": "stream",
          "name": "stderr",
          "text": [
            "Train: 100%|██████████| 16328/16328 [05:46<00:00, 47.07it/s]\n"
          ]
        },
        {
          "output_type": "stream",
          "name": "stdout",
          "text": [
            "Train Loss: 0.8496 | Train Accuracy: 79.56%\n"
          ]
        },
        {
          "output_type": "stream",
          "name": "stderr",
          "text": [
            "/usr/local/lib/python3.11/dist-packages/sklearn/metrics/_classification.py:1565: UndefinedMetricWarning: Precision is ill-defined and being set to 0.0 in labels with no predicted samples. Use `zero_division` parameter to control this behavior.\n",
            "  _warn_prf(average, modifier, f\"{metric.capitalize()} is\", len(result))\n",
            "/usr/local/lib/python3.11/dist-packages/sklearn/metrics/_classification.py:1565: UndefinedMetricWarning: Precision is ill-defined and being set to 0.0 in labels with no predicted samples. Use `zero_division` parameter to control this behavior.\n",
            "  _warn_prf(average, modifier, f\"{metric.capitalize()} is\", len(result))\n",
            "/usr/local/lib/python3.11/dist-packages/sklearn/metrics/_classification.py:1565: UndefinedMetricWarning: Precision is ill-defined and being set to 0.0 in labels with no predicted samples. Use `zero_division` parameter to control this behavior.\n",
            "  _warn_prf(average, modifier, f\"{metric.capitalize()} is\", len(result))\n",
            "/usr/local/lib/python3.11/dist-packages/sklearn/metrics/_classification.py:1565: UndefinedMetricWarning: Precision is ill-defined and being set to 0.0 in labels with no predicted samples. Use `zero_division` parameter to control this behavior.\n",
            "  _warn_prf(average, modifier, f\"{metric.capitalize()} is\", len(result))\n"
          ]
        },
        {
          "output_type": "stream",
          "name": "stdout",
          "text": [
            "\n",
            "📊 Classification Report:\n",
            "\n",
            "              precision    recall  f1-score   support\n",
            "\n",
            "           0      0.689     1.000     0.816     45026\n",
            "           1      0.000     0.000     0.000      2973\n",
            "           2      0.000     0.000     0.000     10770\n",
            "           3      0.000     0.000     0.000      2341\n",
            "           4      0.000     0.000     0.000      4202\n",
            "\n",
            "    accuracy                          0.689     65312\n",
            "   macro avg      0.138     0.200     0.163     65312\n",
            "weighted avg      0.475     0.689     0.563     65312\n",
            "\n",
            "Val Loss: 5.3749 | Val Acc: 68.94% | F1: 0.163 | Precision: 0.138 | Recall: 0.200\n",
            "\n",
            "🌀 Epoch 2\n"
          ]
        },
        {
          "output_type": "stream",
          "name": "stderr",
          "text": [
            "Train: 100%|██████████| 16328/16328 [05:46<00:00, 47.13it/s]\n"
          ]
        },
        {
          "output_type": "stream",
          "name": "stdout",
          "text": [
            "Train Loss: 0.6077 | Train Accuracy: 84.94%\n"
          ]
        },
        {
          "output_type": "stream",
          "name": "stderr",
          "text": [
            "/usr/local/lib/python3.11/dist-packages/sklearn/metrics/_classification.py:1565: UndefinedMetricWarning: Precision is ill-defined and being set to 0.0 in labels with no predicted samples. Use `zero_division` parameter to control this behavior.\n",
            "  _warn_prf(average, modifier, f\"{metric.capitalize()} is\", len(result))\n",
            "/usr/local/lib/python3.11/dist-packages/sklearn/metrics/_classification.py:1565: UndefinedMetricWarning: Precision is ill-defined and being set to 0.0 in labels with no predicted samples. Use `zero_division` parameter to control this behavior.\n",
            "  _warn_prf(average, modifier, f\"{metric.capitalize()} is\", len(result))\n",
            "/usr/local/lib/python3.11/dist-packages/sklearn/metrics/_classification.py:1565: UndefinedMetricWarning: Precision is ill-defined and being set to 0.0 in labels with no predicted samples. Use `zero_division` parameter to control this behavior.\n",
            "  _warn_prf(average, modifier, f\"{metric.capitalize()} is\", len(result))\n",
            "/usr/local/lib/python3.11/dist-packages/sklearn/metrics/_classification.py:1565: UndefinedMetricWarning: Precision is ill-defined and being set to 0.0 in labels with no predicted samples. Use `zero_division` parameter to control this behavior.\n",
            "  _warn_prf(average, modifier, f\"{metric.capitalize()} is\", len(result))\n"
          ]
        },
        {
          "output_type": "stream",
          "name": "stdout",
          "text": [
            "\n",
            "📊 Classification Report:\n",
            "\n",
            "              precision    recall  f1-score   support\n",
            "\n",
            "           0      0.971     0.652     0.780     45026\n",
            "           1      0.079     0.876     0.144      2973\n",
            "           2      0.000     0.000     0.000     10770\n",
            "           3      0.000     0.000     0.000      2341\n",
            "           4      0.135     0.064     0.087      4202\n",
            "\n",
            "    accuracy                          0.494     65312\n",
            "   macro avg      0.237     0.318     0.202     65312\n",
            "weighted avg      0.682     0.494     0.550     65312\n",
            "\n",
            "Val Loss: 3.9769 | Val Acc: 49.36% | F1: 0.202 | Precision: 0.237 | Recall: 0.318\n",
            "\n",
            "🌀 Epoch 3\n"
          ]
        },
        {
          "output_type": "stream",
          "name": "stderr",
          "text": [
            "Train: 100%|██████████| 16328/16328 [05:45<00:00, 47.23it/s]\n"
          ]
        },
        {
          "output_type": "stream",
          "name": "stdout",
          "text": [
            "Train Loss: 0.5553 | Train Accuracy: 86.70%\n"
          ]
        },
        {
          "output_type": "stream",
          "name": "stderr",
          "text": [
            "/usr/local/lib/python3.11/dist-packages/sklearn/metrics/_classification.py:1565: UndefinedMetricWarning: Precision is ill-defined and being set to 0.0 in labels with no predicted samples. Use `zero_division` parameter to control this behavior.\n",
            "  _warn_prf(average, modifier, f\"{metric.capitalize()} is\", len(result))\n",
            "/usr/local/lib/python3.11/dist-packages/sklearn/metrics/_classification.py:1565: UndefinedMetricWarning: Precision is ill-defined and being set to 0.0 in labels with no predicted samples. Use `zero_division` parameter to control this behavior.\n",
            "  _warn_prf(average, modifier, f\"{metric.capitalize()} is\", len(result))\n",
            "/usr/local/lib/python3.11/dist-packages/sklearn/metrics/_classification.py:1565: UndefinedMetricWarning: Precision is ill-defined and being set to 0.0 in labels with no predicted samples. Use `zero_division` parameter to control this behavior.\n",
            "  _warn_prf(average, modifier, f\"{metric.capitalize()} is\", len(result))\n",
            "/usr/local/lib/python3.11/dist-packages/sklearn/metrics/_classification.py:1565: UndefinedMetricWarning: Precision is ill-defined and being set to 0.0 in labels with no predicted samples. Use `zero_division` parameter to control this behavior.\n",
            "  _warn_prf(average, modifier, f\"{metric.capitalize()} is\", len(result))\n"
          ]
        },
        {
          "output_type": "stream",
          "name": "stdout",
          "text": [
            "\n",
            "📊 Classification Report:\n",
            "\n",
            "              precision    recall  f1-score   support\n",
            "\n",
            "           0      0.689     1.000     0.816     45026\n",
            "           1      0.000     0.000     0.000      2973\n",
            "           2      0.000     0.000     0.000     10770\n",
            "           3      0.000     0.000     0.000      2341\n",
            "           4      0.000     0.000     0.000      4202\n",
            "\n",
            "    accuracy                          0.689     65312\n",
            "   macro avg      0.138     0.200     0.163     65312\n",
            "weighted avg      0.475     0.689     0.563     65312\n",
            "\n",
            "Val Loss: 5.8218 | Val Acc: 68.94% | F1: 0.163 | Precision: 0.138 | Recall: 0.200\n",
            "\n",
            "🌀 Epoch 4\n"
          ]
        },
        {
          "output_type": "stream",
          "name": "stderr",
          "text": [
            "Train: 100%|██████████| 16328/16328 [05:45<00:00, 47.29it/s]\n"
          ]
        },
        {
          "output_type": "stream",
          "name": "stdout",
          "text": [
            "Train Loss: 0.5232 | Train Accuracy: 87.68%\n"
          ]
        },
        {
          "output_type": "stream",
          "name": "stderr",
          "text": [
            "/usr/local/lib/python3.11/dist-packages/sklearn/metrics/_classification.py:1565: UndefinedMetricWarning: Precision is ill-defined and being set to 0.0 in labels with no predicted samples. Use `zero_division` parameter to control this behavior.\n",
            "  _warn_prf(average, modifier, f\"{metric.capitalize()} is\", len(result))\n",
            "/usr/local/lib/python3.11/dist-packages/sklearn/metrics/_classification.py:1565: UndefinedMetricWarning: Precision is ill-defined and being set to 0.0 in labels with no predicted samples. Use `zero_division` parameter to control this behavior.\n",
            "  _warn_prf(average, modifier, f\"{metric.capitalize()} is\", len(result))\n",
            "/usr/local/lib/python3.11/dist-packages/sklearn/metrics/_classification.py:1565: UndefinedMetricWarning: Precision is ill-defined and being set to 0.0 in labels with no predicted samples. Use `zero_division` parameter to control this behavior.\n",
            "  _warn_prf(average, modifier, f\"{metric.capitalize()} is\", len(result))\n",
            "/usr/local/lib/python3.11/dist-packages/sklearn/metrics/_classification.py:1565: UndefinedMetricWarning: Precision is ill-defined and being set to 0.0 in labels with no predicted samples. Use `zero_division` parameter to control this behavior.\n",
            "  _warn_prf(average, modifier, f\"{metric.capitalize()} is\", len(result))\n"
          ]
        },
        {
          "output_type": "stream",
          "name": "stdout",
          "text": [
            "\n",
            "📊 Classification Report:\n",
            "\n",
            "              precision    recall  f1-score   support\n",
            "\n",
            "           0      0.689     1.000     0.816     45026\n",
            "           1      0.000     0.000     0.000      2973\n",
            "           2      0.000     0.000     0.000     10770\n",
            "           3      0.000     0.000     0.000      2341\n",
            "           4      0.000     0.000     0.000      4202\n",
            "\n",
            "    accuracy                          0.689     65312\n",
            "   macro avg      0.138     0.200     0.163     65312\n",
            "weighted avg      0.475     0.689     0.563     65312\n",
            "\n",
            "Val Loss: 5.7624 | Val Acc: 68.94% | F1: 0.163 | Precision: 0.138 | Recall: 0.200\n",
            "\n",
            "🌀 Epoch 5\n"
          ]
        },
        {
          "output_type": "stream",
          "name": "stderr",
          "text": [
            "Train: 100%|██████████| 16328/16328 [05:45<00:00, 47.22it/s]\n"
          ]
        },
        {
          "output_type": "stream",
          "name": "stdout",
          "text": [
            "Train Loss: 0.5033 | Train Accuracy: 88.14%\n",
            "\n",
            "📊 Classification Report:\n",
            "\n",
            "              precision    recall  f1-score   support\n",
            "\n",
            "           0      0.934     0.829     0.878     45026\n",
            "           1      0.098     0.839     0.176      2973\n",
            "           2      0.000     0.000     0.000     10770\n",
            "           3      0.000     0.000     0.000      2341\n",
            "           4      0.000     0.000     0.000      4202\n",
            "\n",
            "    accuracy                          0.610     65312\n",
            "   macro avg      0.206     0.334     0.211     65312\n",
            "weighted avg      0.648     0.610     0.613     65312\n",
            "\n",
            "Val Loss: 5.1851 | Val Acc: 60.96% | F1: 0.211 | Precision: 0.206 | Recall: 0.334\n",
            "\n",
            "⏹️ Early stopping at epoch 5. Best Val Loss: 3.9769\n",
            "\n",
            "📊 최종 모델 평가 요약:\n",
            "Average Validation Accuracy: 63.43%\n",
            "Average Macro F1 Score: 0.1806\n",
            "Average Precision: 0.1714\n",
            "Average Recall: 0.2504\n",
            "Last Epoch Accuracy: 60.96% | F1: 0.2109 | Precision: 0.2064 | Recall: 0.3335\n"
          ]
        },
        {
          "output_type": "stream",
          "name": "stderr",
          "text": [
            "/usr/local/lib/python3.11/dist-packages/sklearn/metrics/_classification.py:1565: UndefinedMetricWarning: Precision is ill-defined and being set to 0.0 in labels with no predicted samples. Use `zero_division` parameter to control this behavior.\n",
            "  _warn_prf(average, modifier, f\"{metric.capitalize()} is\", len(result))\n",
            "/usr/local/lib/python3.11/dist-packages/sklearn/metrics/_classification.py:1565: UndefinedMetricWarning: Precision is ill-defined and being set to 0.0 in labels with no predicted samples. Use `zero_division` parameter to control this behavior.\n",
            "  _warn_prf(average, modifier, f\"{metric.capitalize()} is\", len(result))\n",
            "/usr/local/lib/python3.11/dist-packages/sklearn/metrics/_classification.py:1565: UndefinedMetricWarning: Precision is ill-defined and being set to 0.0 in labels with no predicted samples. Use `zero_division` parameter to control this behavior.\n",
            "  _warn_prf(average, modifier, f\"{metric.capitalize()} is\", len(result))\n",
            "/usr/local/lib/python3.11/dist-packages/sklearn/metrics/_classification.py:1565: UndefinedMetricWarning: Precision is ill-defined and being set to 0.0 in labels with no predicted samples. Use `zero_division` parameter to control this behavior.\n",
            "  _warn_prf(average, modifier, f\"{metric.capitalize()} is\", len(result))\n"
          ]
        }
      ]
    },
    {
      "cell_type": "code",
      "source": [
        "print(\"\\n🧪 테스트 세트 성능 평가:\")\n",
        "test_loss, test_acc, test_f1, test_prec, test_rec = evaluate(model, test_loader, criterion, device)\n",
        "\n",
        "print(f\"Test Loss: {test_loss:.4f} | Accuracy: {test_acc:.2f}%\")\n",
        "print(f\"Macro F1: {test_f1:.4f} | Precision: {test_prec:.4f} | Recall: {test_rec:.4f}\")"
      ],
      "metadata": {
        "colab": {
          "base_uri": "https://localhost:8080/"
        },
        "id": "9e-bmNVorbcg",
        "outputId": "909b526b-ab11-47ac-9b3a-e6dae06536b3"
      },
      "execution_count": null,
      "outputs": [
        {
          "output_type": "stream",
          "name": "stdout",
          "text": [
            "\n",
            "🧪 테스트 세트 성능 평가:\n",
            "\n",
            "📊 Classification Report:\n",
            "\n",
            "              precision    recall  f1-score   support\n",
            "\n",
            "           0      0.934     0.829     0.878     45026\n",
            "           1      0.098     0.839     0.176      2973\n",
            "           2      0.000     0.000     0.000     10770\n",
            "           3      0.000     0.000     0.000      2341\n",
            "           4      0.000     0.000     0.000      4202\n",
            "\n",
            "    accuracy                          0.610     65312\n",
            "   macro avg      0.206     0.334     0.211     65312\n",
            "weighted avg      0.648     0.610     0.613     65312\n",
            "\n",
            "Test Loss: 5.1851 | Accuracy: 60.96%\n",
            "Macro F1: 0.2109 | Precision: 0.2064 | Recall: 0.3335\n"
          ]
        },
        {
          "output_type": "stream",
          "name": "stderr",
          "text": [
            "/usr/local/lib/python3.11/dist-packages/sklearn/metrics/_classification.py:1565: UndefinedMetricWarning: Precision is ill-defined and being set to 0.0 in labels with no predicted samples. Use `zero_division` parameter to control this behavior.\n",
            "  _warn_prf(average, modifier, f\"{metric.capitalize()} is\", len(result))\n",
            "/usr/local/lib/python3.11/dist-packages/sklearn/metrics/_classification.py:1565: UndefinedMetricWarning: Precision is ill-defined and being set to 0.0 in labels with no predicted samples. Use `zero_division` parameter to control this behavior.\n",
            "  _warn_prf(average, modifier, f\"{metric.capitalize()} is\", len(result))\n",
            "/usr/local/lib/python3.11/dist-packages/sklearn/metrics/_classification.py:1565: UndefinedMetricWarning: Precision is ill-defined and being set to 0.0 in labels with no predicted samples. Use `zero_division` parameter to control this behavior.\n",
            "  _warn_prf(average, modifier, f\"{metric.capitalize()} is\", len(result))\n",
            "/usr/local/lib/python3.11/dist-packages/sklearn/metrics/_classification.py:1565: UndefinedMetricWarning: Precision is ill-defined and being set to 0.0 in labels with no predicted samples. Use `zero_division` parameter to control this behavior.\n",
            "  _warn_prf(average, modifier, f\"{metric.capitalize()} is\", len(result))\n"
          ]
        }
      ]
    },
    {
      "cell_type": "code",
      "source": [],
      "metadata": {
        "id": "jxI5OcgJJGks"
      },
      "execution_count": null,
      "outputs": []
    }
  ]
}