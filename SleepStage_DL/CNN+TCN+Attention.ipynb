{
  "nbformat": 4,
  "nbformat_minor": 0,
  "metadata": {
    "colab": {
      "provenance": [],
      "gpuType": "A100",
      "collapsed_sections": [
        "M3xyEzW7k_Oz"
      ],
      "machine_shape": "hm"
    },
    "kernelspec": {
      "name": "python3",
      "display_name": "Python 3"
    },
    "language_info": {
      "name": "python"
    },
    "accelerator": "GPU"
  },
  "cells": [
    {
      "cell_type": "code",
      "source": [
        "!pip install mne"
      ],
      "metadata": {
        "colab": {
          "base_uri": "https://localhost:8080/"
        },
        "id": "dIdt_KlZ3azT",
        "outputId": "41aa141f-0ead-4341-f2ea-76db6a4c4ad0"
      },
      "execution_count": null,
      "outputs": [
        {
          "output_type": "stream",
          "name": "stdout",
          "text": [
            "Collecting mne\n",
            "  Downloading mne-1.9.0-py3-none-any.whl.metadata (20 kB)\n",
            "Requirement already satisfied: decorator in /usr/local/lib/python3.11/dist-packages (from mne) (4.4.2)\n",
            "Requirement already satisfied: jinja2 in /usr/local/lib/python3.11/dist-packages (from mne) (3.1.6)\n",
            "Requirement already satisfied: lazy-loader>=0.3 in /usr/local/lib/python3.11/dist-packages (from mne) (0.4)\n",
            "Requirement already satisfied: matplotlib>=3.6 in /usr/local/lib/python3.11/dist-packages (from mne) (3.10.0)\n",
            "Requirement already satisfied: numpy<3,>=1.23 in /usr/local/lib/python3.11/dist-packages (from mne) (2.0.2)\n",
            "Requirement already satisfied: packaging in /usr/local/lib/python3.11/dist-packages (from mne) (24.2)\n",
            "Requirement already satisfied: pooch>=1.5 in /usr/local/lib/python3.11/dist-packages (from mne) (1.8.2)\n",
            "Requirement already satisfied: scipy>=1.9 in /usr/local/lib/python3.11/dist-packages (from mne) (1.15.2)\n",
            "Requirement already satisfied: tqdm in /usr/local/lib/python3.11/dist-packages (from mne) (4.67.1)\n",
            "Requirement already satisfied: contourpy>=1.0.1 in /usr/local/lib/python3.11/dist-packages (from matplotlib>=3.6->mne) (1.3.2)\n",
            "Requirement already satisfied: cycler>=0.10 in /usr/local/lib/python3.11/dist-packages (from matplotlib>=3.6->mne) (0.12.1)\n",
            "Requirement already satisfied: fonttools>=4.22.0 in /usr/local/lib/python3.11/dist-packages (from matplotlib>=3.6->mne) (4.57.0)\n",
            "Requirement already satisfied: kiwisolver>=1.3.1 in /usr/local/lib/python3.11/dist-packages (from matplotlib>=3.6->mne) (1.4.8)\n",
            "Requirement already satisfied: pillow>=8 in /usr/local/lib/python3.11/dist-packages (from matplotlib>=3.6->mne) (11.2.1)\n",
            "Requirement already satisfied: pyparsing>=2.3.1 in /usr/local/lib/python3.11/dist-packages (from matplotlib>=3.6->mne) (3.2.3)\n",
            "Requirement already satisfied: python-dateutil>=2.7 in /usr/local/lib/python3.11/dist-packages (from matplotlib>=3.6->mne) (2.9.0.post0)\n",
            "Requirement already satisfied: platformdirs>=2.5.0 in /usr/local/lib/python3.11/dist-packages (from pooch>=1.5->mne) (4.3.7)\n",
            "Requirement already satisfied: requests>=2.19.0 in /usr/local/lib/python3.11/dist-packages (from pooch>=1.5->mne) (2.32.3)\n",
            "Requirement already satisfied: MarkupSafe>=2.0 in /usr/local/lib/python3.11/dist-packages (from jinja2->mne) (3.0.2)\n",
            "Requirement already satisfied: six>=1.5 in /usr/local/lib/python3.11/dist-packages (from python-dateutil>=2.7->matplotlib>=3.6->mne) (1.17.0)\n",
            "Requirement already satisfied: charset-normalizer<4,>=2 in /usr/local/lib/python3.11/dist-packages (from requests>=2.19.0->pooch>=1.5->mne) (3.4.1)\n",
            "Requirement already satisfied: idna<4,>=2.5 in /usr/local/lib/python3.11/dist-packages (from requests>=2.19.0->pooch>=1.5->mne) (3.10)\n",
            "Requirement already satisfied: urllib3<3,>=1.21.1 in /usr/local/lib/python3.11/dist-packages (from requests>=2.19.0->pooch>=1.5->mne) (2.4.0)\n",
            "Requirement already satisfied: certifi>=2017.4.17 in /usr/local/lib/python3.11/dist-packages (from requests>=2.19.0->pooch>=1.5->mne) (2025.4.26)\n",
            "Downloading mne-1.9.0-py3-none-any.whl (7.4 MB)\n",
            "\u001b[2K   \u001b[90m━━━━━━━━━━━━━━━━━━━━━━━━━━━━━━━━━━━━━━━━\u001b[0m \u001b[32m7.4/7.4 MB\u001b[0m \u001b[31m71.3 MB/s\u001b[0m eta \u001b[36m0:00:00\u001b[0m\n",
            "\u001b[?25hInstalling collected packages: mne\n",
            "Successfully installed mne-1.9.0\n"
          ]
        }
      ]
    },
    {
      "cell_type": "code",
      "source": [
        "# 1-1. 데이터 세그멘타이즈 함수\n",
        "\n",
        "def segment_epoch(data, epoch_len_sec=30, segment_len_sec=0.5, sfreq=100):\n",
        "    total_samples = data.shape[1]\n",
        "    epoch_len = int(epoch_len_sec * sfreq)     # 예: 3000 samples (30초)\n",
        "    segment_len = int(segment_len_sec * sfreq) # 예: 50 samples (0.5초)\n",
        "\n",
        "    num_epochs = total_samples // epoch_len\n",
        "    all_epochs = []\n",
        "\n",
        "    for i in range(num_epochs):\n",
        "        epoch = data[:, i*epoch_len:(i+1)*epoch_len]  # shape: (채널, 3000)\n",
        "        # 채널별로 segment 단위 나누기\n",
        "        eeg = epoch[0].reshape(-1, segment_len)  # (60, 50) if 30sec/0.5sec=60 segments\n",
        "        eog = epoch[1].reshape(-1, segment_len)\n",
        "        all_epochs.append((eeg, eog))  # 각 epoch당 (EEG, EOG) 튜플\n",
        "    return all_epochs"
      ],
      "metadata": {
        "id": "ySTjVLl13fYj"
      },
      "execution_count": null,
      "outputs": []
    },
    {
      "cell_type": "code",
      "source": [
        "# 1-2. 라벨 변환 함수\n",
        "def convert_to_epoch_labels(annotations, epoch_sec=30, total_epochs=None):\n",
        "    label_map = {\n",
        "        'Sleep stage W': 0,\n",
        "        'Sleep stage 1': 1,\n",
        "        'Sleep stage 2': 2,\n",
        "        'Sleep stage 3': 3,\n",
        "        'Sleep stage 4': 3,\n",
        "        'Sleep stage R': 4,\n",
        "        'Sleep stage ?': -1,\n",
        "        'Movement time': -1\n",
        "    }\n",
        "    labels = []\n",
        "    for desc, dur in zip(annotations.description, annotations.duration):\n",
        "        n_epochs = int(dur // epoch_sec)\n",
        "        labels.extend([label_map.get(desc, -1)] * n_epochs)\n",
        "    if total_epochs is not None:\n",
        "        labels = labels[:total_epochs]\n",
        "    return labels"
      ],
      "metadata": {
        "id": "YRFVoSW43jTj"
      },
      "execution_count": null,
      "outputs": []
    },
    {
      "cell_type": "code",
      "source": [
        "import os\n",
        "from glob import glob\n",
        "import re\n",
        "import pickle\n",
        "import mne\n",
        "\n",
        "def extract_id(fname):\n",
        "    m = re.search(r\"SC(\\d{4})\", os.path.basename(fname))\n",
        "    return m.group(1) if m else None\n",
        "\n",
        "def save_pickle(data, labels, part_idx):\n",
        "    save_path = f\"/content/drive/MyDrive/sleep_data_part{part_idx}.pkl\"\n",
        "    with open(save_path, 'wb') as f:\n",
        "        pickle.dump((data, labels), f)\n",
        "    print(f\"✅ Saved: {save_path}\")\n",
        "\n",
        "def load_full_dataset_by_chunks(psg_dir, chunk_size=20, start_chunk=0, channels=['EEG Fpz-Cz', 'EOG horizontal'], epoch_len_sec=30, segment_len_sec=0.5):\n",
        "    psg_files = sorted(glob(os.path.join(psg_dir, \"*-PSG.edf\")))\n",
        "    hypno_files = sorted(glob(os.path.join(psg_dir, \"*-Hypnogram.edf\")))\n",
        "\n",
        "    psg_dict = {extract_id(f): f for f in psg_files if extract_id(f)}\n",
        "    hypno_dict = {extract_id(f): f for f in hypno_files if extract_id(f)}\n",
        "\n",
        "    ids = sorted(set(psg_dict.keys()) & set(hypno_dict.keys()))\n",
        "    total_chunks = (len(ids) + chunk_size - 1) // chunk_size\n",
        "\n",
        "    for chunk_idx in range(start_chunk, total_chunks):\n",
        "        chunk_ids = ids[chunk_idx * chunk_size : (chunk_idx + 1) * chunk_size]\n",
        "        print(f\"\\n🚀 Processing chunk {chunk_idx+1}/{total_chunks} (IDs: {chunk_ids})\")\n",
        "\n",
        "        all_segmented = []\n",
        "        all_labels = []\n",
        "\n",
        "        for file_id in chunk_ids:\n",
        "            psg_path = psg_dict[file_id]\n",
        "            hypno_path = hypno_dict[file_id]\n",
        "            print(f\"   🔄 {file_id} — PSG: {os.path.basename(psg_path)}, Hypnogram: {os.path.basename(hypno_path)}\")\n",
        "\n",
        "            try:\n",
        "                raw = mne.io.read_raw_edf(psg_path, preload=True, verbose=False)\n",
        "                raw.set_annotations(mne.read_annotations(hypno_path))\n",
        "                raw.pick_channels(channels)\n",
        "\n",
        "                data = raw.get_data()\n",
        "                sfreq = raw.info['sfreq']\n",
        "                segmented = segment_epoch(data, epoch_len_sec, segment_len_sec, sfreq)\n",
        "                labels = convert_to_epoch_labels(raw.annotations, epoch_sec=epoch_len_sec, total_epochs=len(segmented))\n",
        "\n",
        "                filtered = [(seg, lab) for seg, lab in zip(segmented, labels) if lab != -1]\n",
        "                if not filtered:\n",
        "                    continue\n",
        "\n",
        "                seg_data, seg_labels = zip(*filtered)\n",
        "                all_segmented.extend(seg_data)\n",
        "                all_labels.extend(seg_labels)\n",
        "\n",
        "            except Exception as e:\n",
        "                print(f\"‼️ Failed to load {file_id}: {e}\")\n",
        "                continue\n",
        "\n",
        "        save_pickle(all_segmented, all_labels, chunk_idx + 1)\n",
        "\n",
        "# 사용 예시\n",
        "psg_dir = \"/content/drive/MyDrive/Colab Notebooks/sleep-cassette\"\n",
        "load_full_dataset_by_chunks(psg_dir, chunk_size=20, start_chunk=0)"
      ],
      "metadata": {
        "colab": {
          "base_uri": "https://localhost:8080/"
        },
        "id": "XDCF1x4Cjx-L",
        "outputId": "206f3381-7d68-4eb2-bd9a-0b699c42c954"
      },
      "execution_count": null,
      "outputs": [
        {
          "output_type": "stream",
          "name": "stdout",
          "text": [
            "\n",
            "🚀 Processing chunk 1/8 (IDs: ['4001', '4002', '4011', '4012', '4021', '4022', '4031', '4032', '4041', '4042', '4051', '4052', '4061', '4062', '4071', '4072', '4081', '4082', '4091', '4092'])\n",
            "   🔄 4001 — PSG: SC4001E0-PSG.edf, Hypnogram: SC4001EC-Hypnogram.edf\n"
          ]
        },
        {
          "output_type": "stream",
          "name": "stderr",
          "text": [
            "<ipython-input-5-15075ba00614>:40: RuntimeWarning: Channels contain different highpass filters. Highest filter setting will be stored.\n",
            "  raw = mne.io.read_raw_edf(psg_path, preload=True, verbose=False)\n",
            "<ipython-input-5-15075ba00614>:40: RuntimeWarning: Channels contain different lowpass filters. Lowest filter setting will be stored.\n",
            "  raw = mne.io.read_raw_edf(psg_path, preload=True, verbose=False)\n",
            "<ipython-input-5-15075ba00614>:40: RuntimeWarning: Highpass cutoff frequency 16.0 is greater than lowpass cutoff frequency 0.7, setting values to 0 and Nyquist.\n",
            "  raw = mne.io.read_raw_edf(psg_path, preload=True, verbose=False)\n"
          ]
        },
        {
          "output_type": "stream",
          "name": "stdout",
          "text": [
            "NOTE: pick_channels() is a legacy function. New code should use inst.pick(...).\n"
          ]
        },
        {
          "output_type": "stream",
          "name": "stderr",
          "text": [
            "<ipython-input-5-15075ba00614>:41: RuntimeWarning: Limited 1 annotation(s) that were expanding outside the data range.\n",
            "  raw.set_annotations(mne.read_annotations(hypno_path))\n",
            "<ipython-input-5-15075ba00614>:40: RuntimeWarning: Channels contain different highpass filters. Highest filter setting will be stored.\n",
            "  raw = mne.io.read_raw_edf(psg_path, preload=True, verbose=False)\n",
            "<ipython-input-5-15075ba00614>:40: RuntimeWarning: Channels contain different lowpass filters. Lowest filter setting will be stored.\n",
            "  raw = mne.io.read_raw_edf(psg_path, preload=True, verbose=False)\n",
            "<ipython-input-5-15075ba00614>:40: RuntimeWarning: Highpass cutoff frequency 16.0 is greater than lowpass cutoff frequency 0.7, setting values to 0 and Nyquist.\n",
            "  raw = mne.io.read_raw_edf(psg_path, preload=True, verbose=False)\n"
          ]
        },
        {
          "output_type": "stream",
          "name": "stdout",
          "text": [
            "   🔄 4002 — PSG: SC4002E0-PSG.edf, Hypnogram: SC4002EC-Hypnogram.edf\n",
            "NOTE: pick_channels() is a legacy function. New code should use inst.pick(...).\n"
          ]
        },
        {
          "output_type": "stream",
          "name": "stderr",
          "text": [
            "<ipython-input-5-15075ba00614>:41: RuntimeWarning: Limited 1 annotation(s) that were expanding outside the data range.\n",
            "  raw.set_annotations(mne.read_annotations(hypno_path))\n"
          ]
        },
        {
          "output_type": "stream",
          "name": "stdout",
          "text": [
            "   🔄 4011 — PSG: SC4011E0-PSG.edf, Hypnogram: SC4011EH-Hypnogram.edf\n"
          ]
        },
        {
          "output_type": "stream",
          "name": "stderr",
          "text": [
            "<ipython-input-5-15075ba00614>:40: RuntimeWarning: Channels contain different highpass filters. Highest filter setting will be stored.\n",
            "  raw = mne.io.read_raw_edf(psg_path, preload=True, verbose=False)\n",
            "<ipython-input-5-15075ba00614>:40: RuntimeWarning: Channels contain different lowpass filters. Lowest filter setting will be stored.\n",
            "  raw = mne.io.read_raw_edf(psg_path, preload=True, verbose=False)\n",
            "<ipython-input-5-15075ba00614>:40: RuntimeWarning: Highpass cutoff frequency 16.0 is greater than lowpass cutoff frequency 0.7, setting values to 0 and Nyquist.\n",
            "  raw = mne.io.read_raw_edf(psg_path, preload=True, verbose=False)\n"
          ]
        },
        {
          "output_type": "stream",
          "name": "stdout",
          "text": [
            "NOTE: pick_channels() is a legacy function. New code should use inst.pick(...).\n"
          ]
        },
        {
          "output_type": "stream",
          "name": "stderr",
          "text": [
            "<ipython-input-5-15075ba00614>:41: RuntimeWarning: Limited 1 annotation(s) that were expanding outside the data range.\n",
            "  raw.set_annotations(mne.read_annotations(hypno_path))\n",
            "<ipython-input-5-15075ba00614>:40: RuntimeWarning: Channels contain different highpass filters. Highest filter setting will be stored.\n",
            "  raw = mne.io.read_raw_edf(psg_path, preload=True, verbose=False)\n",
            "<ipython-input-5-15075ba00614>:40: RuntimeWarning: Channels contain different lowpass filters. Lowest filter setting will be stored.\n",
            "  raw = mne.io.read_raw_edf(psg_path, preload=True, verbose=False)\n",
            "<ipython-input-5-15075ba00614>:40: RuntimeWarning: Highpass cutoff frequency 16.0 is greater than lowpass cutoff frequency 0.7, setting values to 0 and Nyquist.\n",
            "  raw = mne.io.read_raw_edf(psg_path, preload=True, verbose=False)\n"
          ]
        },
        {
          "output_type": "stream",
          "name": "stdout",
          "text": [
            "   🔄 4012 — PSG: SC4012E0-PSG.edf, Hypnogram: SC4012EC-Hypnogram.edf\n",
            "NOTE: pick_channels() is a legacy function. New code should use inst.pick(...).\n"
          ]
        },
        {
          "output_type": "stream",
          "name": "stderr",
          "text": [
            "<ipython-input-5-15075ba00614>:41: RuntimeWarning: Limited 1 annotation(s) that were expanding outside the data range.\n",
            "  raw.set_annotations(mne.read_annotations(hypno_path))\n",
            "<ipython-input-5-15075ba00614>:40: RuntimeWarning: Channels contain different highpass filters. Highest filter setting will be stored.\n",
            "  raw = mne.io.read_raw_edf(psg_path, preload=True, verbose=False)\n",
            "<ipython-input-5-15075ba00614>:40: RuntimeWarning: Channels contain different lowpass filters. Lowest filter setting will be stored.\n",
            "  raw = mne.io.read_raw_edf(psg_path, preload=True, verbose=False)\n",
            "<ipython-input-5-15075ba00614>:40: RuntimeWarning: Highpass cutoff frequency 16.0 is greater than lowpass cutoff frequency 0.7, setting values to 0 and Nyquist.\n",
            "  raw = mne.io.read_raw_edf(psg_path, preload=True, verbose=False)\n"
          ]
        },
        {
          "output_type": "stream",
          "name": "stdout",
          "text": [
            "   🔄 4021 — PSG: SC4021E0-PSG.edf, Hypnogram: SC4021EH-Hypnogram.edf\n",
            "NOTE: pick_channels() is a legacy function. New code should use inst.pick(...).\n"
          ]
        },
        {
          "output_type": "stream",
          "name": "stderr",
          "text": [
            "<ipython-input-5-15075ba00614>:41: RuntimeWarning: Limited 1 annotation(s) that were expanding outside the data range.\n",
            "  raw.set_annotations(mne.read_annotations(hypno_path))\n"
          ]
        },
        {
          "output_type": "stream",
          "name": "stdout",
          "text": [
            "   🔄 4022 — PSG: SC4022E0-PSG.edf, Hypnogram: SC4022EJ-Hypnogram.edf\n"
          ]
        },
        {
          "output_type": "stream",
          "name": "stderr",
          "text": [
            "<ipython-input-5-15075ba00614>:40: RuntimeWarning: Channels contain different highpass filters. Highest filter setting will be stored.\n",
            "  raw = mne.io.read_raw_edf(psg_path, preload=True, verbose=False)\n",
            "<ipython-input-5-15075ba00614>:40: RuntimeWarning: Channels contain different lowpass filters. Lowest filter setting will be stored.\n",
            "  raw = mne.io.read_raw_edf(psg_path, preload=True, verbose=False)\n",
            "<ipython-input-5-15075ba00614>:40: RuntimeWarning: Highpass cutoff frequency 16.0 is greater than lowpass cutoff frequency 0.7, setting values to 0 and Nyquist.\n",
            "  raw = mne.io.read_raw_edf(psg_path, preload=True, verbose=False)\n"
          ]
        },
        {
          "output_type": "stream",
          "name": "stdout",
          "text": [
            "NOTE: pick_channels() is a legacy function. New code should use inst.pick(...).\n"
          ]
        },
        {
          "output_type": "stream",
          "name": "stderr",
          "text": [
            "<ipython-input-5-15075ba00614>:41: RuntimeWarning: Limited 1 annotation(s) that were expanding outside the data range.\n",
            "  raw.set_annotations(mne.read_annotations(hypno_path))\n"
          ]
        },
        {
          "output_type": "stream",
          "name": "stdout",
          "text": [
            "   🔄 4031 — PSG: SC4031E0-PSG.edf, Hypnogram: SC4031EC-Hypnogram.edf\n"
          ]
        },
        {
          "output_type": "stream",
          "name": "stderr",
          "text": [
            "<ipython-input-5-15075ba00614>:40: RuntimeWarning: Channels contain different highpass filters. Highest filter setting will be stored.\n",
            "  raw = mne.io.read_raw_edf(psg_path, preload=True, verbose=False)\n",
            "<ipython-input-5-15075ba00614>:40: RuntimeWarning: Channels contain different lowpass filters. Lowest filter setting will be stored.\n",
            "  raw = mne.io.read_raw_edf(psg_path, preload=True, verbose=False)\n",
            "<ipython-input-5-15075ba00614>:40: RuntimeWarning: Highpass cutoff frequency 16.0 is greater than lowpass cutoff frequency 0.7, setting values to 0 and Nyquist.\n",
            "  raw = mne.io.read_raw_edf(psg_path, preload=True, verbose=False)\n"
          ]
        },
        {
          "output_type": "stream",
          "name": "stdout",
          "text": [
            "NOTE: pick_channels() is a legacy function. New code should use inst.pick(...).\n"
          ]
        },
        {
          "output_type": "stream",
          "name": "stderr",
          "text": [
            "<ipython-input-5-15075ba00614>:41: RuntimeWarning: Limited 1 annotation(s) that were expanding outside the data range.\n",
            "  raw.set_annotations(mne.read_annotations(hypno_path))\n",
            "<ipython-input-5-15075ba00614>:40: RuntimeWarning: Channels contain different highpass filters. Highest filter setting will be stored.\n",
            "  raw = mne.io.read_raw_edf(psg_path, preload=True, verbose=False)\n",
            "<ipython-input-5-15075ba00614>:40: RuntimeWarning: Channels contain different lowpass filters. Lowest filter setting will be stored.\n",
            "  raw = mne.io.read_raw_edf(psg_path, preload=True, verbose=False)\n",
            "<ipython-input-5-15075ba00614>:40: RuntimeWarning: Highpass cutoff frequency 16.0 is greater than lowpass cutoff frequency 0.7, setting values to 0 and Nyquist.\n",
            "  raw = mne.io.read_raw_edf(psg_path, preload=True, verbose=False)\n"
          ]
        },
        {
          "output_type": "stream",
          "name": "stdout",
          "text": [
            "   🔄 4032 — PSG: SC4032E0-PSG.edf, Hypnogram: SC4032EP-Hypnogram.edf\n",
            "NOTE: pick_channels() is a legacy function. New code should use inst.pick(...).\n"
          ]
        },
        {
          "output_type": "stream",
          "name": "stderr",
          "text": [
            "<ipython-input-5-15075ba00614>:41: RuntimeWarning: Limited 1 annotation(s) that were expanding outside the data range.\n",
            "  raw.set_annotations(mne.read_annotations(hypno_path))\n",
            "<ipython-input-5-15075ba00614>:40: RuntimeWarning: Channels contain different highpass filters. Highest filter setting will be stored.\n",
            "  raw = mne.io.read_raw_edf(psg_path, preload=True, verbose=False)\n",
            "<ipython-input-5-15075ba00614>:40: RuntimeWarning: Channels contain different lowpass filters. Lowest filter setting will be stored.\n",
            "  raw = mne.io.read_raw_edf(psg_path, preload=True, verbose=False)\n",
            "<ipython-input-5-15075ba00614>:40: RuntimeWarning: Highpass cutoff frequency 16.0 is greater than lowpass cutoff frequency 0.7, setting values to 0 and Nyquist.\n",
            "  raw = mne.io.read_raw_edf(psg_path, preload=True, verbose=False)\n"
          ]
        },
        {
          "output_type": "stream",
          "name": "stdout",
          "text": [
            "   🔄 4041 — PSG: SC4041E0-PSG.edf, Hypnogram: SC4041EC-Hypnogram.edf\n",
            "NOTE: pick_channels() is a legacy function. New code should use inst.pick(...).\n"
          ]
        },
        {
          "output_type": "stream",
          "name": "stderr",
          "text": [
            "<ipython-input-5-15075ba00614>:41: RuntimeWarning: Limited 1 annotation(s) that were expanding outside the data range.\n",
            "  raw.set_annotations(mne.read_annotations(hypno_path))\n",
            "<ipython-input-5-15075ba00614>:40: RuntimeWarning: Channels contain different highpass filters. Highest filter setting will be stored.\n",
            "  raw = mne.io.read_raw_edf(psg_path, preload=True, verbose=False)\n",
            "<ipython-input-5-15075ba00614>:40: RuntimeWarning: Channels contain different lowpass filters. Lowest filter setting will be stored.\n",
            "  raw = mne.io.read_raw_edf(psg_path, preload=True, verbose=False)\n",
            "<ipython-input-5-15075ba00614>:40: RuntimeWarning: Highpass cutoff frequency 16.0 is greater than lowpass cutoff frequency 0.7, setting values to 0 and Nyquist.\n",
            "  raw = mne.io.read_raw_edf(psg_path, preload=True, verbose=False)\n"
          ]
        },
        {
          "output_type": "stream",
          "name": "stdout",
          "text": [
            "   🔄 4042 — PSG: SC4042E0-PSG.edf, Hypnogram: SC4042EC-Hypnogram.edf\n",
            "NOTE: pick_channels() is a legacy function. New code should use inst.pick(...).\n"
          ]
        },
        {
          "output_type": "stream",
          "name": "stderr",
          "text": [
            "<ipython-input-5-15075ba00614>:41: RuntimeWarning: Limited 1 annotation(s) that were expanding outside the data range.\n",
            "  raw.set_annotations(mne.read_annotations(hypno_path))\n",
            "<ipython-input-5-15075ba00614>:40: RuntimeWarning: Channels contain different highpass filters. Highest filter setting will be stored.\n",
            "  raw = mne.io.read_raw_edf(psg_path, preload=True, verbose=False)\n",
            "<ipython-input-5-15075ba00614>:40: RuntimeWarning: Channels contain different lowpass filters. Lowest filter setting will be stored.\n",
            "  raw = mne.io.read_raw_edf(psg_path, preload=True, verbose=False)\n",
            "<ipython-input-5-15075ba00614>:40: RuntimeWarning: Highpass cutoff frequency 16.0 is greater than lowpass cutoff frequency 0.7, setting values to 0 and Nyquist.\n",
            "  raw = mne.io.read_raw_edf(psg_path, preload=True, verbose=False)\n"
          ]
        },
        {
          "output_type": "stream",
          "name": "stdout",
          "text": [
            "   🔄 4051 — PSG: SC4051E0-PSG.edf, Hypnogram: SC4051EC-Hypnogram.edf\n",
            "NOTE: pick_channels() is a legacy function. New code should use inst.pick(...).\n"
          ]
        },
        {
          "output_type": "stream",
          "name": "stderr",
          "text": [
            "<ipython-input-5-15075ba00614>:41: RuntimeWarning: Limited 1 annotation(s) that were expanding outside the data range.\n",
            "  raw.set_annotations(mne.read_annotations(hypno_path))\n",
            "<ipython-input-5-15075ba00614>:40: RuntimeWarning: Channels contain different highpass filters. Highest filter setting will be stored.\n",
            "  raw = mne.io.read_raw_edf(psg_path, preload=True, verbose=False)\n",
            "<ipython-input-5-15075ba00614>:40: RuntimeWarning: Channels contain different lowpass filters. Lowest filter setting will be stored.\n",
            "  raw = mne.io.read_raw_edf(psg_path, preload=True, verbose=False)\n",
            "<ipython-input-5-15075ba00614>:40: RuntimeWarning: Highpass cutoff frequency 16.0 is greater than lowpass cutoff frequency 0.7, setting values to 0 and Nyquist.\n",
            "  raw = mne.io.read_raw_edf(psg_path, preload=True, verbose=False)\n"
          ]
        },
        {
          "output_type": "stream",
          "name": "stdout",
          "text": [
            "   🔄 4052 — PSG: SC4052E0-PSG.edf, Hypnogram: SC4052EC-Hypnogram.edf\n",
            "NOTE: pick_channels() is a legacy function. New code should use inst.pick(...).\n"
          ]
        },
        {
          "output_type": "stream",
          "name": "stderr",
          "text": [
            "<ipython-input-5-15075ba00614>:41: RuntimeWarning: Limited 1 annotation(s) that were expanding outside the data range.\n",
            "  raw.set_annotations(mne.read_annotations(hypno_path))\n",
            "<ipython-input-5-15075ba00614>:40: RuntimeWarning: Channels contain different highpass filters. Highest filter setting will be stored.\n",
            "  raw = mne.io.read_raw_edf(psg_path, preload=True, verbose=False)\n",
            "<ipython-input-5-15075ba00614>:40: RuntimeWarning: Channels contain different lowpass filters. Lowest filter setting will be stored.\n",
            "  raw = mne.io.read_raw_edf(psg_path, preload=True, verbose=False)\n",
            "<ipython-input-5-15075ba00614>:40: RuntimeWarning: Highpass cutoff frequency 16.0 is greater than lowpass cutoff frequency 0.7, setting values to 0 and Nyquist.\n",
            "  raw = mne.io.read_raw_edf(psg_path, preload=True, verbose=False)\n"
          ]
        },
        {
          "output_type": "stream",
          "name": "stdout",
          "text": [
            "   🔄 4061 — PSG: SC4061E0-PSG.edf, Hypnogram: SC4061EC-Hypnogram.edf\n",
            "NOTE: pick_channels() is a legacy function. New code should use inst.pick(...).\n"
          ]
        },
        {
          "output_type": "stream",
          "name": "stderr",
          "text": [
            "<ipython-input-5-15075ba00614>:41: RuntimeWarning: Limited 1 annotation(s) that were expanding outside the data range.\n",
            "  raw.set_annotations(mne.read_annotations(hypno_path))\n",
            "<ipython-input-5-15075ba00614>:40: RuntimeWarning: Channels contain different highpass filters. Highest filter setting will be stored.\n",
            "  raw = mne.io.read_raw_edf(psg_path, preload=True, verbose=False)\n",
            "<ipython-input-5-15075ba00614>:40: RuntimeWarning: Channels contain different lowpass filters. Lowest filter setting will be stored.\n",
            "  raw = mne.io.read_raw_edf(psg_path, preload=True, verbose=False)\n",
            "<ipython-input-5-15075ba00614>:40: RuntimeWarning: Highpass cutoff frequency 16.0 is greater than lowpass cutoff frequency 0.7, setting values to 0 and Nyquist.\n",
            "  raw = mne.io.read_raw_edf(psg_path, preload=True, verbose=False)\n"
          ]
        },
        {
          "output_type": "stream",
          "name": "stdout",
          "text": [
            "   🔄 4062 — PSG: SC4062E0-PSG.edf, Hypnogram: SC4062EC-Hypnogram.edf\n",
            "NOTE: pick_channels() is a legacy function. New code should use inst.pick(...).\n"
          ]
        },
        {
          "output_type": "stream",
          "name": "stderr",
          "text": [
            "<ipython-input-5-15075ba00614>:41: RuntimeWarning: Limited 1 annotation(s) that were expanding outside the data range.\n",
            "  raw.set_annotations(mne.read_annotations(hypno_path))\n",
            "<ipython-input-5-15075ba00614>:40: RuntimeWarning: Channels contain different highpass filters. Highest filter setting will be stored.\n",
            "  raw = mne.io.read_raw_edf(psg_path, preload=True, verbose=False)\n",
            "<ipython-input-5-15075ba00614>:40: RuntimeWarning: Channels contain different lowpass filters. Lowest filter setting will be stored.\n",
            "  raw = mne.io.read_raw_edf(psg_path, preload=True, verbose=False)\n",
            "<ipython-input-5-15075ba00614>:40: RuntimeWarning: Highpass cutoff frequency 16.0 is greater than lowpass cutoff frequency 0.7, setting values to 0 and Nyquist.\n",
            "  raw = mne.io.read_raw_edf(psg_path, preload=True, verbose=False)\n"
          ]
        },
        {
          "output_type": "stream",
          "name": "stdout",
          "text": [
            "   🔄 4071 — PSG: SC4071E0-PSG.edf, Hypnogram: SC4071EC-Hypnogram.edf\n",
            "NOTE: pick_channels() is a legacy function. New code should use inst.pick(...).\n"
          ]
        },
        {
          "output_type": "stream",
          "name": "stderr",
          "text": [
            "<ipython-input-5-15075ba00614>:41: RuntimeWarning: Limited 1 annotation(s) that were expanding outside the data range.\n",
            "  raw.set_annotations(mne.read_annotations(hypno_path))\n"
          ]
        },
        {
          "output_type": "stream",
          "name": "stdout",
          "text": [
            "   🔄 4072 — PSG: SC4072E0-PSG.edf, Hypnogram: SC4072EH-Hypnogram.edf\n"
          ]
        },
        {
          "output_type": "stream",
          "name": "stderr",
          "text": [
            "<ipython-input-5-15075ba00614>:40: RuntimeWarning: Channels contain different highpass filters. Highest filter setting will be stored.\n",
            "  raw = mne.io.read_raw_edf(psg_path, preload=True, verbose=False)\n",
            "<ipython-input-5-15075ba00614>:40: RuntimeWarning: Channels contain different lowpass filters. Lowest filter setting will be stored.\n",
            "  raw = mne.io.read_raw_edf(psg_path, preload=True, verbose=False)\n",
            "<ipython-input-5-15075ba00614>:40: RuntimeWarning: Highpass cutoff frequency 16.0 is greater than lowpass cutoff frequency 0.7, setting values to 0 and Nyquist.\n",
            "  raw = mne.io.read_raw_edf(psg_path, preload=True, verbose=False)\n"
          ]
        },
        {
          "output_type": "stream",
          "name": "stdout",
          "text": [
            "NOTE: pick_channels() is a legacy function. New code should use inst.pick(...).\n"
          ]
        },
        {
          "output_type": "stream",
          "name": "stderr",
          "text": [
            "<ipython-input-5-15075ba00614>:41: RuntimeWarning: Limited 1 annotation(s) that were expanding outside the data range.\n",
            "  raw.set_annotations(mne.read_annotations(hypno_path))\n",
            "<ipython-input-5-15075ba00614>:40: RuntimeWarning: Channels contain different highpass filters. Highest filter setting will be stored.\n",
            "  raw = mne.io.read_raw_edf(psg_path, preload=True, verbose=False)\n",
            "<ipython-input-5-15075ba00614>:40: RuntimeWarning: Channels contain different lowpass filters. Lowest filter setting will be stored.\n",
            "  raw = mne.io.read_raw_edf(psg_path, preload=True, verbose=False)\n",
            "<ipython-input-5-15075ba00614>:40: RuntimeWarning: Highpass cutoff frequency 16.0 is greater than lowpass cutoff frequency 0.7, setting values to 0 and Nyquist.\n",
            "  raw = mne.io.read_raw_edf(psg_path, preload=True, verbose=False)\n"
          ]
        },
        {
          "output_type": "stream",
          "name": "stdout",
          "text": [
            "   🔄 4081 — PSG: SC4081E0-PSG.edf, Hypnogram: SC4081EC-Hypnogram.edf\n",
            "NOTE: pick_channels() is a legacy function. New code should use inst.pick(...).\n"
          ]
        },
        {
          "output_type": "stream",
          "name": "stderr",
          "text": [
            "<ipython-input-5-15075ba00614>:41: RuntimeWarning: Limited 1 annotation(s) that were expanding outside the data range.\n",
            "  raw.set_annotations(mne.read_annotations(hypno_path))\n"
          ]
        },
        {
          "output_type": "stream",
          "name": "stdout",
          "text": [
            "   🔄 4082 — PSG: SC4082E0-PSG.edf, Hypnogram: SC4082EP-Hypnogram.edf\n"
          ]
        },
        {
          "output_type": "stream",
          "name": "stderr",
          "text": [
            "<ipython-input-5-15075ba00614>:40: RuntimeWarning: Channels contain different highpass filters. Highest filter setting will be stored.\n",
            "  raw = mne.io.read_raw_edf(psg_path, preload=True, verbose=False)\n",
            "<ipython-input-5-15075ba00614>:40: RuntimeWarning: Channels contain different lowpass filters. Lowest filter setting will be stored.\n",
            "  raw = mne.io.read_raw_edf(psg_path, preload=True, verbose=False)\n",
            "<ipython-input-5-15075ba00614>:40: RuntimeWarning: Highpass cutoff frequency 16.0 is greater than lowpass cutoff frequency 0.7, setting values to 0 and Nyquist.\n",
            "  raw = mne.io.read_raw_edf(psg_path, preload=True, verbose=False)\n"
          ]
        },
        {
          "output_type": "stream",
          "name": "stdout",
          "text": [
            "NOTE: pick_channels() is a legacy function. New code should use inst.pick(...).\n"
          ]
        },
        {
          "output_type": "stream",
          "name": "stderr",
          "text": [
            "<ipython-input-5-15075ba00614>:41: RuntimeWarning: Limited 1 annotation(s) that were expanding outside the data range.\n",
            "  raw.set_annotations(mne.read_annotations(hypno_path))\n",
            "<ipython-input-5-15075ba00614>:40: RuntimeWarning: Channels contain different highpass filters. Highest filter setting will be stored.\n",
            "  raw = mne.io.read_raw_edf(psg_path, preload=True, verbose=False)\n",
            "<ipython-input-5-15075ba00614>:40: RuntimeWarning: Channels contain different lowpass filters. Lowest filter setting will be stored.\n",
            "  raw = mne.io.read_raw_edf(psg_path, preload=True, verbose=False)\n",
            "<ipython-input-5-15075ba00614>:40: RuntimeWarning: Highpass cutoff frequency 16.0 is greater than lowpass cutoff frequency 0.7, setting values to 0 and Nyquist.\n",
            "  raw = mne.io.read_raw_edf(psg_path, preload=True, verbose=False)\n"
          ]
        },
        {
          "output_type": "stream",
          "name": "stdout",
          "text": [
            "   🔄 4091 — PSG: SC4091E0-PSG.edf, Hypnogram: SC4091EC-Hypnogram.edf\n",
            "NOTE: pick_channels() is a legacy function. New code should use inst.pick(...).\n"
          ]
        },
        {
          "output_type": "stream",
          "name": "stderr",
          "text": [
            "<ipython-input-5-15075ba00614>:41: RuntimeWarning: Limited 1 annotation(s) that were expanding outside the data range.\n",
            "  raw.set_annotations(mne.read_annotations(hypno_path))\n",
            "<ipython-input-5-15075ba00614>:40: RuntimeWarning: Channels contain different highpass filters. Highest filter setting will be stored.\n",
            "  raw = mne.io.read_raw_edf(psg_path, preload=True, verbose=False)\n",
            "<ipython-input-5-15075ba00614>:40: RuntimeWarning: Channels contain different lowpass filters. Lowest filter setting will be stored.\n",
            "  raw = mne.io.read_raw_edf(psg_path, preload=True, verbose=False)\n",
            "<ipython-input-5-15075ba00614>:40: RuntimeWarning: Highpass cutoff frequency 16.0 is greater than lowpass cutoff frequency 0.7, setting values to 0 and Nyquist.\n",
            "  raw = mne.io.read_raw_edf(psg_path, preload=True, verbose=False)\n"
          ]
        },
        {
          "output_type": "stream",
          "name": "stdout",
          "text": [
            "   🔄 4092 — PSG: SC4092E0-PSG.edf, Hypnogram: SC4092EC-Hypnogram.edf\n",
            "NOTE: pick_channels() is a legacy function. New code should use inst.pick(...).\n"
          ]
        },
        {
          "output_type": "stream",
          "name": "stderr",
          "text": [
            "<ipython-input-5-15075ba00614>:41: RuntimeWarning: Limited 1 annotation(s) that were expanding outside the data range.\n",
            "  raw.set_annotations(mne.read_annotations(hypno_path))\n"
          ]
        },
        {
          "output_type": "stream",
          "name": "stdout",
          "text": [
            "✅ Saved: /content/drive/MyDrive/sleep_data_part1.pkl\n",
            "\n",
            "🚀 Processing chunk 2/8 (IDs: ['4101', '4102', '4111', '4112', '4121', '4122', '4131', '4141', '4142', '4151', '4152', '4161', '4162', '4171', '4172', '4181', '4182', '4191', '4192', '4201'])\n",
            "   🔄 4101 — PSG: SC4101E0-PSG.edf, Hypnogram: SC4101EC-Hypnogram.edf\n"
          ]
        },
        {
          "output_type": "stream",
          "name": "stderr",
          "text": [
            "<ipython-input-5-15075ba00614>:40: RuntimeWarning: Channels contain different highpass filters. Highest filter setting will be stored.\n",
            "  raw = mne.io.read_raw_edf(psg_path, preload=True, verbose=False)\n",
            "<ipython-input-5-15075ba00614>:40: RuntimeWarning: Channels contain different lowpass filters. Lowest filter setting will be stored.\n",
            "  raw = mne.io.read_raw_edf(psg_path, preload=True, verbose=False)\n",
            "<ipython-input-5-15075ba00614>:40: RuntimeWarning: Highpass cutoff frequency 16.0 is greater than lowpass cutoff frequency 0.7, setting values to 0 and Nyquist.\n",
            "  raw = mne.io.read_raw_edf(psg_path, preload=True, verbose=False)\n"
          ]
        },
        {
          "output_type": "stream",
          "name": "stdout",
          "text": [
            "NOTE: pick_channels() is a legacy function. New code should use inst.pick(...).\n"
          ]
        },
        {
          "output_type": "stream",
          "name": "stderr",
          "text": [
            "<ipython-input-5-15075ba00614>:41: RuntimeWarning: Limited 1 annotation(s) that were expanding outside the data range.\n",
            "  raw.set_annotations(mne.read_annotations(hypno_path))\n",
            "<ipython-input-5-15075ba00614>:40: RuntimeWarning: Channels contain different highpass filters. Highest filter setting will be stored.\n",
            "  raw = mne.io.read_raw_edf(psg_path, preload=True, verbose=False)\n",
            "<ipython-input-5-15075ba00614>:40: RuntimeWarning: Channels contain different lowpass filters. Lowest filter setting will be stored.\n",
            "  raw = mne.io.read_raw_edf(psg_path, preload=True, verbose=False)\n",
            "<ipython-input-5-15075ba00614>:40: RuntimeWarning: Highpass cutoff frequency 16.0 is greater than lowpass cutoff frequency 0.7, setting values to 0 and Nyquist.\n",
            "  raw = mne.io.read_raw_edf(psg_path, preload=True, verbose=False)\n"
          ]
        },
        {
          "output_type": "stream",
          "name": "stdout",
          "text": [
            "   🔄 4102 — PSG: SC4102E0-PSG.edf, Hypnogram: SC4102EC-Hypnogram.edf\n",
            "NOTE: pick_channels() is a legacy function. New code should use inst.pick(...).\n"
          ]
        },
        {
          "output_type": "stream",
          "name": "stderr",
          "text": [
            "<ipython-input-5-15075ba00614>:41: RuntimeWarning: Limited 1 annotation(s) that were expanding outside the data range.\n",
            "  raw.set_annotations(mne.read_annotations(hypno_path))\n",
            "<ipython-input-5-15075ba00614>:40: RuntimeWarning: Channels contain different highpass filters. Highest filter setting will be stored.\n",
            "  raw = mne.io.read_raw_edf(psg_path, preload=True, verbose=False)\n",
            "<ipython-input-5-15075ba00614>:40: RuntimeWarning: Channels contain different lowpass filters. Lowest filter setting will be stored.\n",
            "  raw = mne.io.read_raw_edf(psg_path, preload=True, verbose=False)\n",
            "<ipython-input-5-15075ba00614>:40: RuntimeWarning: Highpass cutoff frequency 16.0 is greater than lowpass cutoff frequency 0.7, setting values to 0 and Nyquist.\n",
            "  raw = mne.io.read_raw_edf(psg_path, preload=True, verbose=False)\n"
          ]
        },
        {
          "output_type": "stream",
          "name": "stdout",
          "text": [
            "   🔄 4111 — PSG: SC4111E0-PSG.edf, Hypnogram: SC4111EC-Hypnogram.edf\n",
            "NOTE: pick_channels() is a legacy function. New code should use inst.pick(...).\n"
          ]
        },
        {
          "output_type": "stream",
          "name": "stderr",
          "text": [
            "<ipython-input-5-15075ba00614>:41: RuntimeWarning: Limited 1 annotation(s) that were expanding outside the data range.\n",
            "  raw.set_annotations(mne.read_annotations(hypno_path))\n",
            "<ipython-input-5-15075ba00614>:40: RuntimeWarning: Channels contain different highpass filters. Highest filter setting will be stored.\n",
            "  raw = mne.io.read_raw_edf(psg_path, preload=True, verbose=False)\n",
            "<ipython-input-5-15075ba00614>:40: RuntimeWarning: Channels contain different lowpass filters. Lowest filter setting will be stored.\n",
            "  raw = mne.io.read_raw_edf(psg_path, preload=True, verbose=False)\n",
            "<ipython-input-5-15075ba00614>:40: RuntimeWarning: Highpass cutoff frequency 16.0 is greater than lowpass cutoff frequency 0.7, setting values to 0 and Nyquist.\n",
            "  raw = mne.io.read_raw_edf(psg_path, preload=True, verbose=False)\n"
          ]
        },
        {
          "output_type": "stream",
          "name": "stdout",
          "text": [
            "   🔄 4112 — PSG: SC4112E0-PSG.edf, Hypnogram: SC4112EC-Hypnogram.edf\n",
            "NOTE: pick_channels() is a legacy function. New code should use inst.pick(...).\n"
          ]
        },
        {
          "output_type": "stream",
          "name": "stderr",
          "text": [
            "<ipython-input-5-15075ba00614>:41: RuntimeWarning: Limited 1 annotation(s) that were expanding outside the data range.\n",
            "  raw.set_annotations(mne.read_annotations(hypno_path))\n",
            "<ipython-input-5-15075ba00614>:40: RuntimeWarning: Channels contain different highpass filters. Highest filter setting will be stored.\n",
            "  raw = mne.io.read_raw_edf(psg_path, preload=True, verbose=False)\n",
            "<ipython-input-5-15075ba00614>:40: RuntimeWarning: Channels contain different lowpass filters. Lowest filter setting will be stored.\n",
            "  raw = mne.io.read_raw_edf(psg_path, preload=True, verbose=False)\n",
            "<ipython-input-5-15075ba00614>:40: RuntimeWarning: Highpass cutoff frequency 16.0 is greater than lowpass cutoff frequency 0.7, setting values to 0 and Nyquist.\n",
            "  raw = mne.io.read_raw_edf(psg_path, preload=True, verbose=False)\n"
          ]
        },
        {
          "output_type": "stream",
          "name": "stdout",
          "text": [
            "   🔄 4121 — PSG: SC4121E0-PSG.edf, Hypnogram: SC4121EC-Hypnogram.edf\n",
            "NOTE: pick_channels() is a legacy function. New code should use inst.pick(...).\n"
          ]
        },
        {
          "output_type": "stream",
          "name": "stderr",
          "text": [
            "<ipython-input-5-15075ba00614>:41: RuntimeWarning: Limited 1 annotation(s) that were expanding outside the data range.\n",
            "  raw.set_annotations(mne.read_annotations(hypno_path))\n",
            "<ipython-input-5-15075ba00614>:40: RuntimeWarning: Channels contain different highpass filters. Highest filter setting will be stored.\n",
            "  raw = mne.io.read_raw_edf(psg_path, preload=True, verbose=False)\n",
            "<ipython-input-5-15075ba00614>:40: RuntimeWarning: Channels contain different lowpass filters. Lowest filter setting will be stored.\n",
            "  raw = mne.io.read_raw_edf(psg_path, preload=True, verbose=False)\n",
            "<ipython-input-5-15075ba00614>:40: RuntimeWarning: Highpass cutoff frequency 16.0 is greater than lowpass cutoff frequency 0.7, setting values to 0 and Nyquist.\n",
            "  raw = mne.io.read_raw_edf(psg_path, preload=True, verbose=False)\n"
          ]
        },
        {
          "output_type": "stream",
          "name": "stdout",
          "text": [
            "   🔄 4122 — PSG: SC4122E0-PSG.edf, Hypnogram: SC4122EV-Hypnogram.edf\n",
            "NOTE: pick_channels() is a legacy function. New code should use inst.pick(...).\n"
          ]
        },
        {
          "output_type": "stream",
          "name": "stderr",
          "text": [
            "<ipython-input-5-15075ba00614>:41: RuntimeWarning: Limited 1 annotation(s) that were expanding outside the data range.\n",
            "  raw.set_annotations(mne.read_annotations(hypno_path))\n",
            "<ipython-input-5-15075ba00614>:40: RuntimeWarning: Channels contain different highpass filters. Highest filter setting will be stored.\n",
            "  raw = mne.io.read_raw_edf(psg_path, preload=True, verbose=False)\n",
            "<ipython-input-5-15075ba00614>:40: RuntimeWarning: Channels contain different lowpass filters. Lowest filter setting will be stored.\n",
            "  raw = mne.io.read_raw_edf(psg_path, preload=True, verbose=False)\n",
            "<ipython-input-5-15075ba00614>:40: RuntimeWarning: Highpass cutoff frequency 16.0 is greater than lowpass cutoff frequency 0.7, setting values to 0 and Nyquist.\n",
            "  raw = mne.io.read_raw_edf(psg_path, preload=True, verbose=False)\n"
          ]
        },
        {
          "output_type": "stream",
          "name": "stdout",
          "text": [
            "   🔄 4131 — PSG: SC4131E0-PSG.edf, Hypnogram: SC4131EC-Hypnogram.edf\n",
            "NOTE: pick_channels() is a legacy function. New code should use inst.pick(...).\n"
          ]
        },
        {
          "output_type": "stream",
          "name": "stderr",
          "text": [
            "<ipython-input-5-15075ba00614>:41: RuntimeWarning: Limited 1 annotation(s) that were expanding outside the data range.\n",
            "  raw.set_annotations(mne.read_annotations(hypno_path))\n",
            "<ipython-input-5-15075ba00614>:40: RuntimeWarning: Channels contain different highpass filters. Highest filter setting will be stored.\n",
            "  raw = mne.io.read_raw_edf(psg_path, preload=True, verbose=False)\n",
            "<ipython-input-5-15075ba00614>:40: RuntimeWarning: Channels contain different lowpass filters. Lowest filter setting will be stored.\n",
            "  raw = mne.io.read_raw_edf(psg_path, preload=True, verbose=False)\n",
            "<ipython-input-5-15075ba00614>:40: RuntimeWarning: Highpass cutoff frequency 16.0 is greater than lowpass cutoff frequency 0.7, setting values to 0 and Nyquist.\n",
            "  raw = mne.io.read_raw_edf(psg_path, preload=True, verbose=False)\n"
          ]
        },
        {
          "output_type": "stream",
          "name": "stdout",
          "text": [
            "   🔄 4141 — PSG: SC4141E0-PSG.edf, Hypnogram: SC4141EU-Hypnogram.edf\n",
            "NOTE: pick_channels() is a legacy function. New code should use inst.pick(...).\n"
          ]
        },
        {
          "output_type": "stream",
          "name": "stderr",
          "text": [
            "<ipython-input-5-15075ba00614>:41: RuntimeWarning: Limited 1 annotation(s) that were expanding outside the data range.\n",
            "  raw.set_annotations(mne.read_annotations(hypno_path))\n",
            "<ipython-input-5-15075ba00614>:40: RuntimeWarning: Channels contain different highpass filters. Highest filter setting will be stored.\n",
            "  raw = mne.io.read_raw_edf(psg_path, preload=True, verbose=False)\n",
            "<ipython-input-5-15075ba00614>:40: RuntimeWarning: Channels contain different lowpass filters. Lowest filter setting will be stored.\n",
            "  raw = mne.io.read_raw_edf(psg_path, preload=True, verbose=False)\n",
            "<ipython-input-5-15075ba00614>:40: RuntimeWarning: Highpass cutoff frequency 16.0 is greater than lowpass cutoff frequency 0.7, setting values to 0 and Nyquist.\n",
            "  raw = mne.io.read_raw_edf(psg_path, preload=True, verbose=False)\n"
          ]
        },
        {
          "output_type": "stream",
          "name": "stdout",
          "text": [
            "   🔄 4142 — PSG: SC4142E0-PSG.edf, Hypnogram: SC4142EU-Hypnogram.edf\n",
            "NOTE: pick_channels() is a legacy function. New code should use inst.pick(...).\n"
          ]
        },
        {
          "output_type": "stream",
          "name": "stderr",
          "text": [
            "<ipython-input-5-15075ba00614>:41: RuntimeWarning: Limited 1 annotation(s) that were expanding outside the data range.\n",
            "  raw.set_annotations(mne.read_annotations(hypno_path))\n",
            "<ipython-input-5-15075ba00614>:40: RuntimeWarning: Channels contain different highpass filters. Highest filter setting will be stored.\n",
            "  raw = mne.io.read_raw_edf(psg_path, preload=True, verbose=False)\n",
            "<ipython-input-5-15075ba00614>:40: RuntimeWarning: Channels contain different lowpass filters. Lowest filter setting will be stored.\n",
            "  raw = mne.io.read_raw_edf(psg_path, preload=True, verbose=False)\n",
            "<ipython-input-5-15075ba00614>:40: RuntimeWarning: Highpass cutoff frequency 16.0 is greater than lowpass cutoff frequency 0.7, setting values to 0 and Nyquist.\n",
            "  raw = mne.io.read_raw_edf(psg_path, preload=True, verbose=False)\n"
          ]
        },
        {
          "output_type": "stream",
          "name": "stdout",
          "text": [
            "   🔄 4151 — PSG: SC4151E0-PSG.edf, Hypnogram: SC4151EC-Hypnogram.edf\n",
            "NOTE: pick_channels() is a legacy function. New code should use inst.pick(...).\n"
          ]
        },
        {
          "output_type": "stream",
          "name": "stderr",
          "text": [
            "<ipython-input-5-15075ba00614>:41: RuntimeWarning: Limited 1 annotation(s) that were expanding outside the data range.\n",
            "  raw.set_annotations(mne.read_annotations(hypno_path))\n",
            "<ipython-input-5-15075ba00614>:40: RuntimeWarning: Channels contain different highpass filters. Highest filter setting will be stored.\n",
            "  raw = mne.io.read_raw_edf(psg_path, preload=True, verbose=False)\n",
            "<ipython-input-5-15075ba00614>:40: RuntimeWarning: Channels contain different lowpass filters. Lowest filter setting will be stored.\n",
            "  raw = mne.io.read_raw_edf(psg_path, preload=True, verbose=False)\n",
            "<ipython-input-5-15075ba00614>:40: RuntimeWarning: Highpass cutoff frequency 16.0 is greater than lowpass cutoff frequency 0.7, setting values to 0 and Nyquist.\n",
            "  raw = mne.io.read_raw_edf(psg_path, preload=True, verbose=False)\n"
          ]
        },
        {
          "output_type": "stream",
          "name": "stdout",
          "text": [
            "   🔄 4152 — PSG: SC4152E0-PSG.edf, Hypnogram: SC4152EC-Hypnogram.edf\n",
            "NOTE: pick_channels() is a legacy function. New code should use inst.pick(...).\n"
          ]
        },
        {
          "output_type": "stream",
          "name": "stderr",
          "text": [
            "<ipython-input-5-15075ba00614>:41: RuntimeWarning: Limited 1 annotation(s) that were expanding outside the data range.\n",
            "  raw.set_annotations(mne.read_annotations(hypno_path))\n",
            "<ipython-input-5-15075ba00614>:40: RuntimeWarning: Channels contain different highpass filters. Highest filter setting will be stored.\n",
            "  raw = mne.io.read_raw_edf(psg_path, preload=True, verbose=False)\n",
            "<ipython-input-5-15075ba00614>:40: RuntimeWarning: Channels contain different lowpass filters. Lowest filter setting will be stored.\n",
            "  raw = mne.io.read_raw_edf(psg_path, preload=True, verbose=False)\n",
            "<ipython-input-5-15075ba00614>:40: RuntimeWarning: Highpass cutoff frequency 16.0 is greater than lowpass cutoff frequency 0.7, setting values to 0 and Nyquist.\n",
            "  raw = mne.io.read_raw_edf(psg_path, preload=True, verbose=False)\n"
          ]
        },
        {
          "output_type": "stream",
          "name": "stdout",
          "text": [
            "   🔄 4161 — PSG: SC4161E0-PSG.edf, Hypnogram: SC4161EC-Hypnogram.edf\n",
            "NOTE: pick_channels() is a legacy function. New code should use inst.pick(...).\n"
          ]
        },
        {
          "output_type": "stream",
          "name": "stderr",
          "text": [
            "<ipython-input-5-15075ba00614>:41: RuntimeWarning: Limited 1 annotation(s) that were expanding outside the data range.\n",
            "  raw.set_annotations(mne.read_annotations(hypno_path))\n",
            "<ipython-input-5-15075ba00614>:40: RuntimeWarning: Channels contain different highpass filters. Highest filter setting will be stored.\n",
            "  raw = mne.io.read_raw_edf(psg_path, preload=True, verbose=False)\n",
            "<ipython-input-5-15075ba00614>:40: RuntimeWarning: Channels contain different lowpass filters. Lowest filter setting will be stored.\n",
            "  raw = mne.io.read_raw_edf(psg_path, preload=True, verbose=False)\n",
            "<ipython-input-5-15075ba00614>:40: RuntimeWarning: Highpass cutoff frequency 16.0 is greater than lowpass cutoff frequency 0.7, setting values to 0 and Nyquist.\n",
            "  raw = mne.io.read_raw_edf(psg_path, preload=True, verbose=False)\n"
          ]
        },
        {
          "output_type": "stream",
          "name": "stdout",
          "text": [
            "   🔄 4162 — PSG: SC4162E0-PSG.edf, Hypnogram: SC4162EC-Hypnogram.edf\n",
            "NOTE: pick_channels() is a legacy function. New code should use inst.pick(...).\n"
          ]
        },
        {
          "output_type": "stream",
          "name": "stderr",
          "text": [
            "<ipython-input-5-15075ba00614>:41: RuntimeWarning: Limited 1 annotation(s) that were expanding outside the data range.\n",
            "  raw.set_annotations(mne.read_annotations(hypno_path))\n",
            "<ipython-input-5-15075ba00614>:40: RuntimeWarning: Channels contain different highpass filters. Highest filter setting will be stored.\n",
            "  raw = mne.io.read_raw_edf(psg_path, preload=True, verbose=False)\n",
            "<ipython-input-5-15075ba00614>:40: RuntimeWarning: Channels contain different lowpass filters. Lowest filter setting will be stored.\n",
            "  raw = mne.io.read_raw_edf(psg_path, preload=True, verbose=False)\n",
            "<ipython-input-5-15075ba00614>:40: RuntimeWarning: Highpass cutoff frequency 16.0 is greater than lowpass cutoff frequency 0.7, setting values to 0 and Nyquist.\n",
            "  raw = mne.io.read_raw_edf(psg_path, preload=True, verbose=False)\n"
          ]
        },
        {
          "output_type": "stream",
          "name": "stdout",
          "text": [
            "   🔄 4171 — PSG: SC4171E0-PSG.edf, Hypnogram: SC4171EU-Hypnogram.edf\n",
            "NOTE: pick_channels() is a legacy function. New code should use inst.pick(...).\n"
          ]
        },
        {
          "output_type": "stream",
          "name": "stderr",
          "text": [
            "<ipython-input-5-15075ba00614>:41: RuntimeWarning: Limited 1 annotation(s) that were expanding outside the data range.\n",
            "  raw.set_annotations(mne.read_annotations(hypno_path))\n",
            "<ipython-input-5-15075ba00614>:40: RuntimeWarning: Channels contain different highpass filters. Highest filter setting will be stored.\n",
            "  raw = mne.io.read_raw_edf(psg_path, preload=True, verbose=False)\n",
            "<ipython-input-5-15075ba00614>:40: RuntimeWarning: Channels contain different lowpass filters. Lowest filter setting will be stored.\n",
            "  raw = mne.io.read_raw_edf(psg_path, preload=True, verbose=False)\n",
            "<ipython-input-5-15075ba00614>:40: RuntimeWarning: Highpass cutoff frequency 16.0 is greater than lowpass cutoff frequency 0.7, setting values to 0 and Nyquist.\n",
            "  raw = mne.io.read_raw_edf(psg_path, preload=True, verbose=False)\n"
          ]
        },
        {
          "output_type": "stream",
          "name": "stdout",
          "text": [
            "   🔄 4172 — PSG: SC4172E0-PSG.edf, Hypnogram: SC4172EC-Hypnogram.edf\n",
            "NOTE: pick_channels() is a legacy function. New code should use inst.pick(...).\n"
          ]
        },
        {
          "output_type": "stream",
          "name": "stderr",
          "text": [
            "<ipython-input-5-15075ba00614>:41: RuntimeWarning: Limited 1 annotation(s) that were expanding outside the data range.\n",
            "  raw.set_annotations(mne.read_annotations(hypno_path))\n",
            "<ipython-input-5-15075ba00614>:40: RuntimeWarning: Channels contain different highpass filters. Highest filter setting will be stored.\n",
            "  raw = mne.io.read_raw_edf(psg_path, preload=True, verbose=False)\n",
            "<ipython-input-5-15075ba00614>:40: RuntimeWarning: Channels contain different lowpass filters. Lowest filter setting will be stored.\n",
            "  raw = mne.io.read_raw_edf(psg_path, preload=True, verbose=False)\n",
            "<ipython-input-5-15075ba00614>:40: RuntimeWarning: Highpass cutoff frequency 16.0 is greater than lowpass cutoff frequency 0.7, setting values to 0 and Nyquist.\n",
            "  raw = mne.io.read_raw_edf(psg_path, preload=True, verbose=False)\n"
          ]
        },
        {
          "output_type": "stream",
          "name": "stdout",
          "text": [
            "   🔄 4181 — PSG: SC4181E0-PSG.edf, Hypnogram: SC4181EC-Hypnogram.edf\n",
            "NOTE: pick_channels() is a legacy function. New code should use inst.pick(...).\n"
          ]
        },
        {
          "output_type": "stream",
          "name": "stderr",
          "text": [
            "<ipython-input-5-15075ba00614>:41: RuntimeWarning: Limited 1 annotation(s) that were expanding outside the data range.\n",
            "  raw.set_annotations(mne.read_annotations(hypno_path))\n",
            "<ipython-input-5-15075ba00614>:40: RuntimeWarning: Channels contain different highpass filters. Highest filter setting will be stored.\n",
            "  raw = mne.io.read_raw_edf(psg_path, preload=True, verbose=False)\n",
            "<ipython-input-5-15075ba00614>:40: RuntimeWarning: Channels contain different lowpass filters. Lowest filter setting will be stored.\n",
            "  raw = mne.io.read_raw_edf(psg_path, preload=True, verbose=False)\n",
            "<ipython-input-5-15075ba00614>:40: RuntimeWarning: Highpass cutoff frequency 16.0 is greater than lowpass cutoff frequency 0.7, setting values to 0 and Nyquist.\n",
            "  raw = mne.io.read_raw_edf(psg_path, preload=True, verbose=False)\n"
          ]
        },
        {
          "output_type": "stream",
          "name": "stdout",
          "text": [
            "   🔄 4182 — PSG: SC4182E0-PSG.edf, Hypnogram: SC4182EC-Hypnogram.edf\n",
            "NOTE: pick_channels() is a legacy function. New code should use inst.pick(...).\n"
          ]
        },
        {
          "output_type": "stream",
          "name": "stderr",
          "text": [
            "<ipython-input-5-15075ba00614>:41: RuntimeWarning: Limited 1 annotation(s) that were expanding outside the data range.\n",
            "  raw.set_annotations(mne.read_annotations(hypno_path))\n",
            "<ipython-input-5-15075ba00614>:40: RuntimeWarning: Channels contain different highpass filters. Highest filter setting will be stored.\n",
            "  raw = mne.io.read_raw_edf(psg_path, preload=True, verbose=False)\n",
            "<ipython-input-5-15075ba00614>:40: RuntimeWarning: Channels contain different lowpass filters. Lowest filter setting will be stored.\n",
            "  raw = mne.io.read_raw_edf(psg_path, preload=True, verbose=False)\n",
            "<ipython-input-5-15075ba00614>:40: RuntimeWarning: Highpass cutoff frequency 16.0 is greater than lowpass cutoff frequency 0.7, setting values to 0 and Nyquist.\n",
            "  raw = mne.io.read_raw_edf(psg_path, preload=True, verbose=False)\n"
          ]
        },
        {
          "output_type": "stream",
          "name": "stdout",
          "text": [
            "   🔄 4191 — PSG: SC4191E0-PSG.edf, Hypnogram: SC4191EP-Hypnogram.edf\n",
            "NOTE: pick_channels() is a legacy function. New code should use inst.pick(...).\n"
          ]
        },
        {
          "output_type": "stream",
          "name": "stderr",
          "text": [
            "<ipython-input-5-15075ba00614>:41: RuntimeWarning: Limited 1 annotation(s) that were expanding outside the data range.\n",
            "  raw.set_annotations(mne.read_annotations(hypno_path))\n",
            "<ipython-input-5-15075ba00614>:40: RuntimeWarning: Channels contain different highpass filters. Highest filter setting will be stored.\n",
            "  raw = mne.io.read_raw_edf(psg_path, preload=True, verbose=False)\n",
            "<ipython-input-5-15075ba00614>:40: RuntimeWarning: Channels contain different lowpass filters. Lowest filter setting will be stored.\n",
            "  raw = mne.io.read_raw_edf(psg_path, preload=True, verbose=False)\n",
            "<ipython-input-5-15075ba00614>:40: RuntimeWarning: Highpass cutoff frequency 16.0 is greater than lowpass cutoff frequency 0.7, setting values to 0 and Nyquist.\n",
            "  raw = mne.io.read_raw_edf(psg_path, preload=True, verbose=False)\n"
          ]
        },
        {
          "output_type": "stream",
          "name": "stdout",
          "text": [
            "   🔄 4192 — PSG: SC4192E0-PSG.edf, Hypnogram: SC4192EV-Hypnogram.edf\n",
            "NOTE: pick_channels() is a legacy function. New code should use inst.pick(...).\n"
          ]
        },
        {
          "output_type": "stream",
          "name": "stderr",
          "text": [
            "<ipython-input-5-15075ba00614>:41: RuntimeWarning: Limited 1 annotation(s) that were expanding outside the data range.\n",
            "  raw.set_annotations(mne.read_annotations(hypno_path))\n",
            "<ipython-input-5-15075ba00614>:40: RuntimeWarning: Channels contain different highpass filters. Highest filter setting will be stored.\n",
            "  raw = mne.io.read_raw_edf(psg_path, preload=True, verbose=False)\n",
            "<ipython-input-5-15075ba00614>:40: RuntimeWarning: Channels contain different lowpass filters. Lowest filter setting will be stored.\n",
            "  raw = mne.io.read_raw_edf(psg_path, preload=True, verbose=False)\n",
            "<ipython-input-5-15075ba00614>:40: RuntimeWarning: Highpass cutoff frequency 16.0 is greater than lowpass cutoff frequency 0.7, setting values to 0 and Nyquist.\n",
            "  raw = mne.io.read_raw_edf(psg_path, preload=True, verbose=False)\n"
          ]
        },
        {
          "output_type": "stream",
          "name": "stdout",
          "text": [
            "   🔄 4201 — PSG: SC4201E0-PSG.edf, Hypnogram: SC4201EC-Hypnogram.edf\n",
            "NOTE: pick_channels() is a legacy function. New code should use inst.pick(...).\n"
          ]
        },
        {
          "output_type": "stream",
          "name": "stderr",
          "text": [
            "<ipython-input-5-15075ba00614>:41: RuntimeWarning: Limited 1 annotation(s) that were expanding outside the data range.\n",
            "  raw.set_annotations(mne.read_annotations(hypno_path))\n"
          ]
        },
        {
          "output_type": "stream",
          "name": "stdout",
          "text": [
            "✅ Saved: /content/drive/MyDrive/sleep_data_part2.pkl\n",
            "\n",
            "🚀 Processing chunk 3/8 (IDs: ['4202', '4211', '4212', '4221', '4222', '4231', '4232', '4241', '4242', '4251', '4252', '4261', '4262', '4271', '4272', '4281', '4282', '4291', '4292', '4301'])\n",
            "   🔄 4202 — PSG: SC4202E0-PSG.edf, Hypnogram: SC4202EC-Hypnogram.edf\n"
          ]
        },
        {
          "output_type": "stream",
          "name": "stderr",
          "text": [
            "<ipython-input-5-15075ba00614>:40: RuntimeWarning: Channels contain different highpass filters. Highest filter setting will be stored.\n",
            "  raw = mne.io.read_raw_edf(psg_path, preload=True, verbose=False)\n",
            "<ipython-input-5-15075ba00614>:40: RuntimeWarning: Channels contain different lowpass filters. Lowest filter setting will be stored.\n",
            "  raw = mne.io.read_raw_edf(psg_path, preload=True, verbose=False)\n",
            "<ipython-input-5-15075ba00614>:40: RuntimeWarning: Highpass cutoff frequency 16.0 is greater than lowpass cutoff frequency 0.7, setting values to 0 and Nyquist.\n",
            "  raw = mne.io.read_raw_edf(psg_path, preload=True, verbose=False)\n"
          ]
        },
        {
          "output_type": "stream",
          "name": "stdout",
          "text": [
            "NOTE: pick_channels() is a legacy function. New code should use inst.pick(...).\n"
          ]
        },
        {
          "output_type": "stream",
          "name": "stderr",
          "text": [
            "<ipython-input-5-15075ba00614>:41: RuntimeWarning: Limited 1 annotation(s) that were expanding outside the data range.\n",
            "  raw.set_annotations(mne.read_annotations(hypno_path))\n",
            "<ipython-input-5-15075ba00614>:40: RuntimeWarning: Channels contain different highpass filters. Highest filter setting will be stored.\n",
            "  raw = mne.io.read_raw_edf(psg_path, preload=True, verbose=False)\n",
            "<ipython-input-5-15075ba00614>:40: RuntimeWarning: Channels contain different lowpass filters. Lowest filter setting will be stored.\n",
            "  raw = mne.io.read_raw_edf(psg_path, preload=True, verbose=False)\n",
            "<ipython-input-5-15075ba00614>:40: RuntimeWarning: Highpass cutoff frequency 16.0 is greater than lowpass cutoff frequency 0.7, setting values to 0 and Nyquist.\n",
            "  raw = mne.io.read_raw_edf(psg_path, preload=True, verbose=False)\n"
          ]
        },
        {
          "output_type": "stream",
          "name": "stdout",
          "text": [
            "   🔄 4211 — PSG: SC4211E0-PSG.edf, Hypnogram: SC4211EC-Hypnogram.edf\n",
            "NOTE: pick_channels() is a legacy function. New code should use inst.pick(...).\n"
          ]
        },
        {
          "output_type": "stream",
          "name": "stderr",
          "text": [
            "<ipython-input-5-15075ba00614>:41: RuntimeWarning: Limited 1 annotation(s) that were expanding outside the data range.\n",
            "  raw.set_annotations(mne.read_annotations(hypno_path))\n",
            "<ipython-input-5-15075ba00614>:40: RuntimeWarning: Channels contain different highpass filters. Highest filter setting will be stored.\n",
            "  raw = mne.io.read_raw_edf(psg_path, preload=True, verbose=False)\n",
            "<ipython-input-5-15075ba00614>:40: RuntimeWarning: Channels contain different lowpass filters. Lowest filter setting will be stored.\n",
            "  raw = mne.io.read_raw_edf(psg_path, preload=True, verbose=False)\n",
            "<ipython-input-5-15075ba00614>:40: RuntimeWarning: Highpass cutoff frequency 16.0 is greater than lowpass cutoff frequency 0.7, setting values to 0 and Nyquist.\n",
            "  raw = mne.io.read_raw_edf(psg_path, preload=True, verbose=False)\n"
          ]
        },
        {
          "output_type": "stream",
          "name": "stdout",
          "text": [
            "   🔄 4212 — PSG: SC4212E0-PSG.edf, Hypnogram: SC4212EC-Hypnogram.edf\n",
            "NOTE: pick_channels() is a legacy function. New code should use inst.pick(...).\n"
          ]
        },
        {
          "output_type": "stream",
          "name": "stderr",
          "text": [
            "<ipython-input-5-15075ba00614>:41: RuntimeWarning: Limited 1 annotation(s) that were expanding outside the data range.\n",
            "  raw.set_annotations(mne.read_annotations(hypno_path))\n",
            "<ipython-input-5-15075ba00614>:40: RuntimeWarning: Channels contain different highpass filters. Highest filter setting will be stored.\n",
            "  raw = mne.io.read_raw_edf(psg_path, preload=True, verbose=False)\n",
            "<ipython-input-5-15075ba00614>:40: RuntimeWarning: Channels contain different lowpass filters. Lowest filter setting will be stored.\n",
            "  raw = mne.io.read_raw_edf(psg_path, preload=True, verbose=False)\n",
            "<ipython-input-5-15075ba00614>:40: RuntimeWarning: Highpass cutoff frequency 16.0 is greater than lowpass cutoff frequency 0.7, setting values to 0 and Nyquist.\n",
            "  raw = mne.io.read_raw_edf(psg_path, preload=True, verbose=False)\n"
          ]
        },
        {
          "output_type": "stream",
          "name": "stdout",
          "text": [
            "   🔄 4221 — PSG: SC4221E0-PSG.edf, Hypnogram: SC4221EJ-Hypnogram.edf\n",
            "NOTE: pick_channels() is a legacy function. New code should use inst.pick(...).\n"
          ]
        },
        {
          "output_type": "stream",
          "name": "stderr",
          "text": [
            "<ipython-input-5-15075ba00614>:41: RuntimeWarning: Limited 1 annotation(s) that were expanding outside the data range.\n",
            "  raw.set_annotations(mne.read_annotations(hypno_path))\n",
            "<ipython-input-5-15075ba00614>:40: RuntimeWarning: Channels contain different highpass filters. Highest filter setting will be stored.\n",
            "  raw = mne.io.read_raw_edf(psg_path, preload=True, verbose=False)\n",
            "<ipython-input-5-15075ba00614>:40: RuntimeWarning: Channels contain different lowpass filters. Lowest filter setting will be stored.\n",
            "  raw = mne.io.read_raw_edf(psg_path, preload=True, verbose=False)\n",
            "<ipython-input-5-15075ba00614>:40: RuntimeWarning: Highpass cutoff frequency 16.0 is greater than lowpass cutoff frequency 0.7, setting values to 0 and Nyquist.\n",
            "  raw = mne.io.read_raw_edf(psg_path, preload=True, verbose=False)\n"
          ]
        },
        {
          "output_type": "stream",
          "name": "stdout",
          "text": [
            "   🔄 4222 — PSG: SC4222E0-PSG.edf, Hypnogram: SC4222EC-Hypnogram.edf\n",
            "NOTE: pick_channels() is a legacy function. New code should use inst.pick(...).\n"
          ]
        },
        {
          "output_type": "stream",
          "name": "stderr",
          "text": [
            "<ipython-input-5-15075ba00614>:41: RuntimeWarning: Limited 1 annotation(s) that were expanding outside the data range.\n",
            "  raw.set_annotations(mne.read_annotations(hypno_path))\n",
            "<ipython-input-5-15075ba00614>:40: RuntimeWarning: Channels contain different highpass filters. Highest filter setting will be stored.\n",
            "  raw = mne.io.read_raw_edf(psg_path, preload=True, verbose=False)\n",
            "<ipython-input-5-15075ba00614>:40: RuntimeWarning: Channels contain different lowpass filters. Lowest filter setting will be stored.\n",
            "  raw = mne.io.read_raw_edf(psg_path, preload=True, verbose=False)\n",
            "<ipython-input-5-15075ba00614>:40: RuntimeWarning: Highpass cutoff frequency 16.0 is greater than lowpass cutoff frequency 0.7, setting values to 0 and Nyquist.\n",
            "  raw = mne.io.read_raw_edf(psg_path, preload=True, verbose=False)\n"
          ]
        },
        {
          "output_type": "stream",
          "name": "stdout",
          "text": [
            "   🔄 4231 — PSG: SC4231E0-PSG.edf, Hypnogram: SC4231EJ-Hypnogram.edf\n",
            "NOTE: pick_channels() is a legacy function. New code should use inst.pick(...).\n"
          ]
        },
        {
          "output_type": "stream",
          "name": "stderr",
          "text": [
            "<ipython-input-5-15075ba00614>:41: RuntimeWarning: Limited 1 annotation(s) that were expanding outside the data range.\n",
            "  raw.set_annotations(mne.read_annotations(hypno_path))\n",
            "<ipython-input-5-15075ba00614>:40: RuntimeWarning: Channels contain different highpass filters. Highest filter setting will be stored.\n",
            "  raw = mne.io.read_raw_edf(psg_path, preload=True, verbose=False)\n",
            "<ipython-input-5-15075ba00614>:40: RuntimeWarning: Channels contain different lowpass filters. Lowest filter setting will be stored.\n",
            "  raw = mne.io.read_raw_edf(psg_path, preload=True, verbose=False)\n",
            "<ipython-input-5-15075ba00614>:40: RuntimeWarning: Highpass cutoff frequency 16.0 is greater than lowpass cutoff frequency 0.7, setting values to 0 and Nyquist.\n",
            "  raw = mne.io.read_raw_edf(psg_path, preload=True, verbose=False)\n"
          ]
        },
        {
          "output_type": "stream",
          "name": "stdout",
          "text": [
            "   🔄 4232 — PSG: SC4232E0-PSG.edf, Hypnogram: SC4232EV-Hypnogram.edf\n",
            "NOTE: pick_channels() is a legacy function. New code should use inst.pick(...).\n"
          ]
        },
        {
          "output_type": "stream",
          "name": "stderr",
          "text": [
            "<ipython-input-5-15075ba00614>:41: RuntimeWarning: Limited 1 annotation(s) that were expanding outside the data range.\n",
            "  raw.set_annotations(mne.read_annotations(hypno_path))\n",
            "<ipython-input-5-15075ba00614>:40: RuntimeWarning: Channels contain different highpass filters. Highest filter setting will be stored.\n",
            "  raw = mne.io.read_raw_edf(psg_path, preload=True, verbose=False)\n",
            "<ipython-input-5-15075ba00614>:40: RuntimeWarning: Channels contain different lowpass filters. Lowest filter setting will be stored.\n",
            "  raw = mne.io.read_raw_edf(psg_path, preload=True, verbose=False)\n",
            "<ipython-input-5-15075ba00614>:40: RuntimeWarning: Highpass cutoff frequency 16.0 is greater than lowpass cutoff frequency 0.7, setting values to 0 and Nyquist.\n",
            "  raw = mne.io.read_raw_edf(psg_path, preload=True, verbose=False)\n"
          ]
        },
        {
          "output_type": "stream",
          "name": "stdout",
          "text": [
            "   🔄 4241 — PSG: SC4241E0-PSG.edf, Hypnogram: SC4241EC-Hypnogram.edf\n",
            "NOTE: pick_channels() is a legacy function. New code should use inst.pick(...).\n"
          ]
        },
        {
          "output_type": "stream",
          "name": "stderr",
          "text": [
            "<ipython-input-5-15075ba00614>:41: RuntimeWarning: Limited 1 annotation(s) that were expanding outside the data range.\n",
            "  raw.set_annotations(mne.read_annotations(hypno_path))\n",
            "<ipython-input-5-15075ba00614>:40: RuntimeWarning: Channels contain different highpass filters. Highest filter setting will be stored.\n",
            "  raw = mne.io.read_raw_edf(psg_path, preload=True, verbose=False)\n",
            "<ipython-input-5-15075ba00614>:40: RuntimeWarning: Channels contain different lowpass filters. Lowest filter setting will be stored.\n",
            "  raw = mne.io.read_raw_edf(psg_path, preload=True, verbose=False)\n",
            "<ipython-input-5-15075ba00614>:40: RuntimeWarning: Highpass cutoff frequency 16.0 is greater than lowpass cutoff frequency 0.7, setting values to 0 and Nyquist.\n",
            "  raw = mne.io.read_raw_edf(psg_path, preload=True, verbose=False)\n"
          ]
        },
        {
          "output_type": "stream",
          "name": "stdout",
          "text": [
            "   🔄 4242 — PSG: SC4242E0-PSG.edf, Hypnogram: SC4242EA-Hypnogram.edf\n",
            "NOTE: pick_channels() is a legacy function. New code should use inst.pick(...).\n"
          ]
        },
        {
          "output_type": "stream",
          "name": "stderr",
          "text": [
            "<ipython-input-5-15075ba00614>:41: RuntimeWarning: Limited 1 annotation(s) that were expanding outside the data range.\n",
            "  raw.set_annotations(mne.read_annotations(hypno_path))\n",
            "<ipython-input-5-15075ba00614>:40: RuntimeWarning: Channels contain different highpass filters. Highest filter setting will be stored.\n",
            "  raw = mne.io.read_raw_edf(psg_path, preload=True, verbose=False)\n",
            "<ipython-input-5-15075ba00614>:40: RuntimeWarning: Channels contain different lowpass filters. Lowest filter setting will be stored.\n",
            "  raw = mne.io.read_raw_edf(psg_path, preload=True, verbose=False)\n",
            "<ipython-input-5-15075ba00614>:40: RuntimeWarning: Highpass cutoff frequency 16.0 is greater than lowpass cutoff frequency 0.7, setting values to 0 and Nyquist.\n",
            "  raw = mne.io.read_raw_edf(psg_path, preload=True, verbose=False)\n"
          ]
        },
        {
          "output_type": "stream",
          "name": "stdout",
          "text": [
            "   🔄 4251 — PSG: SC4251E0-PSG.edf, Hypnogram: SC4251EP-Hypnogram.edf\n",
            "NOTE: pick_channels() is a legacy function. New code should use inst.pick(...).\n"
          ]
        },
        {
          "output_type": "stream",
          "name": "stderr",
          "text": [
            "<ipython-input-5-15075ba00614>:41: RuntimeWarning: Limited 1 annotation(s) that were expanding outside the data range.\n",
            "  raw.set_annotations(mne.read_annotations(hypno_path))\n",
            "<ipython-input-5-15075ba00614>:40: RuntimeWarning: Channels contain different highpass filters. Highest filter setting will be stored.\n",
            "  raw = mne.io.read_raw_edf(psg_path, preload=True, verbose=False)\n",
            "<ipython-input-5-15075ba00614>:40: RuntimeWarning: Channels contain different lowpass filters. Lowest filter setting will be stored.\n",
            "  raw = mne.io.read_raw_edf(psg_path, preload=True, verbose=False)\n",
            "<ipython-input-5-15075ba00614>:40: RuntimeWarning: Highpass cutoff frequency 16.0 is greater than lowpass cutoff frequency 0.7, setting values to 0 and Nyquist.\n",
            "  raw = mne.io.read_raw_edf(psg_path, preload=True, verbose=False)\n"
          ]
        },
        {
          "output_type": "stream",
          "name": "stdout",
          "text": [
            "   🔄 4252 — PSG: SC4252E0-PSG.edf, Hypnogram: SC4252EU-Hypnogram.edf\n",
            "NOTE: pick_channels() is a legacy function. New code should use inst.pick(...).\n"
          ]
        },
        {
          "output_type": "stream",
          "name": "stderr",
          "text": [
            "<ipython-input-5-15075ba00614>:41: RuntimeWarning: Limited 1 annotation(s) that were expanding outside the data range.\n",
            "  raw.set_annotations(mne.read_annotations(hypno_path))\n",
            "<ipython-input-5-15075ba00614>:40: RuntimeWarning: Channels contain different highpass filters. Highest filter setting will be stored.\n",
            "  raw = mne.io.read_raw_edf(psg_path, preload=True, verbose=False)\n",
            "<ipython-input-5-15075ba00614>:40: RuntimeWarning: Channels contain different lowpass filters. Lowest filter setting will be stored.\n",
            "  raw = mne.io.read_raw_edf(psg_path, preload=True, verbose=False)\n",
            "<ipython-input-5-15075ba00614>:40: RuntimeWarning: Highpass cutoff frequency 16.0 is greater than lowpass cutoff frequency 0.7, setting values to 0 and Nyquist.\n",
            "  raw = mne.io.read_raw_edf(psg_path, preload=True, verbose=False)\n"
          ]
        },
        {
          "output_type": "stream",
          "name": "stdout",
          "text": [
            "   🔄 4261 — PSG: SC4261F0-PSG.edf, Hypnogram: SC4261FM-Hypnogram.edf\n",
            "NOTE: pick_channels() is a legacy function. New code should use inst.pick(...).\n"
          ]
        },
        {
          "output_type": "stream",
          "name": "stderr",
          "text": [
            "<ipython-input-5-15075ba00614>:41: RuntimeWarning: Limited 1 annotation(s) that were expanding outside the data range.\n",
            "  raw.set_annotations(mne.read_annotations(hypno_path))\n",
            "<ipython-input-5-15075ba00614>:40: RuntimeWarning: Channels contain different highpass filters. Highest filter setting will be stored.\n",
            "  raw = mne.io.read_raw_edf(psg_path, preload=True, verbose=False)\n",
            "<ipython-input-5-15075ba00614>:40: RuntimeWarning: Channels contain different lowpass filters. Lowest filter setting will be stored.\n",
            "  raw = mne.io.read_raw_edf(psg_path, preload=True, verbose=False)\n",
            "<ipython-input-5-15075ba00614>:40: RuntimeWarning: Highpass cutoff frequency 16.0 is greater than lowpass cutoff frequency 0.7, setting values to 0 and Nyquist.\n",
            "  raw = mne.io.read_raw_edf(psg_path, preload=True, verbose=False)\n"
          ]
        },
        {
          "output_type": "stream",
          "name": "stdout",
          "text": [
            "   🔄 4262 — PSG: SC4262F0-PSG.edf, Hypnogram: SC4262FC-Hypnogram.edf\n",
            "NOTE: pick_channels() is a legacy function. New code should use inst.pick(...).\n"
          ]
        },
        {
          "output_type": "stream",
          "name": "stderr",
          "text": [
            "<ipython-input-5-15075ba00614>:41: RuntimeWarning: Limited 1 annotation(s) that were expanding outside the data range.\n",
            "  raw.set_annotations(mne.read_annotations(hypno_path))\n",
            "<ipython-input-5-15075ba00614>:40: RuntimeWarning: Channels contain different highpass filters. Highest filter setting will be stored.\n",
            "  raw = mne.io.read_raw_edf(psg_path, preload=True, verbose=False)\n",
            "<ipython-input-5-15075ba00614>:40: RuntimeWarning: Channels contain different lowpass filters. Lowest filter setting will be stored.\n",
            "  raw = mne.io.read_raw_edf(psg_path, preload=True, verbose=False)\n",
            "<ipython-input-5-15075ba00614>:40: RuntimeWarning: Highpass cutoff frequency 16.0 is greater than lowpass cutoff frequency 0.7, setting values to 0 and Nyquist.\n",
            "  raw = mne.io.read_raw_edf(psg_path, preload=True, verbose=False)\n"
          ]
        },
        {
          "output_type": "stream",
          "name": "stdout",
          "text": [
            "   🔄 4271 — PSG: SC4271F0-PSG.edf, Hypnogram: SC4271FC-Hypnogram.edf\n",
            "NOTE: pick_channels() is a legacy function. New code should use inst.pick(...).\n"
          ]
        },
        {
          "output_type": "stream",
          "name": "stderr",
          "text": [
            "<ipython-input-5-15075ba00614>:41: RuntimeWarning: Limited 1 annotation(s) that were expanding outside the data range.\n",
            "  raw.set_annotations(mne.read_annotations(hypno_path))\n",
            "<ipython-input-5-15075ba00614>:40: RuntimeWarning: Channels contain different highpass filters. Highest filter setting will be stored.\n",
            "  raw = mne.io.read_raw_edf(psg_path, preload=True, verbose=False)\n",
            "<ipython-input-5-15075ba00614>:40: RuntimeWarning: Channels contain different lowpass filters. Lowest filter setting will be stored.\n",
            "  raw = mne.io.read_raw_edf(psg_path, preload=True, verbose=False)\n",
            "<ipython-input-5-15075ba00614>:40: RuntimeWarning: Highpass cutoff frequency 16.0 is greater than lowpass cutoff frequency 0.7, setting values to 0 and Nyquist.\n",
            "  raw = mne.io.read_raw_edf(psg_path, preload=True, verbose=False)\n"
          ]
        },
        {
          "output_type": "stream",
          "name": "stdout",
          "text": [
            "   🔄 4272 — PSG: SC4272F0-PSG.edf, Hypnogram: SC4272FM-Hypnogram.edf\n",
            "NOTE: pick_channels() is a legacy function. New code should use inst.pick(...).\n"
          ]
        },
        {
          "output_type": "stream",
          "name": "stderr",
          "text": [
            "<ipython-input-5-15075ba00614>:41: RuntimeWarning: Limited 1 annotation(s) that were expanding outside the data range.\n",
            "  raw.set_annotations(mne.read_annotations(hypno_path))\n",
            "<ipython-input-5-15075ba00614>:40: RuntimeWarning: Channels contain different highpass filters. Highest filter setting will be stored.\n",
            "  raw = mne.io.read_raw_edf(psg_path, preload=True, verbose=False)\n",
            "<ipython-input-5-15075ba00614>:40: RuntimeWarning: Channels contain different lowpass filters. Lowest filter setting will be stored.\n",
            "  raw = mne.io.read_raw_edf(psg_path, preload=True, verbose=False)\n",
            "<ipython-input-5-15075ba00614>:40: RuntimeWarning: Highpass cutoff frequency 16.0 is greater than lowpass cutoff frequency 0.7, setting values to 0 and Nyquist.\n",
            "  raw = mne.io.read_raw_edf(psg_path, preload=True, verbose=False)\n"
          ]
        },
        {
          "output_type": "stream",
          "name": "stdout",
          "text": [
            "   🔄 4281 — PSG: SC4281G0-PSG.edf, Hypnogram: SC4281GC-Hypnogram.edf\n",
            "NOTE: pick_channels() is a legacy function. New code should use inst.pick(...).\n"
          ]
        },
        {
          "output_type": "stream",
          "name": "stderr",
          "text": [
            "<ipython-input-5-15075ba00614>:41: RuntimeWarning: Limited 1 annotation(s) that were expanding outside the data range.\n",
            "  raw.set_annotations(mne.read_annotations(hypno_path))\n",
            "<ipython-input-5-15075ba00614>:40: RuntimeWarning: Channels contain different highpass filters. Highest filter setting will be stored.\n",
            "  raw = mne.io.read_raw_edf(psg_path, preload=True, verbose=False)\n",
            "<ipython-input-5-15075ba00614>:40: RuntimeWarning: Channels contain different lowpass filters. Lowest filter setting will be stored.\n",
            "  raw = mne.io.read_raw_edf(psg_path, preload=True, verbose=False)\n",
            "<ipython-input-5-15075ba00614>:40: RuntimeWarning: Highpass cutoff frequency 16.0 is greater than lowpass cutoff frequency 0.7, setting values to 0 and Nyquist.\n",
            "  raw = mne.io.read_raw_edf(psg_path, preload=True, verbose=False)\n"
          ]
        },
        {
          "output_type": "stream",
          "name": "stdout",
          "text": [
            "   🔄 4282 — PSG: SC4282G0-PSG.edf, Hypnogram: SC4282GC-Hypnogram.edf\n",
            "NOTE: pick_channels() is a legacy function. New code should use inst.pick(...).\n"
          ]
        },
        {
          "output_type": "stream",
          "name": "stderr",
          "text": [
            "<ipython-input-5-15075ba00614>:41: RuntimeWarning: Limited 1 annotation(s) that were expanding outside the data range.\n",
            "  raw.set_annotations(mne.read_annotations(hypno_path))\n",
            "<ipython-input-5-15075ba00614>:40: RuntimeWarning: Channels contain different highpass filters. Highest filter setting will be stored.\n",
            "  raw = mne.io.read_raw_edf(psg_path, preload=True, verbose=False)\n",
            "<ipython-input-5-15075ba00614>:40: RuntimeWarning: Channels contain different lowpass filters. Lowest filter setting will be stored.\n",
            "  raw = mne.io.read_raw_edf(psg_path, preload=True, verbose=False)\n",
            "<ipython-input-5-15075ba00614>:40: RuntimeWarning: Highpass cutoff frequency 16.0 is greater than lowpass cutoff frequency 0.7, setting values to 0 and Nyquist.\n",
            "  raw = mne.io.read_raw_edf(psg_path, preload=True, verbose=False)\n"
          ]
        },
        {
          "output_type": "stream",
          "name": "stdout",
          "text": [
            "   🔄 4291 — PSG: SC4291G0-PSG.edf, Hypnogram: SC4291GA-Hypnogram.edf\n",
            "NOTE: pick_channels() is a legacy function. New code should use inst.pick(...).\n"
          ]
        },
        {
          "output_type": "stream",
          "name": "stderr",
          "text": [
            "<ipython-input-5-15075ba00614>:41: RuntimeWarning: Limited 1 annotation(s) that were expanding outside the data range.\n",
            "  raw.set_annotations(mne.read_annotations(hypno_path))\n",
            "<ipython-input-5-15075ba00614>:40: RuntimeWarning: Channels contain different highpass filters. Highest filter setting will be stored.\n",
            "  raw = mne.io.read_raw_edf(psg_path, preload=True, verbose=False)\n",
            "<ipython-input-5-15075ba00614>:40: RuntimeWarning: Channels contain different lowpass filters. Lowest filter setting will be stored.\n",
            "  raw = mne.io.read_raw_edf(psg_path, preload=True, verbose=False)\n",
            "<ipython-input-5-15075ba00614>:40: RuntimeWarning: Highpass cutoff frequency 16.0 is greater than lowpass cutoff frequency 0.7, setting values to 0 and Nyquist.\n",
            "  raw = mne.io.read_raw_edf(psg_path, preload=True, verbose=False)\n"
          ]
        },
        {
          "output_type": "stream",
          "name": "stdout",
          "text": [
            "   🔄 4292 — PSG: SC4292G0-PSG.edf, Hypnogram: SC4292GC-Hypnogram.edf\n",
            "NOTE: pick_channels() is a legacy function. New code should use inst.pick(...).\n"
          ]
        },
        {
          "output_type": "stream",
          "name": "stderr",
          "text": [
            "<ipython-input-5-15075ba00614>:41: RuntimeWarning: Limited 1 annotation(s) that were expanding outside the data range.\n",
            "  raw.set_annotations(mne.read_annotations(hypno_path))\n",
            "<ipython-input-5-15075ba00614>:40: RuntimeWarning: Channels contain different highpass filters. Highest filter setting will be stored.\n",
            "  raw = mne.io.read_raw_edf(psg_path, preload=True, verbose=False)\n",
            "<ipython-input-5-15075ba00614>:40: RuntimeWarning: Channels contain different lowpass filters. Lowest filter setting will be stored.\n",
            "  raw = mne.io.read_raw_edf(psg_path, preload=True, verbose=False)\n",
            "<ipython-input-5-15075ba00614>:40: RuntimeWarning: Highpass cutoff frequency 16.0 is greater than lowpass cutoff frequency 0.7, setting values to 0 and Nyquist.\n",
            "  raw = mne.io.read_raw_edf(psg_path, preload=True, verbose=False)\n"
          ]
        },
        {
          "output_type": "stream",
          "name": "stdout",
          "text": [
            "   🔄 4301 — PSG: SC4301E0-PSG.edf, Hypnogram: SC4301EC-Hypnogram.edf\n",
            "NOTE: pick_channels() is a legacy function. New code should use inst.pick(...).\n"
          ]
        },
        {
          "output_type": "stream",
          "name": "stderr",
          "text": [
            "<ipython-input-5-15075ba00614>:41: RuntimeWarning: Limited 1 annotation(s) that were expanding outside the data range.\n",
            "  raw.set_annotations(mne.read_annotations(hypno_path))\n"
          ]
        },
        {
          "output_type": "stream",
          "name": "stdout",
          "text": [
            "✅ Saved: /content/drive/MyDrive/sleep_data_part3.pkl\n",
            "\n",
            "🚀 Processing chunk 4/8 (IDs: ['4302', '4311', '4312', '4321', '4322', '4331', '4332', '4341', '4342', '4351', '4352', '4362', '4371', '4372', '4381', '4382', '4401', '4402', '4411', '4412'])\n",
            "   🔄 4302 — PSG: SC4302E0-PSG.edf, Hypnogram: SC4302EV-Hypnogram.edf\n"
          ]
        },
        {
          "output_type": "stream",
          "name": "stderr",
          "text": [
            "<ipython-input-5-15075ba00614>:40: RuntimeWarning: Channels contain different highpass filters. Highest filter setting will be stored.\n",
            "  raw = mne.io.read_raw_edf(psg_path, preload=True, verbose=False)\n",
            "<ipython-input-5-15075ba00614>:40: RuntimeWarning: Channels contain different lowpass filters. Lowest filter setting will be stored.\n",
            "  raw = mne.io.read_raw_edf(psg_path, preload=True, verbose=False)\n",
            "<ipython-input-5-15075ba00614>:40: RuntimeWarning: Highpass cutoff frequency 16.0 is greater than lowpass cutoff frequency 0.7, setting values to 0 and Nyquist.\n",
            "  raw = mne.io.read_raw_edf(psg_path, preload=True, verbose=False)\n"
          ]
        },
        {
          "output_type": "stream",
          "name": "stdout",
          "text": [
            "NOTE: pick_channels() is a legacy function. New code should use inst.pick(...).\n"
          ]
        },
        {
          "output_type": "stream",
          "name": "stderr",
          "text": [
            "<ipython-input-5-15075ba00614>:41: RuntimeWarning: Limited 1 annotation(s) that were expanding outside the data range.\n",
            "  raw.set_annotations(mne.read_annotations(hypno_path))\n",
            "<ipython-input-5-15075ba00614>:40: RuntimeWarning: Channels contain different highpass filters. Highest filter setting will be stored.\n",
            "  raw = mne.io.read_raw_edf(psg_path, preload=True, verbose=False)\n",
            "<ipython-input-5-15075ba00614>:40: RuntimeWarning: Channels contain different lowpass filters. Lowest filter setting will be stored.\n",
            "  raw = mne.io.read_raw_edf(psg_path, preload=True, verbose=False)\n",
            "<ipython-input-5-15075ba00614>:40: RuntimeWarning: Highpass cutoff frequency 16.0 is greater than lowpass cutoff frequency 0.7, setting values to 0 and Nyquist.\n",
            "  raw = mne.io.read_raw_edf(psg_path, preload=True, verbose=False)\n"
          ]
        },
        {
          "output_type": "stream",
          "name": "stdout",
          "text": [
            "   🔄 4311 — PSG: SC4311E0-PSG.edf, Hypnogram: SC4311EC-Hypnogram.edf\n",
            "NOTE: pick_channels() is a legacy function. New code should use inst.pick(...).\n"
          ]
        },
        {
          "output_type": "stream",
          "name": "stderr",
          "text": [
            "<ipython-input-5-15075ba00614>:41: RuntimeWarning: Limited 1 annotation(s) that were expanding outside the data range.\n",
            "  raw.set_annotations(mne.read_annotations(hypno_path))\n",
            "<ipython-input-5-15075ba00614>:40: RuntimeWarning: Channels contain different highpass filters. Highest filter setting will be stored.\n",
            "  raw = mne.io.read_raw_edf(psg_path, preload=True, verbose=False)\n",
            "<ipython-input-5-15075ba00614>:40: RuntimeWarning: Channels contain different lowpass filters. Lowest filter setting will be stored.\n",
            "  raw = mne.io.read_raw_edf(psg_path, preload=True, verbose=False)\n",
            "<ipython-input-5-15075ba00614>:40: RuntimeWarning: Highpass cutoff frequency 16.0 is greater than lowpass cutoff frequency 0.7, setting values to 0 and Nyquist.\n",
            "  raw = mne.io.read_raw_edf(psg_path, preload=True, verbose=False)\n"
          ]
        },
        {
          "output_type": "stream",
          "name": "stdout",
          "text": [
            "   🔄 4312 — PSG: SC4312E0-PSG.edf, Hypnogram: SC4312EM-Hypnogram.edf\n",
            "NOTE: pick_channels() is a legacy function. New code should use inst.pick(...).\n"
          ]
        },
        {
          "output_type": "stream",
          "name": "stderr",
          "text": [
            "<ipython-input-5-15075ba00614>:41: RuntimeWarning: Limited 1 annotation(s) that were expanding outside the data range.\n",
            "  raw.set_annotations(mne.read_annotations(hypno_path))\n",
            "<ipython-input-5-15075ba00614>:40: RuntimeWarning: Channels contain different highpass filters. Highest filter setting will be stored.\n",
            "  raw = mne.io.read_raw_edf(psg_path, preload=True, verbose=False)\n",
            "<ipython-input-5-15075ba00614>:40: RuntimeWarning: Channels contain different lowpass filters. Lowest filter setting will be stored.\n",
            "  raw = mne.io.read_raw_edf(psg_path, preload=True, verbose=False)\n",
            "<ipython-input-5-15075ba00614>:40: RuntimeWarning: Highpass cutoff frequency 16.0 is greater than lowpass cutoff frequency 0.7, setting values to 0 and Nyquist.\n",
            "  raw = mne.io.read_raw_edf(psg_path, preload=True, verbose=False)\n"
          ]
        },
        {
          "output_type": "stream",
          "name": "stdout",
          "text": [
            "   🔄 4321 — PSG: SC4321E0-PSG.edf, Hypnogram: SC4321EC-Hypnogram.edf\n",
            "NOTE: pick_channels() is a legacy function. New code should use inst.pick(...).\n"
          ]
        },
        {
          "output_type": "stream",
          "name": "stderr",
          "text": [
            "<ipython-input-5-15075ba00614>:41: RuntimeWarning: Limited 1 annotation(s) that were expanding outside the data range.\n",
            "  raw.set_annotations(mne.read_annotations(hypno_path))\n"
          ]
        },
        {
          "output_type": "stream",
          "name": "stdout",
          "text": [
            "   🔄 4322 — PSG: SC4322E0-PSG.edf, Hypnogram: SC4322EC-Hypnogram.edf\n"
          ]
        },
        {
          "output_type": "stream",
          "name": "stderr",
          "text": [
            "<ipython-input-5-15075ba00614>:40: RuntimeWarning: Channels contain different highpass filters. Highest filter setting will be stored.\n",
            "  raw = mne.io.read_raw_edf(psg_path, preload=True, verbose=False)\n",
            "<ipython-input-5-15075ba00614>:40: RuntimeWarning: Channels contain different lowpass filters. Lowest filter setting will be stored.\n",
            "  raw = mne.io.read_raw_edf(psg_path, preload=True, verbose=False)\n",
            "<ipython-input-5-15075ba00614>:40: RuntimeWarning: Highpass cutoff frequency 16.0 is greater than lowpass cutoff frequency 0.7, setting values to 0 and Nyquist.\n",
            "  raw = mne.io.read_raw_edf(psg_path, preload=True, verbose=False)\n"
          ]
        },
        {
          "output_type": "stream",
          "name": "stdout",
          "text": [
            "NOTE: pick_channels() is a legacy function. New code should use inst.pick(...).\n"
          ]
        },
        {
          "output_type": "stream",
          "name": "stderr",
          "text": [
            "<ipython-input-5-15075ba00614>:41: RuntimeWarning: Limited 1 annotation(s) that were expanding outside the data range.\n",
            "  raw.set_annotations(mne.read_annotations(hypno_path))\n",
            "<ipython-input-5-15075ba00614>:40: RuntimeWarning: Channels contain different highpass filters. Highest filter setting will be stored.\n",
            "  raw = mne.io.read_raw_edf(psg_path, preload=True, verbose=False)\n",
            "<ipython-input-5-15075ba00614>:40: RuntimeWarning: Channels contain different lowpass filters. Lowest filter setting will be stored.\n",
            "  raw = mne.io.read_raw_edf(psg_path, preload=True, verbose=False)\n",
            "<ipython-input-5-15075ba00614>:40: RuntimeWarning: Highpass cutoff frequency 16.0 is greater than lowpass cutoff frequency 0.7, setting values to 0 and Nyquist.\n",
            "  raw = mne.io.read_raw_edf(psg_path, preload=True, verbose=False)\n"
          ]
        },
        {
          "output_type": "stream",
          "name": "stdout",
          "text": [
            "   🔄 4331 — PSG: SC4331F0-PSG.edf, Hypnogram: SC4331FV-Hypnogram.edf\n",
            "NOTE: pick_channels() is a legacy function. New code should use inst.pick(...).\n"
          ]
        },
        {
          "output_type": "stream",
          "name": "stderr",
          "text": [
            "<ipython-input-5-15075ba00614>:41: RuntimeWarning: Limited 1 annotation(s) that were expanding outside the data range.\n",
            "  raw.set_annotations(mne.read_annotations(hypno_path))\n",
            "<ipython-input-5-15075ba00614>:40: RuntimeWarning: Channels contain different highpass filters. Highest filter setting will be stored.\n",
            "  raw = mne.io.read_raw_edf(psg_path, preload=True, verbose=False)\n",
            "<ipython-input-5-15075ba00614>:40: RuntimeWarning: Channels contain different lowpass filters. Lowest filter setting will be stored.\n",
            "  raw = mne.io.read_raw_edf(psg_path, preload=True, verbose=False)\n",
            "<ipython-input-5-15075ba00614>:40: RuntimeWarning: Highpass cutoff frequency 16.0 is greater than lowpass cutoff frequency 0.7, setting values to 0 and Nyquist.\n",
            "  raw = mne.io.read_raw_edf(psg_path, preload=True, verbose=False)\n"
          ]
        },
        {
          "output_type": "stream",
          "name": "stdout",
          "text": [
            "   🔄 4332 — PSG: SC4332F0-PSG.edf, Hypnogram: SC4332FC-Hypnogram.edf\n",
            "NOTE: pick_channels() is a legacy function. New code should use inst.pick(...).\n"
          ]
        },
        {
          "output_type": "stream",
          "name": "stderr",
          "text": [
            "<ipython-input-5-15075ba00614>:41: RuntimeWarning: Limited 1 annotation(s) that were expanding outside the data range.\n",
            "  raw.set_annotations(mne.read_annotations(hypno_path))\n",
            "<ipython-input-5-15075ba00614>:40: RuntimeWarning: Channels contain different highpass filters. Highest filter setting will be stored.\n",
            "  raw = mne.io.read_raw_edf(psg_path, preload=True, verbose=False)\n",
            "<ipython-input-5-15075ba00614>:40: RuntimeWarning: Channels contain different lowpass filters. Lowest filter setting will be stored.\n",
            "  raw = mne.io.read_raw_edf(psg_path, preload=True, verbose=False)\n",
            "<ipython-input-5-15075ba00614>:40: RuntimeWarning: Highpass cutoff frequency 16.0 is greater than lowpass cutoff frequency 0.7, setting values to 0 and Nyquist.\n",
            "  raw = mne.io.read_raw_edf(psg_path, preload=True, verbose=False)\n"
          ]
        },
        {
          "output_type": "stream",
          "name": "stdout",
          "text": [
            "   🔄 4341 — PSG: SC4341F0-PSG.edf, Hypnogram: SC4341FA-Hypnogram.edf\n",
            "NOTE: pick_channels() is a legacy function. New code should use inst.pick(...).\n"
          ]
        },
        {
          "output_type": "stream",
          "name": "stderr",
          "text": [
            "<ipython-input-5-15075ba00614>:41: RuntimeWarning: Limited 1 annotation(s) that were expanding outside the data range.\n",
            "  raw.set_annotations(mne.read_annotations(hypno_path))\n",
            "<ipython-input-5-15075ba00614>:40: RuntimeWarning: Channels contain different highpass filters. Highest filter setting will be stored.\n",
            "  raw = mne.io.read_raw_edf(psg_path, preload=True, verbose=False)\n",
            "<ipython-input-5-15075ba00614>:40: RuntimeWarning: Channels contain different lowpass filters. Lowest filter setting will be stored.\n",
            "  raw = mne.io.read_raw_edf(psg_path, preload=True, verbose=False)\n",
            "<ipython-input-5-15075ba00614>:40: RuntimeWarning: Highpass cutoff frequency 16.0 is greater than lowpass cutoff frequency 0.7, setting values to 0 and Nyquist.\n",
            "  raw = mne.io.read_raw_edf(psg_path, preload=True, verbose=False)\n"
          ]
        },
        {
          "output_type": "stream",
          "name": "stdout",
          "text": [
            "   🔄 4342 — PSG: SC4342F0-PSG.edf, Hypnogram: SC4342FA-Hypnogram.edf\n",
            "NOTE: pick_channels() is a legacy function. New code should use inst.pick(...).\n"
          ]
        },
        {
          "output_type": "stream",
          "name": "stderr",
          "text": [
            "<ipython-input-5-15075ba00614>:41: RuntimeWarning: Limited 1 annotation(s) that were expanding outside the data range.\n",
            "  raw.set_annotations(mne.read_annotations(hypno_path))\n",
            "<ipython-input-5-15075ba00614>:40: RuntimeWarning: Channels contain different highpass filters. Highest filter setting will be stored.\n",
            "  raw = mne.io.read_raw_edf(psg_path, preload=True, verbose=False)\n",
            "<ipython-input-5-15075ba00614>:40: RuntimeWarning: Channels contain different lowpass filters. Lowest filter setting will be stored.\n",
            "  raw = mne.io.read_raw_edf(psg_path, preload=True, verbose=False)\n",
            "<ipython-input-5-15075ba00614>:40: RuntimeWarning: Highpass cutoff frequency 16.0 is greater than lowpass cutoff frequency 0.7, setting values to 0 and Nyquist.\n",
            "  raw = mne.io.read_raw_edf(psg_path, preload=True, verbose=False)\n"
          ]
        },
        {
          "output_type": "stream",
          "name": "stdout",
          "text": [
            "   🔄 4351 — PSG: SC4351F0-PSG.edf, Hypnogram: SC4351FA-Hypnogram.edf\n",
            "NOTE: pick_channels() is a legacy function. New code should use inst.pick(...).\n"
          ]
        },
        {
          "output_type": "stream",
          "name": "stderr",
          "text": [
            "<ipython-input-5-15075ba00614>:41: RuntimeWarning: Limited 1 annotation(s) that were expanding outside the data range.\n",
            "  raw.set_annotations(mne.read_annotations(hypno_path))\n",
            "<ipython-input-5-15075ba00614>:40: RuntimeWarning: Channels contain different highpass filters. Highest filter setting will be stored.\n",
            "  raw = mne.io.read_raw_edf(psg_path, preload=True, verbose=False)\n",
            "<ipython-input-5-15075ba00614>:40: RuntimeWarning: Channels contain different lowpass filters. Lowest filter setting will be stored.\n",
            "  raw = mne.io.read_raw_edf(psg_path, preload=True, verbose=False)\n",
            "<ipython-input-5-15075ba00614>:40: RuntimeWarning: Highpass cutoff frequency 16.0 is greater than lowpass cutoff frequency 0.7, setting values to 0 and Nyquist.\n",
            "  raw = mne.io.read_raw_edf(psg_path, preload=True, verbose=False)\n"
          ]
        },
        {
          "output_type": "stream",
          "name": "stdout",
          "text": [
            "   🔄 4352 — PSG: SC4352F0-PSG.edf, Hypnogram: SC4352FV-Hypnogram.edf\n",
            "NOTE: pick_channels() is a legacy function. New code should use inst.pick(...).\n"
          ]
        },
        {
          "output_type": "stream",
          "name": "stderr",
          "text": [
            "<ipython-input-5-15075ba00614>:41: RuntimeWarning: Limited 1 annotation(s) that were expanding outside the data range.\n",
            "  raw.set_annotations(mne.read_annotations(hypno_path))\n",
            "<ipython-input-5-15075ba00614>:40: RuntimeWarning: Channels contain different highpass filters. Highest filter setting will be stored.\n",
            "  raw = mne.io.read_raw_edf(psg_path, preload=True, verbose=False)\n",
            "<ipython-input-5-15075ba00614>:40: RuntimeWarning: Channels contain different lowpass filters. Lowest filter setting will be stored.\n",
            "  raw = mne.io.read_raw_edf(psg_path, preload=True, verbose=False)\n",
            "<ipython-input-5-15075ba00614>:40: RuntimeWarning: Highpass cutoff frequency 16.0 is greater than lowpass cutoff frequency 0.7, setting values to 0 and Nyquist.\n",
            "  raw = mne.io.read_raw_edf(psg_path, preload=True, verbose=False)\n"
          ]
        },
        {
          "output_type": "stream",
          "name": "stdout",
          "text": [
            "   🔄 4362 — PSG: SC4362F0-PSG.edf, Hypnogram: SC4362FC-Hypnogram.edf\n",
            "NOTE: pick_channels() is a legacy function. New code should use inst.pick(...).\n"
          ]
        },
        {
          "output_type": "stream",
          "name": "stderr",
          "text": [
            "<ipython-input-5-15075ba00614>:41: RuntimeWarning: Omitted 1 annotation(s) that were outside data range.\n",
            "  raw.set_annotations(mne.read_annotations(hypno_path))\n",
            "<ipython-input-5-15075ba00614>:41: RuntimeWarning: Limited 1 annotation(s) that were expanding outside the data range.\n",
            "  raw.set_annotations(mne.read_annotations(hypno_path))\n",
            "<ipython-input-5-15075ba00614>:40: RuntimeWarning: Channels contain different highpass filters. Highest filter setting will be stored.\n",
            "  raw = mne.io.read_raw_edf(psg_path, preload=True, verbose=False)\n",
            "<ipython-input-5-15075ba00614>:40: RuntimeWarning: Channels contain different lowpass filters. Lowest filter setting will be stored.\n",
            "  raw = mne.io.read_raw_edf(psg_path, preload=True, verbose=False)\n",
            "<ipython-input-5-15075ba00614>:40: RuntimeWarning: Highpass cutoff frequency 16.0 is greater than lowpass cutoff frequency 0.7, setting values to 0 and Nyquist.\n",
            "  raw = mne.io.read_raw_edf(psg_path, preload=True, verbose=False)\n"
          ]
        },
        {
          "output_type": "stream",
          "name": "stdout",
          "text": [
            "   🔄 4371 — PSG: SC4371F0-PSG.edf, Hypnogram: SC4371FA-Hypnogram.edf\n",
            "NOTE: pick_channels() is a legacy function. New code should use inst.pick(...).\n"
          ]
        },
        {
          "output_type": "stream",
          "name": "stderr",
          "text": [
            "<ipython-input-5-15075ba00614>:41: RuntimeWarning: Limited 1 annotation(s) that were expanding outside the data range.\n",
            "  raw.set_annotations(mne.read_annotations(hypno_path))\n",
            "<ipython-input-5-15075ba00614>:40: RuntimeWarning: Channels contain different highpass filters. Highest filter setting will be stored.\n",
            "  raw = mne.io.read_raw_edf(psg_path, preload=True, verbose=False)\n",
            "<ipython-input-5-15075ba00614>:40: RuntimeWarning: Channels contain different lowpass filters. Lowest filter setting will be stored.\n",
            "  raw = mne.io.read_raw_edf(psg_path, preload=True, verbose=False)\n",
            "<ipython-input-5-15075ba00614>:40: RuntimeWarning: Highpass cutoff frequency 16.0 is greater than lowpass cutoff frequency 0.7, setting values to 0 and Nyquist.\n",
            "  raw = mne.io.read_raw_edf(psg_path, preload=True, verbose=False)\n"
          ]
        },
        {
          "output_type": "stream",
          "name": "stdout",
          "text": [
            "   🔄 4372 — PSG: SC4372F0-PSG.edf, Hypnogram: SC4372FC-Hypnogram.edf\n",
            "NOTE: pick_channels() is a legacy function. New code should use inst.pick(...).\n"
          ]
        },
        {
          "output_type": "stream",
          "name": "stderr",
          "text": [
            "<ipython-input-5-15075ba00614>:41: RuntimeWarning: Limited 1 annotation(s) that were expanding outside the data range.\n",
            "  raw.set_annotations(mne.read_annotations(hypno_path))\n",
            "<ipython-input-5-15075ba00614>:40: RuntimeWarning: Channels contain different highpass filters. Highest filter setting will be stored.\n",
            "  raw = mne.io.read_raw_edf(psg_path, preload=True, verbose=False)\n",
            "<ipython-input-5-15075ba00614>:40: RuntimeWarning: Channels contain different lowpass filters. Lowest filter setting will be stored.\n",
            "  raw = mne.io.read_raw_edf(psg_path, preload=True, verbose=False)\n",
            "<ipython-input-5-15075ba00614>:40: RuntimeWarning: Highpass cutoff frequency 16.0 is greater than lowpass cutoff frequency 0.7, setting values to 0 and Nyquist.\n",
            "  raw = mne.io.read_raw_edf(psg_path, preload=True, verbose=False)\n"
          ]
        },
        {
          "output_type": "stream",
          "name": "stdout",
          "text": [
            "   🔄 4381 — PSG: SC4381F0-PSG.edf, Hypnogram: SC4381FC-Hypnogram.edf\n",
            "NOTE: pick_channels() is a legacy function. New code should use inst.pick(...).\n"
          ]
        },
        {
          "output_type": "stream",
          "name": "stderr",
          "text": [
            "<ipython-input-5-15075ba00614>:41: RuntimeWarning: Limited 1 annotation(s) that were expanding outside the data range.\n",
            "  raw.set_annotations(mne.read_annotations(hypno_path))\n",
            "<ipython-input-5-15075ba00614>:40: RuntimeWarning: Channels contain different highpass filters. Highest filter setting will be stored.\n",
            "  raw = mne.io.read_raw_edf(psg_path, preload=True, verbose=False)\n",
            "<ipython-input-5-15075ba00614>:40: RuntimeWarning: Channels contain different lowpass filters. Lowest filter setting will be stored.\n",
            "  raw = mne.io.read_raw_edf(psg_path, preload=True, verbose=False)\n",
            "<ipython-input-5-15075ba00614>:40: RuntimeWarning: Highpass cutoff frequency 16.0 is greater than lowpass cutoff frequency 0.7, setting values to 0 and Nyquist.\n",
            "  raw = mne.io.read_raw_edf(psg_path, preload=True, verbose=False)\n"
          ]
        },
        {
          "output_type": "stream",
          "name": "stdout",
          "text": [
            "   🔄 4382 — PSG: SC4382F0-PSG.edf, Hypnogram: SC4382FW-Hypnogram.edf\n",
            "NOTE: pick_channels() is a legacy function. New code should use inst.pick(...).\n"
          ]
        },
        {
          "output_type": "stream",
          "name": "stderr",
          "text": [
            "<ipython-input-5-15075ba00614>:41: RuntimeWarning: Limited 1 annotation(s) that were expanding outside the data range.\n",
            "  raw.set_annotations(mne.read_annotations(hypno_path))\n",
            "<ipython-input-5-15075ba00614>:40: RuntimeWarning: Channels contain different highpass filters. Highest filter setting will be stored.\n",
            "  raw = mne.io.read_raw_edf(psg_path, preload=True, verbose=False)\n",
            "<ipython-input-5-15075ba00614>:40: RuntimeWarning: Channels contain different lowpass filters. Lowest filter setting will be stored.\n",
            "  raw = mne.io.read_raw_edf(psg_path, preload=True, verbose=False)\n",
            "<ipython-input-5-15075ba00614>:40: RuntimeWarning: Highpass cutoff frequency 16.0 is greater than lowpass cutoff frequency 0.7, setting values to 0 and Nyquist.\n",
            "  raw = mne.io.read_raw_edf(psg_path, preload=True, verbose=False)\n"
          ]
        },
        {
          "output_type": "stream",
          "name": "stdout",
          "text": [
            "   🔄 4401 — PSG: SC4401E0-PSG.edf, Hypnogram: SC4401EC-Hypnogram.edf\n",
            "NOTE: pick_channels() is a legacy function. New code should use inst.pick(...).\n"
          ]
        },
        {
          "output_type": "stream",
          "name": "stderr",
          "text": [
            "<ipython-input-5-15075ba00614>:41: RuntimeWarning: Limited 1 annotation(s) that were expanding outside the data range.\n",
            "  raw.set_annotations(mne.read_annotations(hypno_path))\n",
            "<ipython-input-5-15075ba00614>:40: RuntimeWarning: Channels contain different highpass filters. Highest filter setting will be stored.\n",
            "  raw = mne.io.read_raw_edf(psg_path, preload=True, verbose=False)\n",
            "<ipython-input-5-15075ba00614>:40: RuntimeWarning: Channels contain different lowpass filters. Lowest filter setting will be stored.\n",
            "  raw = mne.io.read_raw_edf(psg_path, preload=True, verbose=False)\n",
            "<ipython-input-5-15075ba00614>:40: RuntimeWarning: Highpass cutoff frequency 16.0 is greater than lowpass cutoff frequency 0.7, setting values to 0 and Nyquist.\n",
            "  raw = mne.io.read_raw_edf(psg_path, preload=True, verbose=False)\n"
          ]
        },
        {
          "output_type": "stream",
          "name": "stdout",
          "text": [
            "   🔄 4402 — PSG: SC4402E0-PSG.edf, Hypnogram: SC4402EW-Hypnogram.edf\n",
            "NOTE: pick_channels() is a legacy function. New code should use inst.pick(...).\n"
          ]
        },
        {
          "output_type": "stream",
          "name": "stderr",
          "text": [
            "<ipython-input-5-15075ba00614>:41: RuntimeWarning: Limited 1 annotation(s) that were expanding outside the data range.\n",
            "  raw.set_annotations(mne.read_annotations(hypno_path))\n",
            "<ipython-input-5-15075ba00614>:40: RuntimeWarning: Channels contain different highpass filters. Highest filter setting will be stored.\n",
            "  raw = mne.io.read_raw_edf(psg_path, preload=True, verbose=False)\n",
            "<ipython-input-5-15075ba00614>:40: RuntimeWarning: Channels contain different lowpass filters. Lowest filter setting will be stored.\n",
            "  raw = mne.io.read_raw_edf(psg_path, preload=True, verbose=False)\n",
            "<ipython-input-5-15075ba00614>:40: RuntimeWarning: Highpass cutoff frequency 16.0 is greater than lowpass cutoff frequency 0.7, setting values to 0 and Nyquist.\n",
            "  raw = mne.io.read_raw_edf(psg_path, preload=True, verbose=False)\n"
          ]
        },
        {
          "output_type": "stream",
          "name": "stdout",
          "text": [
            "   🔄 4411 — PSG: SC4411E0-PSG.edf, Hypnogram: SC4411EJ-Hypnogram.edf\n",
            "NOTE: pick_channels() is a legacy function. New code should use inst.pick(...).\n"
          ]
        },
        {
          "output_type": "stream",
          "name": "stderr",
          "text": [
            "<ipython-input-5-15075ba00614>:41: RuntimeWarning: Limited 1 annotation(s) that were expanding outside the data range.\n",
            "  raw.set_annotations(mne.read_annotations(hypno_path))\n",
            "<ipython-input-5-15075ba00614>:40: RuntimeWarning: Channels contain different highpass filters. Highest filter setting will be stored.\n",
            "  raw = mne.io.read_raw_edf(psg_path, preload=True, verbose=False)\n",
            "<ipython-input-5-15075ba00614>:40: RuntimeWarning: Channels contain different lowpass filters. Lowest filter setting will be stored.\n",
            "  raw = mne.io.read_raw_edf(psg_path, preload=True, verbose=False)\n",
            "<ipython-input-5-15075ba00614>:40: RuntimeWarning: Highpass cutoff frequency 16.0 is greater than lowpass cutoff frequency 0.7, setting values to 0 and Nyquist.\n",
            "  raw = mne.io.read_raw_edf(psg_path, preload=True, verbose=False)\n"
          ]
        },
        {
          "output_type": "stream",
          "name": "stdout",
          "text": [
            "   🔄 4412 — PSG: SC4412E0-PSG.edf, Hypnogram: SC4412EM-Hypnogram.edf\n",
            "NOTE: pick_channels() is a legacy function. New code should use inst.pick(...).\n"
          ]
        },
        {
          "output_type": "stream",
          "name": "stderr",
          "text": [
            "<ipython-input-5-15075ba00614>:41: RuntimeWarning: Limited 1 annotation(s) that were expanding outside the data range.\n",
            "  raw.set_annotations(mne.read_annotations(hypno_path))\n"
          ]
        },
        {
          "output_type": "stream",
          "name": "stdout",
          "text": [
            "✅ Saved: /content/drive/MyDrive/sleep_data_part4.pkl\n",
            "\n",
            "🚀 Processing chunk 5/8 (IDs: ['4421', '4422', '4431', '4432', '4441', '4442', '4451', '4452', '4461', '4462', '4471', '4472', '4481', '4482', '4491', '4492', '4501', '4502', '4511', '4512'])\n",
            "   🔄 4421 — PSG: SC4421E0-PSG.edf, Hypnogram: SC4421EA-Hypnogram.edf\n"
          ]
        },
        {
          "output_type": "stream",
          "name": "stderr",
          "text": [
            "<ipython-input-5-15075ba00614>:40: RuntimeWarning: Channels contain different highpass filters. Highest filter setting will be stored.\n",
            "  raw = mne.io.read_raw_edf(psg_path, preload=True, verbose=False)\n",
            "<ipython-input-5-15075ba00614>:40: RuntimeWarning: Channels contain different lowpass filters. Lowest filter setting will be stored.\n",
            "  raw = mne.io.read_raw_edf(psg_path, preload=True, verbose=False)\n",
            "<ipython-input-5-15075ba00614>:40: RuntimeWarning: Highpass cutoff frequency 16.0 is greater than lowpass cutoff frequency 0.7, setting values to 0 and Nyquist.\n",
            "  raw = mne.io.read_raw_edf(psg_path, preload=True, verbose=False)\n"
          ]
        },
        {
          "output_type": "stream",
          "name": "stdout",
          "text": [
            "NOTE: pick_channels() is a legacy function. New code should use inst.pick(...).\n"
          ]
        },
        {
          "output_type": "stream",
          "name": "stderr",
          "text": [
            "<ipython-input-5-15075ba00614>:41: RuntimeWarning: Limited 1 annotation(s) that were expanding outside the data range.\n",
            "  raw.set_annotations(mne.read_annotations(hypno_path))\n"
          ]
        },
        {
          "output_type": "stream",
          "name": "stdout",
          "text": [
            "   🔄 4422 — PSG: SC4422E0-PSG.edf, Hypnogram: SC4422EA-Hypnogram.edf\n"
          ]
        },
        {
          "output_type": "stream",
          "name": "stderr",
          "text": [
            "<ipython-input-5-15075ba00614>:40: RuntimeWarning: Channels contain different highpass filters. Highest filter setting will be stored.\n",
            "  raw = mne.io.read_raw_edf(psg_path, preload=True, verbose=False)\n",
            "<ipython-input-5-15075ba00614>:40: RuntimeWarning: Channels contain different lowpass filters. Lowest filter setting will be stored.\n",
            "  raw = mne.io.read_raw_edf(psg_path, preload=True, verbose=False)\n",
            "<ipython-input-5-15075ba00614>:40: RuntimeWarning: Highpass cutoff frequency 16.0 is greater than lowpass cutoff frequency 0.7, setting values to 0 and Nyquist.\n",
            "  raw = mne.io.read_raw_edf(psg_path, preload=True, verbose=False)\n"
          ]
        },
        {
          "output_type": "stream",
          "name": "stdout",
          "text": [
            "NOTE: pick_channels() is a legacy function. New code should use inst.pick(...).\n"
          ]
        },
        {
          "output_type": "stream",
          "name": "stderr",
          "text": [
            "<ipython-input-5-15075ba00614>:41: RuntimeWarning: Limited 1 annotation(s) that were expanding outside the data range.\n",
            "  raw.set_annotations(mne.read_annotations(hypno_path))\n",
            "<ipython-input-5-15075ba00614>:40: RuntimeWarning: Channels contain different highpass filters. Highest filter setting will be stored.\n",
            "  raw = mne.io.read_raw_edf(psg_path, preload=True, verbose=False)\n",
            "<ipython-input-5-15075ba00614>:40: RuntimeWarning: Channels contain different lowpass filters. Lowest filter setting will be stored.\n",
            "  raw = mne.io.read_raw_edf(psg_path, preload=True, verbose=False)\n",
            "<ipython-input-5-15075ba00614>:40: RuntimeWarning: Highpass cutoff frequency 16.0 is greater than lowpass cutoff frequency 0.7, setting values to 0 and Nyquist.\n",
            "  raw = mne.io.read_raw_edf(psg_path, preload=True, verbose=False)\n"
          ]
        },
        {
          "output_type": "stream",
          "name": "stdout",
          "text": [
            "   🔄 4431 — PSG: SC4431E0-PSG.edf, Hypnogram: SC4431EM-Hypnogram.edf\n",
            "NOTE: pick_channels() is a legacy function. New code should use inst.pick(...).\n"
          ]
        },
        {
          "output_type": "stream",
          "name": "stderr",
          "text": [
            "<ipython-input-5-15075ba00614>:41: RuntimeWarning: Limited 1 annotation(s) that were expanding outside the data range.\n",
            "  raw.set_annotations(mne.read_annotations(hypno_path))\n"
          ]
        },
        {
          "output_type": "stream",
          "name": "stdout",
          "text": [
            "   🔄 4432 — PSG: SC4432E0-PSG.edf, Hypnogram: SC4432EM-Hypnogram.edf\n"
          ]
        },
        {
          "output_type": "stream",
          "name": "stderr",
          "text": [
            "<ipython-input-5-15075ba00614>:40: RuntimeWarning: Channels contain different highpass filters. Highest filter setting will be stored.\n",
            "  raw = mne.io.read_raw_edf(psg_path, preload=True, verbose=False)\n",
            "<ipython-input-5-15075ba00614>:40: RuntimeWarning: Channels contain different lowpass filters. Lowest filter setting will be stored.\n",
            "  raw = mne.io.read_raw_edf(psg_path, preload=True, verbose=False)\n",
            "<ipython-input-5-15075ba00614>:40: RuntimeWarning: Highpass cutoff frequency 16.0 is greater than lowpass cutoff frequency 0.7, setting values to 0 and Nyquist.\n",
            "  raw = mne.io.read_raw_edf(psg_path, preload=True, verbose=False)\n"
          ]
        },
        {
          "output_type": "stream",
          "name": "stdout",
          "text": [
            "NOTE: pick_channels() is a legacy function. New code should use inst.pick(...).\n"
          ]
        },
        {
          "output_type": "stream",
          "name": "stderr",
          "text": [
            "<ipython-input-5-15075ba00614>:41: RuntimeWarning: Limited 1 annotation(s) that were expanding outside the data range.\n",
            "  raw.set_annotations(mne.read_annotations(hypno_path))\n",
            "<ipython-input-5-15075ba00614>:40: RuntimeWarning: Channels contain different highpass filters. Highest filter setting will be stored.\n",
            "  raw = mne.io.read_raw_edf(psg_path, preload=True, verbose=False)\n",
            "<ipython-input-5-15075ba00614>:40: RuntimeWarning: Channels contain different lowpass filters. Lowest filter setting will be stored.\n",
            "  raw = mne.io.read_raw_edf(psg_path, preload=True, verbose=False)\n",
            "<ipython-input-5-15075ba00614>:40: RuntimeWarning: Highpass cutoff frequency 16.0 is greater than lowpass cutoff frequency 0.7, setting values to 0 and Nyquist.\n",
            "  raw = mne.io.read_raw_edf(psg_path, preload=True, verbose=False)\n"
          ]
        },
        {
          "output_type": "stream",
          "name": "stdout",
          "text": [
            "   🔄 4441 — PSG: SC4441E0-PSG.edf, Hypnogram: SC4441EC-Hypnogram.edf\n",
            "NOTE: pick_channels() is a legacy function. New code should use inst.pick(...).\n"
          ]
        },
        {
          "output_type": "stream",
          "name": "stderr",
          "text": [
            "<ipython-input-5-15075ba00614>:41: RuntimeWarning: Limited 1 annotation(s) that were expanding outside the data range.\n",
            "  raw.set_annotations(mne.read_annotations(hypno_path))\n",
            "<ipython-input-5-15075ba00614>:40: RuntimeWarning: Channels contain different highpass filters. Highest filter setting will be stored.\n",
            "  raw = mne.io.read_raw_edf(psg_path, preload=True, verbose=False)\n",
            "<ipython-input-5-15075ba00614>:40: RuntimeWarning: Channels contain different lowpass filters. Lowest filter setting will be stored.\n",
            "  raw = mne.io.read_raw_edf(psg_path, preload=True, verbose=False)\n",
            "<ipython-input-5-15075ba00614>:40: RuntimeWarning: Highpass cutoff frequency 16.0 is greater than lowpass cutoff frequency 0.7, setting values to 0 and Nyquist.\n",
            "  raw = mne.io.read_raw_edf(psg_path, preload=True, verbose=False)\n"
          ]
        },
        {
          "output_type": "stream",
          "name": "stdout",
          "text": [
            "   🔄 4442 — PSG: SC4442E0-PSG.edf, Hypnogram: SC4442EV-Hypnogram.edf\n",
            "NOTE: pick_channels() is a legacy function. New code should use inst.pick(...).\n"
          ]
        },
        {
          "output_type": "stream",
          "name": "stderr",
          "text": [
            "<ipython-input-5-15075ba00614>:41: RuntimeWarning: Limited 1 annotation(s) that were expanding outside the data range.\n",
            "  raw.set_annotations(mne.read_annotations(hypno_path))\n",
            "<ipython-input-5-15075ba00614>:40: RuntimeWarning: Channels contain different highpass filters. Highest filter setting will be stored.\n",
            "  raw = mne.io.read_raw_edf(psg_path, preload=True, verbose=False)\n",
            "<ipython-input-5-15075ba00614>:40: RuntimeWarning: Channels contain different lowpass filters. Lowest filter setting will be stored.\n",
            "  raw = mne.io.read_raw_edf(psg_path, preload=True, verbose=False)\n",
            "<ipython-input-5-15075ba00614>:40: RuntimeWarning: Highpass cutoff frequency 16.0 is greater than lowpass cutoff frequency 0.7, setting values to 0 and Nyquist.\n",
            "  raw = mne.io.read_raw_edf(psg_path, preload=True, verbose=False)\n"
          ]
        },
        {
          "output_type": "stream",
          "name": "stdout",
          "text": [
            "   🔄 4451 — PSG: SC4451F0-PSG.edf, Hypnogram: SC4451FY-Hypnogram.edf\n",
            "NOTE: pick_channels() is a legacy function. New code should use inst.pick(...).\n"
          ]
        },
        {
          "output_type": "stream",
          "name": "stderr",
          "text": [
            "<ipython-input-5-15075ba00614>:41: RuntimeWarning: Limited 1 annotation(s) that were expanding outside the data range.\n",
            "  raw.set_annotations(mne.read_annotations(hypno_path))\n",
            "<ipython-input-5-15075ba00614>:40: RuntimeWarning: Channels contain different highpass filters. Highest filter setting will be stored.\n",
            "  raw = mne.io.read_raw_edf(psg_path, preload=True, verbose=False)\n",
            "<ipython-input-5-15075ba00614>:40: RuntimeWarning: Channels contain different lowpass filters. Lowest filter setting will be stored.\n",
            "  raw = mne.io.read_raw_edf(psg_path, preload=True, verbose=False)\n",
            "<ipython-input-5-15075ba00614>:40: RuntimeWarning: Highpass cutoff frequency 16.0 is greater than lowpass cutoff frequency 0.7, setting values to 0 and Nyquist.\n",
            "  raw = mne.io.read_raw_edf(psg_path, preload=True, verbose=False)\n"
          ]
        },
        {
          "output_type": "stream",
          "name": "stdout",
          "text": [
            "   🔄 4452 — PSG: SC4452F0-PSG.edf, Hypnogram: SC4452FW-Hypnogram.edf\n",
            "NOTE: pick_channels() is a legacy function. New code should use inst.pick(...).\n"
          ]
        },
        {
          "output_type": "stream",
          "name": "stderr",
          "text": [
            "<ipython-input-5-15075ba00614>:41: RuntimeWarning: Limited 1 annotation(s) that were expanding outside the data range.\n",
            "  raw.set_annotations(mne.read_annotations(hypno_path))\n",
            "<ipython-input-5-15075ba00614>:40: RuntimeWarning: Channels contain different highpass filters. Highest filter setting will be stored.\n",
            "  raw = mne.io.read_raw_edf(psg_path, preload=True, verbose=False)\n",
            "<ipython-input-5-15075ba00614>:40: RuntimeWarning: Channels contain different lowpass filters. Lowest filter setting will be stored.\n",
            "  raw = mne.io.read_raw_edf(psg_path, preload=True, verbose=False)\n",
            "<ipython-input-5-15075ba00614>:40: RuntimeWarning: Highpass cutoff frequency 16.0 is greater than lowpass cutoff frequency 0.7, setting values to 0 and Nyquist.\n",
            "  raw = mne.io.read_raw_edf(psg_path, preload=True, verbose=False)\n"
          ]
        },
        {
          "output_type": "stream",
          "name": "stdout",
          "text": [
            "   🔄 4461 — PSG: SC4461F0-PSG.edf, Hypnogram: SC4461FA-Hypnogram.edf\n",
            "NOTE: pick_channels() is a legacy function. New code should use inst.pick(...).\n"
          ]
        },
        {
          "output_type": "stream",
          "name": "stderr",
          "text": [
            "<ipython-input-5-15075ba00614>:41: RuntimeWarning: Limited 1 annotation(s) that were expanding outside the data range.\n",
            "  raw.set_annotations(mne.read_annotations(hypno_path))\n",
            "<ipython-input-5-15075ba00614>:40: RuntimeWarning: Channels contain different highpass filters. Highest filter setting will be stored.\n",
            "  raw = mne.io.read_raw_edf(psg_path, preload=True, verbose=False)\n",
            "<ipython-input-5-15075ba00614>:40: RuntimeWarning: Channels contain different lowpass filters. Lowest filter setting will be stored.\n",
            "  raw = mne.io.read_raw_edf(psg_path, preload=True, verbose=False)\n",
            "<ipython-input-5-15075ba00614>:40: RuntimeWarning: Highpass cutoff frequency 16.0 is greater than lowpass cutoff frequency 0.7, setting values to 0 and Nyquist.\n",
            "  raw = mne.io.read_raw_edf(psg_path, preload=True, verbose=False)\n"
          ]
        },
        {
          "output_type": "stream",
          "name": "stdout",
          "text": [
            "   🔄 4462 — PSG: SC4462F0-PSG.edf, Hypnogram: SC4462FJ-Hypnogram.edf\n",
            "NOTE: pick_channels() is a legacy function. New code should use inst.pick(...).\n"
          ]
        },
        {
          "output_type": "stream",
          "name": "stderr",
          "text": [
            "<ipython-input-5-15075ba00614>:41: RuntimeWarning: Limited 1 annotation(s) that were expanding outside the data range.\n",
            "  raw.set_annotations(mne.read_annotations(hypno_path))\n",
            "<ipython-input-5-15075ba00614>:40: RuntimeWarning: Channels contain different highpass filters. Highest filter setting will be stored.\n",
            "  raw = mne.io.read_raw_edf(psg_path, preload=True, verbose=False)\n",
            "<ipython-input-5-15075ba00614>:40: RuntimeWarning: Channels contain different lowpass filters. Lowest filter setting will be stored.\n",
            "  raw = mne.io.read_raw_edf(psg_path, preload=True, verbose=False)\n",
            "<ipython-input-5-15075ba00614>:40: RuntimeWarning: Highpass cutoff frequency 16.0 is greater than lowpass cutoff frequency 0.7, setting values to 0 and Nyquist.\n",
            "  raw = mne.io.read_raw_edf(psg_path, preload=True, verbose=False)\n"
          ]
        },
        {
          "output_type": "stream",
          "name": "stdout",
          "text": [
            "   🔄 4471 — PSG: SC4471F0-PSG.edf, Hypnogram: SC4471FA-Hypnogram.edf\n",
            "NOTE: pick_channels() is a legacy function. New code should use inst.pick(...).\n"
          ]
        },
        {
          "output_type": "stream",
          "name": "stderr",
          "text": [
            "<ipython-input-5-15075ba00614>:41: RuntimeWarning: Limited 1 annotation(s) that were expanding outside the data range.\n",
            "  raw.set_annotations(mne.read_annotations(hypno_path))\n"
          ]
        },
        {
          "output_type": "stream",
          "name": "stdout",
          "text": [
            "   🔄 4472 — PSG: SC4472F0-PSG.edf, Hypnogram: SC4472FA-Hypnogram.edf\n"
          ]
        },
        {
          "output_type": "stream",
          "name": "stderr",
          "text": [
            "<ipython-input-5-15075ba00614>:40: RuntimeWarning: Channels contain different highpass filters. Highest filter setting will be stored.\n",
            "  raw = mne.io.read_raw_edf(psg_path, preload=True, verbose=False)\n",
            "<ipython-input-5-15075ba00614>:40: RuntimeWarning: Channels contain different lowpass filters. Lowest filter setting will be stored.\n",
            "  raw = mne.io.read_raw_edf(psg_path, preload=True, verbose=False)\n",
            "<ipython-input-5-15075ba00614>:40: RuntimeWarning: Highpass cutoff frequency 16.0 is greater than lowpass cutoff frequency 0.7, setting values to 0 and Nyquist.\n",
            "  raw = mne.io.read_raw_edf(psg_path, preload=True, verbose=False)\n"
          ]
        },
        {
          "output_type": "stream",
          "name": "stdout",
          "text": [
            "NOTE: pick_channels() is a legacy function. New code should use inst.pick(...).\n"
          ]
        },
        {
          "output_type": "stream",
          "name": "stderr",
          "text": [
            "<ipython-input-5-15075ba00614>:41: RuntimeWarning: Limited 1 annotation(s) that were expanding outside the data range.\n",
            "  raw.set_annotations(mne.read_annotations(hypno_path))\n"
          ]
        },
        {
          "output_type": "stream",
          "name": "stdout",
          "text": [
            "   🔄 4481 — PSG: SC4481F0-PSG.edf, Hypnogram: SC4481FV-Hypnogram.edf\n"
          ]
        },
        {
          "output_type": "stream",
          "name": "stderr",
          "text": [
            "<ipython-input-5-15075ba00614>:40: RuntimeWarning: Channels contain different highpass filters. Highest filter setting will be stored.\n",
            "  raw = mne.io.read_raw_edf(psg_path, preload=True, verbose=False)\n",
            "<ipython-input-5-15075ba00614>:40: RuntimeWarning: Channels contain different lowpass filters. Lowest filter setting will be stored.\n",
            "  raw = mne.io.read_raw_edf(psg_path, preload=True, verbose=False)\n",
            "<ipython-input-5-15075ba00614>:40: RuntimeWarning: Highpass cutoff frequency 16.0 is greater than lowpass cutoff frequency 0.7, setting values to 0 and Nyquist.\n",
            "  raw = mne.io.read_raw_edf(psg_path, preload=True, verbose=False)\n"
          ]
        },
        {
          "output_type": "stream",
          "name": "stdout",
          "text": [
            "NOTE: pick_channels() is a legacy function. New code should use inst.pick(...).\n",
            "   🔄 4482 — PSG: SC4482F0-PSG.edf, Hypnogram: SC4482FJ-Hypnogram.edf\n"
          ]
        },
        {
          "output_type": "stream",
          "name": "stderr",
          "text": [
            "<ipython-input-5-15075ba00614>:40: RuntimeWarning: Channels contain different highpass filters. Highest filter setting will be stored.\n",
            "  raw = mne.io.read_raw_edf(psg_path, preload=True, verbose=False)\n",
            "<ipython-input-5-15075ba00614>:40: RuntimeWarning: Channels contain different lowpass filters. Lowest filter setting will be stored.\n",
            "  raw = mne.io.read_raw_edf(psg_path, preload=True, verbose=False)\n",
            "<ipython-input-5-15075ba00614>:40: RuntimeWarning: Highpass cutoff frequency 16.0 is greater than lowpass cutoff frequency 0.7, setting values to 0 and Nyquist.\n",
            "  raw = mne.io.read_raw_edf(psg_path, preload=True, verbose=False)\n"
          ]
        },
        {
          "output_type": "stream",
          "name": "stdout",
          "text": [
            "NOTE: pick_channels() is a legacy function. New code should use inst.pick(...).\n",
            "   🔄 4491 — PSG: SC4491G0-PSG.edf, Hypnogram: SC4491GJ-Hypnogram.edf\n"
          ]
        },
        {
          "output_type": "stream",
          "name": "stderr",
          "text": [
            "<ipython-input-5-15075ba00614>:40: RuntimeWarning: Channels contain different highpass filters. Highest filter setting will be stored.\n",
            "  raw = mne.io.read_raw_edf(psg_path, preload=True, verbose=False)\n",
            "<ipython-input-5-15075ba00614>:40: RuntimeWarning: Channels contain different lowpass filters. Lowest filter setting will be stored.\n",
            "  raw = mne.io.read_raw_edf(psg_path, preload=True, verbose=False)\n",
            "<ipython-input-5-15075ba00614>:40: RuntimeWarning: Highpass cutoff frequency 16.0 is greater than lowpass cutoff frequency 0.7, setting values to 0 and Nyquist.\n",
            "  raw = mne.io.read_raw_edf(psg_path, preload=True, verbose=False)\n"
          ]
        },
        {
          "output_type": "stream",
          "name": "stdout",
          "text": [
            "NOTE: pick_channels() is a legacy function. New code should use inst.pick(...).\n"
          ]
        },
        {
          "output_type": "stream",
          "name": "stderr",
          "text": [
            "<ipython-input-5-15075ba00614>:41: RuntimeWarning: Limited 1 annotation(s) that were expanding outside the data range.\n",
            "  raw.set_annotations(mne.read_annotations(hypno_path))\n"
          ]
        },
        {
          "output_type": "stream",
          "name": "stdout",
          "text": [
            "   🔄 4492 — PSG: SC4492G0-PSG.edf, Hypnogram: SC4492GJ-Hypnogram.edf\n"
          ]
        },
        {
          "output_type": "stream",
          "name": "stderr",
          "text": [
            "<ipython-input-5-15075ba00614>:40: RuntimeWarning: Channels contain different highpass filters. Highest filter setting will be stored.\n",
            "  raw = mne.io.read_raw_edf(psg_path, preload=True, verbose=False)\n",
            "<ipython-input-5-15075ba00614>:40: RuntimeWarning: Channels contain different lowpass filters. Lowest filter setting will be stored.\n",
            "  raw = mne.io.read_raw_edf(psg_path, preload=True, verbose=False)\n",
            "<ipython-input-5-15075ba00614>:40: RuntimeWarning: Highpass cutoff frequency 16.0 is greater than lowpass cutoff frequency 0.7, setting values to 0 and Nyquist.\n",
            "  raw = mne.io.read_raw_edf(psg_path, preload=True, verbose=False)\n"
          ]
        },
        {
          "output_type": "stream",
          "name": "stdout",
          "text": [
            "NOTE: pick_channels() is a legacy function. New code should use inst.pick(...).\n"
          ]
        },
        {
          "output_type": "stream",
          "name": "stderr",
          "text": [
            "<ipython-input-5-15075ba00614>:41: RuntimeWarning: Limited 1 annotation(s) that were expanding outside the data range.\n",
            "  raw.set_annotations(mne.read_annotations(hypno_path))\n"
          ]
        },
        {
          "output_type": "stream",
          "name": "stdout",
          "text": [
            "   🔄 4501 — PSG: SC4501E0-PSG.edf, Hypnogram: SC4501EW-Hypnogram.edf\n"
          ]
        },
        {
          "output_type": "stream",
          "name": "stderr",
          "text": [
            "<ipython-input-5-15075ba00614>:40: RuntimeWarning: Channels contain different highpass filters. Highest filter setting will be stored.\n",
            "  raw = mne.io.read_raw_edf(psg_path, preload=True, verbose=False)\n",
            "<ipython-input-5-15075ba00614>:40: RuntimeWarning: Channels contain different lowpass filters. Lowest filter setting will be stored.\n",
            "  raw = mne.io.read_raw_edf(psg_path, preload=True, verbose=False)\n",
            "<ipython-input-5-15075ba00614>:40: RuntimeWarning: Highpass cutoff frequency 16.0 is greater than lowpass cutoff frequency 0.7, setting values to 0 and Nyquist.\n",
            "  raw = mne.io.read_raw_edf(psg_path, preload=True, verbose=False)\n"
          ]
        },
        {
          "output_type": "stream",
          "name": "stdout",
          "text": [
            "NOTE: pick_channels() is a legacy function. New code should use inst.pick(...).\n"
          ]
        },
        {
          "output_type": "stream",
          "name": "stderr",
          "text": [
            "<ipython-input-5-15075ba00614>:41: RuntimeWarning: Limited 1 annotation(s) that were expanding outside the data range.\n",
            "  raw.set_annotations(mne.read_annotations(hypno_path))\n"
          ]
        },
        {
          "output_type": "stream",
          "name": "stdout",
          "text": [
            "   🔄 4502 — PSG: SC4502E0-PSG.edf, Hypnogram: SC4502EM-Hypnogram.edf\n"
          ]
        },
        {
          "output_type": "stream",
          "name": "stderr",
          "text": [
            "<ipython-input-5-15075ba00614>:40: RuntimeWarning: Channels contain different highpass filters. Highest filter setting will be stored.\n",
            "  raw = mne.io.read_raw_edf(psg_path, preload=True, verbose=False)\n",
            "<ipython-input-5-15075ba00614>:40: RuntimeWarning: Channels contain different lowpass filters. Lowest filter setting will be stored.\n",
            "  raw = mne.io.read_raw_edf(psg_path, preload=True, verbose=False)\n",
            "<ipython-input-5-15075ba00614>:40: RuntimeWarning: Highpass cutoff frequency 16.0 is greater than lowpass cutoff frequency 0.7, setting values to 0 and Nyquist.\n",
            "  raw = mne.io.read_raw_edf(psg_path, preload=True, verbose=False)\n"
          ]
        },
        {
          "output_type": "stream",
          "name": "stdout",
          "text": [
            "NOTE: pick_channels() is a legacy function. New code should use inst.pick(...).\n"
          ]
        },
        {
          "output_type": "stream",
          "name": "stderr",
          "text": [
            "<ipython-input-5-15075ba00614>:41: RuntimeWarning: Limited 1 annotation(s) that were expanding outside the data range.\n",
            "  raw.set_annotations(mne.read_annotations(hypno_path))\n"
          ]
        },
        {
          "output_type": "stream",
          "name": "stdout",
          "text": [
            "   🔄 4511 — PSG: SC4511E0-PSG.edf, Hypnogram: SC4511EJ-Hypnogram.edf\n"
          ]
        },
        {
          "output_type": "stream",
          "name": "stderr",
          "text": [
            "<ipython-input-5-15075ba00614>:40: RuntimeWarning: Channels contain different highpass filters. Highest filter setting will be stored.\n",
            "  raw = mne.io.read_raw_edf(psg_path, preload=True, verbose=False)\n",
            "<ipython-input-5-15075ba00614>:40: RuntimeWarning: Channels contain different lowpass filters. Lowest filter setting will be stored.\n",
            "  raw = mne.io.read_raw_edf(psg_path, preload=True, verbose=False)\n",
            "<ipython-input-5-15075ba00614>:40: RuntimeWarning: Highpass cutoff frequency 16.0 is greater than lowpass cutoff frequency 0.7, setting values to 0 and Nyquist.\n",
            "  raw = mne.io.read_raw_edf(psg_path, preload=True, verbose=False)\n"
          ]
        },
        {
          "output_type": "stream",
          "name": "stdout",
          "text": [
            "NOTE: pick_channels() is a legacy function. New code should use inst.pick(...).\n"
          ]
        },
        {
          "output_type": "stream",
          "name": "stderr",
          "text": [
            "<ipython-input-5-15075ba00614>:41: RuntimeWarning: Limited 1 annotation(s) that were expanding outside the data range.\n",
            "  raw.set_annotations(mne.read_annotations(hypno_path))\n"
          ]
        },
        {
          "output_type": "stream",
          "name": "stdout",
          "text": [
            "   🔄 4512 — PSG: SC4512E0-PSG.edf, Hypnogram: SC4512EW-Hypnogram.edf\n"
          ]
        },
        {
          "output_type": "stream",
          "name": "stderr",
          "text": [
            "<ipython-input-5-15075ba00614>:40: RuntimeWarning: Channels contain different highpass filters. Highest filter setting will be stored.\n",
            "  raw = mne.io.read_raw_edf(psg_path, preload=True, verbose=False)\n",
            "<ipython-input-5-15075ba00614>:40: RuntimeWarning: Channels contain different lowpass filters. Lowest filter setting will be stored.\n",
            "  raw = mne.io.read_raw_edf(psg_path, preload=True, verbose=False)\n",
            "<ipython-input-5-15075ba00614>:40: RuntimeWarning: Highpass cutoff frequency 16.0 is greater than lowpass cutoff frequency 0.7, setting values to 0 and Nyquist.\n",
            "  raw = mne.io.read_raw_edf(psg_path, preload=True, verbose=False)\n"
          ]
        },
        {
          "output_type": "stream",
          "name": "stdout",
          "text": [
            "NOTE: pick_channels() is a legacy function. New code should use inst.pick(...).\n"
          ]
        },
        {
          "output_type": "stream",
          "name": "stderr",
          "text": [
            "<ipython-input-5-15075ba00614>:41: RuntimeWarning: Limited 1 annotation(s) that were expanding outside the data range.\n",
            "  raw.set_annotations(mne.read_annotations(hypno_path))\n"
          ]
        },
        {
          "output_type": "stream",
          "name": "stdout",
          "text": [
            "✅ Saved: /content/drive/MyDrive/sleep_data_part5.pkl\n",
            "\n",
            "🚀 Processing chunk 6/8 (IDs: ['4522', '4531', '4532', '4541', '4542', '4551', '4552', '4561', '4562', '4571', '4572', '4581', '4582', '4591', '4592', '4601', '4602', '4611', '4612', '4621'])\n",
            "   🔄 4522 — PSG: SC4522E0-PSG.edf, Hypnogram: SC4522EM-Hypnogram.edf\n"
          ]
        },
        {
          "output_type": "stream",
          "name": "stderr",
          "text": [
            "<ipython-input-5-15075ba00614>:40: RuntimeWarning: Channels contain different highpass filters. Highest filter setting will be stored.\n",
            "  raw = mne.io.read_raw_edf(psg_path, preload=True, verbose=False)\n",
            "<ipython-input-5-15075ba00614>:40: RuntimeWarning: Channels contain different lowpass filters. Lowest filter setting will be stored.\n",
            "  raw = mne.io.read_raw_edf(psg_path, preload=True, verbose=False)\n",
            "<ipython-input-5-15075ba00614>:40: RuntimeWarning: Highpass cutoff frequency 16.0 is greater than lowpass cutoff frequency 0.7, setting values to 0 and Nyquist.\n",
            "  raw = mne.io.read_raw_edf(psg_path, preload=True, verbose=False)\n"
          ]
        },
        {
          "output_type": "stream",
          "name": "stdout",
          "text": [
            "NOTE: pick_channels() is a legacy function. New code should use inst.pick(...).\n"
          ]
        },
        {
          "output_type": "stream",
          "name": "stderr",
          "text": [
            "<ipython-input-5-15075ba00614>:41: RuntimeWarning: Limited 1 annotation(s) that were expanding outside the data range.\n",
            "  raw.set_annotations(mne.read_annotations(hypno_path))\n"
          ]
        },
        {
          "output_type": "stream",
          "name": "stdout",
          "text": [
            "   🔄 4531 — PSG: SC4531E0-PSG.edf, Hypnogram: SC4531EM-Hypnogram.edf\n"
          ]
        },
        {
          "output_type": "stream",
          "name": "stderr",
          "text": [
            "<ipython-input-5-15075ba00614>:40: RuntimeWarning: Channels contain different highpass filters. Highest filter setting will be stored.\n",
            "  raw = mne.io.read_raw_edf(psg_path, preload=True, verbose=False)\n",
            "<ipython-input-5-15075ba00614>:40: RuntimeWarning: Channels contain different lowpass filters. Lowest filter setting will be stored.\n",
            "  raw = mne.io.read_raw_edf(psg_path, preload=True, verbose=False)\n",
            "<ipython-input-5-15075ba00614>:40: RuntimeWarning: Highpass cutoff frequency 16.0 is greater than lowpass cutoff frequency 0.7, setting values to 0 and Nyquist.\n",
            "  raw = mne.io.read_raw_edf(psg_path, preload=True, verbose=False)\n"
          ]
        },
        {
          "output_type": "stream",
          "name": "stdout",
          "text": [
            "NOTE: pick_channels() is a legacy function. New code should use inst.pick(...).\n"
          ]
        },
        {
          "output_type": "stream",
          "name": "stderr",
          "text": [
            "<ipython-input-5-15075ba00614>:41: RuntimeWarning: Limited 1 annotation(s) that were expanding outside the data range.\n",
            "  raw.set_annotations(mne.read_annotations(hypno_path))\n"
          ]
        },
        {
          "output_type": "stream",
          "name": "stdout",
          "text": [
            "   🔄 4532 — PSG: SC4532E0-PSG.edf, Hypnogram: SC4532EV-Hypnogram.edf\n"
          ]
        },
        {
          "output_type": "stream",
          "name": "stderr",
          "text": [
            "<ipython-input-5-15075ba00614>:40: RuntimeWarning: Channels contain different highpass filters. Highest filter setting will be stored.\n",
            "  raw = mne.io.read_raw_edf(psg_path, preload=True, verbose=False)\n",
            "<ipython-input-5-15075ba00614>:40: RuntimeWarning: Channels contain different lowpass filters. Lowest filter setting will be stored.\n",
            "  raw = mne.io.read_raw_edf(psg_path, preload=True, verbose=False)\n",
            "<ipython-input-5-15075ba00614>:40: RuntimeWarning: Highpass cutoff frequency 16.0 is greater than lowpass cutoff frequency 0.7, setting values to 0 and Nyquist.\n",
            "  raw = mne.io.read_raw_edf(psg_path, preload=True, verbose=False)\n"
          ]
        },
        {
          "output_type": "stream",
          "name": "stdout",
          "text": [
            "NOTE: pick_channels() is a legacy function. New code should use inst.pick(...).\n"
          ]
        },
        {
          "output_type": "stream",
          "name": "stderr",
          "text": [
            "<ipython-input-5-15075ba00614>:41: RuntimeWarning: Limited 1 annotation(s) that were expanding outside the data range.\n",
            "  raw.set_annotations(mne.read_annotations(hypno_path))\n"
          ]
        },
        {
          "output_type": "stream",
          "name": "stdout",
          "text": [
            "   🔄 4541 — PSG: SC4541F0-PSG.edf, Hypnogram: SC4541FA-Hypnogram.edf\n"
          ]
        },
        {
          "output_type": "stream",
          "name": "stderr",
          "text": [
            "<ipython-input-5-15075ba00614>:40: RuntimeWarning: Channels contain different highpass filters. Highest filter setting will be stored.\n",
            "  raw = mne.io.read_raw_edf(psg_path, preload=True, verbose=False)\n",
            "<ipython-input-5-15075ba00614>:40: RuntimeWarning: Channels contain different lowpass filters. Lowest filter setting will be stored.\n",
            "  raw = mne.io.read_raw_edf(psg_path, preload=True, verbose=False)\n",
            "<ipython-input-5-15075ba00614>:40: RuntimeWarning: Highpass cutoff frequency 16.0 is greater than lowpass cutoff frequency 0.7, setting values to 0 and Nyquist.\n",
            "  raw = mne.io.read_raw_edf(psg_path, preload=True, verbose=False)\n"
          ]
        },
        {
          "output_type": "stream",
          "name": "stdout",
          "text": [
            "NOTE: pick_channels() is a legacy function. New code should use inst.pick(...).\n"
          ]
        },
        {
          "output_type": "stream",
          "name": "stderr",
          "text": [
            "<ipython-input-5-15075ba00614>:41: RuntimeWarning: Limited 1 annotation(s) that were expanding outside the data range.\n",
            "  raw.set_annotations(mne.read_annotations(hypno_path))\n"
          ]
        },
        {
          "output_type": "stream",
          "name": "stdout",
          "text": [
            "   🔄 4542 — PSG: SC4542F0-PSG.edf, Hypnogram: SC4542FW-Hypnogram.edf\n"
          ]
        },
        {
          "output_type": "stream",
          "name": "stderr",
          "text": [
            "<ipython-input-5-15075ba00614>:40: RuntimeWarning: Channels contain different highpass filters. Highest filter setting will be stored.\n",
            "  raw = mne.io.read_raw_edf(psg_path, preload=True, verbose=False)\n",
            "<ipython-input-5-15075ba00614>:40: RuntimeWarning: Channels contain different lowpass filters. Lowest filter setting will be stored.\n",
            "  raw = mne.io.read_raw_edf(psg_path, preload=True, verbose=False)\n",
            "<ipython-input-5-15075ba00614>:40: RuntimeWarning: Highpass cutoff frequency 16.0 is greater than lowpass cutoff frequency 0.7, setting values to 0 and Nyquist.\n",
            "  raw = mne.io.read_raw_edf(psg_path, preload=True, verbose=False)\n"
          ]
        },
        {
          "output_type": "stream",
          "name": "stdout",
          "text": [
            "NOTE: pick_channels() is a legacy function. New code should use inst.pick(...).\n"
          ]
        },
        {
          "output_type": "stream",
          "name": "stderr",
          "text": [
            "<ipython-input-5-15075ba00614>:41: RuntimeWarning: Limited 1 annotation(s) that were expanding outside the data range.\n",
            "  raw.set_annotations(mne.read_annotations(hypno_path))\n"
          ]
        },
        {
          "output_type": "stream",
          "name": "stdout",
          "text": [
            "   🔄 4551 — PSG: SC4551F0-PSG.edf, Hypnogram: SC4551FC-Hypnogram.edf\n"
          ]
        },
        {
          "output_type": "stream",
          "name": "stderr",
          "text": [
            "<ipython-input-5-15075ba00614>:40: RuntimeWarning: Channels contain different highpass filters. Highest filter setting will be stored.\n",
            "  raw = mne.io.read_raw_edf(psg_path, preload=True, verbose=False)\n",
            "<ipython-input-5-15075ba00614>:40: RuntimeWarning: Channels contain different lowpass filters. Lowest filter setting will be stored.\n",
            "  raw = mne.io.read_raw_edf(psg_path, preload=True, verbose=False)\n",
            "<ipython-input-5-15075ba00614>:40: RuntimeWarning: Highpass cutoff frequency 16.0 is greater than lowpass cutoff frequency 0.7, setting values to 0 and Nyquist.\n",
            "  raw = mne.io.read_raw_edf(psg_path, preload=True, verbose=False)\n"
          ]
        },
        {
          "output_type": "stream",
          "name": "stdout",
          "text": [
            "NOTE: pick_channels() is a legacy function. New code should use inst.pick(...).\n"
          ]
        },
        {
          "output_type": "stream",
          "name": "stderr",
          "text": [
            "<ipython-input-5-15075ba00614>:41: RuntimeWarning: Limited 1 annotation(s) that were expanding outside the data range.\n",
            "  raw.set_annotations(mne.read_annotations(hypno_path))\n"
          ]
        },
        {
          "output_type": "stream",
          "name": "stdout",
          "text": [
            "   🔄 4552 — PSG: SC4552F0-PSG.edf, Hypnogram: SC4552FW-Hypnogram.edf\n"
          ]
        },
        {
          "output_type": "stream",
          "name": "stderr",
          "text": [
            "<ipython-input-5-15075ba00614>:40: RuntimeWarning: Channels contain different highpass filters. Highest filter setting will be stored.\n",
            "  raw = mne.io.read_raw_edf(psg_path, preload=True, verbose=False)\n",
            "<ipython-input-5-15075ba00614>:40: RuntimeWarning: Channels contain different lowpass filters. Lowest filter setting will be stored.\n",
            "  raw = mne.io.read_raw_edf(psg_path, preload=True, verbose=False)\n",
            "<ipython-input-5-15075ba00614>:40: RuntimeWarning: Highpass cutoff frequency 16.0 is greater than lowpass cutoff frequency 0.7, setting values to 0 and Nyquist.\n",
            "  raw = mne.io.read_raw_edf(psg_path, preload=True, verbose=False)\n"
          ]
        },
        {
          "output_type": "stream",
          "name": "stdout",
          "text": [
            "NOTE: pick_channels() is a legacy function. New code should use inst.pick(...).\n"
          ]
        },
        {
          "output_type": "stream",
          "name": "stderr",
          "text": [
            "<ipython-input-5-15075ba00614>:41: RuntimeWarning: Limited 1 annotation(s) that were expanding outside the data range.\n",
            "  raw.set_annotations(mne.read_annotations(hypno_path))\n"
          ]
        },
        {
          "output_type": "stream",
          "name": "stdout",
          "text": [
            "   🔄 4561 — PSG: SC4561F0-PSG.edf, Hypnogram: SC4561FJ-Hypnogram.edf\n"
          ]
        },
        {
          "output_type": "stream",
          "name": "stderr",
          "text": [
            "<ipython-input-5-15075ba00614>:40: RuntimeWarning: Channels contain different highpass filters. Highest filter setting will be stored.\n",
            "  raw = mne.io.read_raw_edf(psg_path, preload=True, verbose=False)\n",
            "<ipython-input-5-15075ba00614>:40: RuntimeWarning: Channels contain different lowpass filters. Lowest filter setting will be stored.\n",
            "  raw = mne.io.read_raw_edf(psg_path, preload=True, verbose=False)\n",
            "<ipython-input-5-15075ba00614>:40: RuntimeWarning: Highpass cutoff frequency 16.0 is greater than lowpass cutoff frequency 0.7, setting values to 0 and Nyquist.\n",
            "  raw = mne.io.read_raw_edf(psg_path, preload=True, verbose=False)\n"
          ]
        },
        {
          "output_type": "stream",
          "name": "stdout",
          "text": [
            "NOTE: pick_channels() is a legacy function. New code should use inst.pick(...).\n"
          ]
        },
        {
          "output_type": "stream",
          "name": "stderr",
          "text": [
            "<ipython-input-5-15075ba00614>:41: RuntimeWarning: Limited 1 annotation(s) that were expanding outside the data range.\n",
            "  raw.set_annotations(mne.read_annotations(hypno_path))\n"
          ]
        },
        {
          "output_type": "stream",
          "name": "stdout",
          "text": [
            "   🔄 4562 — PSG: SC4562F0-PSG.edf, Hypnogram: SC4562FJ-Hypnogram.edf\n"
          ]
        },
        {
          "output_type": "stream",
          "name": "stderr",
          "text": [
            "<ipython-input-5-15075ba00614>:40: RuntimeWarning: Channels contain different highpass filters. Highest filter setting will be stored.\n",
            "  raw = mne.io.read_raw_edf(psg_path, preload=True, verbose=False)\n",
            "<ipython-input-5-15075ba00614>:40: RuntimeWarning: Channels contain different lowpass filters. Lowest filter setting will be stored.\n",
            "  raw = mne.io.read_raw_edf(psg_path, preload=True, verbose=False)\n",
            "<ipython-input-5-15075ba00614>:40: RuntimeWarning: Highpass cutoff frequency 16.0 is greater than lowpass cutoff frequency 0.7, setting values to 0 and Nyquist.\n",
            "  raw = mne.io.read_raw_edf(psg_path, preload=True, verbose=False)\n"
          ]
        },
        {
          "output_type": "stream",
          "name": "stdout",
          "text": [
            "NOTE: pick_channels() is a legacy function. New code should use inst.pick(...).\n"
          ]
        },
        {
          "output_type": "stream",
          "name": "stderr",
          "text": [
            "<ipython-input-5-15075ba00614>:41: RuntimeWarning: Limited 1 annotation(s) that were expanding outside the data range.\n",
            "  raw.set_annotations(mne.read_annotations(hypno_path))\n"
          ]
        },
        {
          "output_type": "stream",
          "name": "stdout",
          "text": [
            "   🔄 4571 — PSG: SC4571F0-PSG.edf, Hypnogram: SC4571FV-Hypnogram.edf\n"
          ]
        },
        {
          "output_type": "stream",
          "name": "stderr",
          "text": [
            "<ipython-input-5-15075ba00614>:40: RuntimeWarning: Channels contain different highpass filters. Highest filter setting will be stored.\n",
            "  raw = mne.io.read_raw_edf(psg_path, preload=True, verbose=False)\n",
            "<ipython-input-5-15075ba00614>:40: RuntimeWarning: Channels contain different lowpass filters. Lowest filter setting will be stored.\n",
            "  raw = mne.io.read_raw_edf(psg_path, preload=True, verbose=False)\n",
            "<ipython-input-5-15075ba00614>:40: RuntimeWarning: Highpass cutoff frequency 16.0 is greater than lowpass cutoff frequency 0.7, setting values to 0 and Nyquist.\n",
            "  raw = mne.io.read_raw_edf(psg_path, preload=True, verbose=False)\n"
          ]
        },
        {
          "output_type": "stream",
          "name": "stdout",
          "text": [
            "NOTE: pick_channels() is a legacy function. New code should use inst.pick(...).\n"
          ]
        },
        {
          "output_type": "stream",
          "name": "stderr",
          "text": [
            "<ipython-input-5-15075ba00614>:41: RuntimeWarning: Limited 1 annotation(s) that were expanding outside the data range.\n",
            "  raw.set_annotations(mne.read_annotations(hypno_path))\n"
          ]
        },
        {
          "output_type": "stream",
          "name": "stdout",
          "text": [
            "   🔄 4572 — PSG: SC4572F0-PSG.edf, Hypnogram: SC4572FC-Hypnogram.edf\n"
          ]
        },
        {
          "output_type": "stream",
          "name": "stderr",
          "text": [
            "<ipython-input-5-15075ba00614>:40: RuntimeWarning: Channels contain different highpass filters. Highest filter setting will be stored.\n",
            "  raw = mne.io.read_raw_edf(psg_path, preload=True, verbose=False)\n",
            "<ipython-input-5-15075ba00614>:40: RuntimeWarning: Channels contain different lowpass filters. Lowest filter setting will be stored.\n",
            "  raw = mne.io.read_raw_edf(psg_path, preload=True, verbose=False)\n",
            "<ipython-input-5-15075ba00614>:40: RuntimeWarning: Highpass cutoff frequency 16.0 is greater than lowpass cutoff frequency 0.7, setting values to 0 and Nyquist.\n",
            "  raw = mne.io.read_raw_edf(psg_path, preload=True, verbose=False)\n"
          ]
        },
        {
          "output_type": "stream",
          "name": "stdout",
          "text": [
            "NOTE: pick_channels() is a legacy function. New code should use inst.pick(...).\n",
            "   🔄 4581 — PSG: SC4581G0-PSG.edf, Hypnogram: SC4581GM-Hypnogram.edf\n"
          ]
        },
        {
          "output_type": "stream",
          "name": "stderr",
          "text": [
            "<ipython-input-5-15075ba00614>:40: RuntimeWarning: Channels contain different highpass filters. Highest filter setting will be stored.\n",
            "  raw = mne.io.read_raw_edf(psg_path, preload=True, verbose=False)\n",
            "<ipython-input-5-15075ba00614>:40: RuntimeWarning: Channels contain different lowpass filters. Lowest filter setting will be stored.\n",
            "  raw = mne.io.read_raw_edf(psg_path, preload=True, verbose=False)\n",
            "<ipython-input-5-15075ba00614>:40: RuntimeWarning: Highpass cutoff frequency 16.0 is greater than lowpass cutoff frequency 0.7, setting values to 0 and Nyquist.\n",
            "  raw = mne.io.read_raw_edf(psg_path, preload=True, verbose=False)\n"
          ]
        },
        {
          "output_type": "stream",
          "name": "stdout",
          "text": [
            "NOTE: pick_channels() is a legacy function. New code should use inst.pick(...).\n"
          ]
        },
        {
          "output_type": "stream",
          "name": "stderr",
          "text": [
            "<ipython-input-5-15075ba00614>:41: RuntimeWarning: Limited 1 annotation(s) that were expanding outside the data range.\n",
            "  raw.set_annotations(mne.read_annotations(hypno_path))\n"
          ]
        },
        {
          "output_type": "stream",
          "name": "stdout",
          "text": [
            "   🔄 4582 — PSG: SC4582G0-PSG.edf, Hypnogram: SC4582GP-Hypnogram.edf\n"
          ]
        },
        {
          "output_type": "stream",
          "name": "stderr",
          "text": [
            "<ipython-input-5-15075ba00614>:40: RuntimeWarning: Channels contain different highpass filters. Highest filter setting will be stored.\n",
            "  raw = mne.io.read_raw_edf(psg_path, preload=True, verbose=False)\n",
            "<ipython-input-5-15075ba00614>:40: RuntimeWarning: Channels contain different lowpass filters. Lowest filter setting will be stored.\n",
            "  raw = mne.io.read_raw_edf(psg_path, preload=True, verbose=False)\n",
            "<ipython-input-5-15075ba00614>:40: RuntimeWarning: Highpass cutoff frequency 16.0 is greater than lowpass cutoff frequency 0.7, setting values to 0 and Nyquist.\n",
            "  raw = mne.io.read_raw_edf(psg_path, preload=True, verbose=False)\n"
          ]
        },
        {
          "output_type": "stream",
          "name": "stdout",
          "text": [
            "NOTE: pick_channels() is a legacy function. New code should use inst.pick(...).\n"
          ]
        },
        {
          "output_type": "stream",
          "name": "stderr",
          "text": [
            "<ipython-input-5-15075ba00614>:41: RuntimeWarning: Limited 1 annotation(s) that were expanding outside the data range.\n",
            "  raw.set_annotations(mne.read_annotations(hypno_path))\n"
          ]
        },
        {
          "output_type": "stream",
          "name": "stdout",
          "text": [
            "   🔄 4591 — PSG: SC4591G0-PSG.edf, Hypnogram: SC4591GY-Hypnogram.edf\n"
          ]
        },
        {
          "output_type": "stream",
          "name": "stderr",
          "text": [
            "<ipython-input-5-15075ba00614>:40: RuntimeWarning: Channels contain different highpass filters. Highest filter setting will be stored.\n",
            "  raw = mne.io.read_raw_edf(psg_path, preload=True, verbose=False)\n",
            "<ipython-input-5-15075ba00614>:40: RuntimeWarning: Channels contain different lowpass filters. Lowest filter setting will be stored.\n",
            "  raw = mne.io.read_raw_edf(psg_path, preload=True, verbose=False)\n",
            "<ipython-input-5-15075ba00614>:40: RuntimeWarning: Highpass cutoff frequency 16.0 is greater than lowpass cutoff frequency 0.7, setting values to 0 and Nyquist.\n",
            "  raw = mne.io.read_raw_edf(psg_path, preload=True, verbose=False)\n"
          ]
        },
        {
          "output_type": "stream",
          "name": "stdout",
          "text": [
            "NOTE: pick_channels() is a legacy function. New code should use inst.pick(...).\n"
          ]
        },
        {
          "output_type": "stream",
          "name": "stderr",
          "text": [
            "<ipython-input-5-15075ba00614>:41: RuntimeWarning: Limited 1 annotation(s) that were expanding outside the data range.\n",
            "  raw.set_annotations(mne.read_annotations(hypno_path))\n"
          ]
        },
        {
          "output_type": "stream",
          "name": "stdout",
          "text": [
            "   🔄 4592 — PSG: SC4592G0-PSG.edf, Hypnogram: SC4592GY-Hypnogram.edf\n"
          ]
        },
        {
          "output_type": "stream",
          "name": "stderr",
          "text": [
            "<ipython-input-5-15075ba00614>:40: RuntimeWarning: Channels contain different highpass filters. Highest filter setting will be stored.\n",
            "  raw = mne.io.read_raw_edf(psg_path, preload=True, verbose=False)\n",
            "<ipython-input-5-15075ba00614>:40: RuntimeWarning: Channels contain different lowpass filters. Lowest filter setting will be stored.\n",
            "  raw = mne.io.read_raw_edf(psg_path, preload=True, verbose=False)\n",
            "<ipython-input-5-15075ba00614>:40: RuntimeWarning: Highpass cutoff frequency 16.0 is greater than lowpass cutoff frequency 0.7, setting values to 0 and Nyquist.\n",
            "  raw = mne.io.read_raw_edf(psg_path, preload=True, verbose=False)\n"
          ]
        },
        {
          "output_type": "stream",
          "name": "stdout",
          "text": [
            "NOTE: pick_channels() is a legacy function. New code should use inst.pick(...).\n"
          ]
        },
        {
          "output_type": "stream",
          "name": "stderr",
          "text": [
            "<ipython-input-5-15075ba00614>:41: RuntimeWarning: Limited 1 annotation(s) that were expanding outside the data range.\n",
            "  raw.set_annotations(mne.read_annotations(hypno_path))\n"
          ]
        },
        {
          "output_type": "stream",
          "name": "stdout",
          "text": [
            "   🔄 4601 — PSG: SC4601E0-PSG.edf, Hypnogram: SC4601EC-Hypnogram.edf\n"
          ]
        },
        {
          "output_type": "stream",
          "name": "stderr",
          "text": [
            "<ipython-input-5-15075ba00614>:40: RuntimeWarning: Channels contain different highpass filters. Highest filter setting will be stored.\n",
            "  raw = mne.io.read_raw_edf(psg_path, preload=True, verbose=False)\n",
            "<ipython-input-5-15075ba00614>:40: RuntimeWarning: Channels contain different lowpass filters. Lowest filter setting will be stored.\n",
            "  raw = mne.io.read_raw_edf(psg_path, preload=True, verbose=False)\n",
            "<ipython-input-5-15075ba00614>:40: RuntimeWarning: Highpass cutoff frequency 16.0 is greater than lowpass cutoff frequency 0.7, setting values to 0 and Nyquist.\n",
            "  raw = mne.io.read_raw_edf(psg_path, preload=True, verbose=False)\n"
          ]
        },
        {
          "output_type": "stream",
          "name": "stdout",
          "text": [
            "NOTE: pick_channels() is a legacy function. New code should use inst.pick(...).\n"
          ]
        },
        {
          "output_type": "stream",
          "name": "stderr",
          "text": [
            "<ipython-input-5-15075ba00614>:41: RuntimeWarning: Limited 1 annotation(s) that were expanding outside the data range.\n",
            "  raw.set_annotations(mne.read_annotations(hypno_path))\n"
          ]
        },
        {
          "output_type": "stream",
          "name": "stdout",
          "text": [
            "   🔄 4602 — PSG: SC4602E0-PSG.edf, Hypnogram: SC4602EJ-Hypnogram.edf\n"
          ]
        },
        {
          "output_type": "stream",
          "name": "stderr",
          "text": [
            "<ipython-input-5-15075ba00614>:40: RuntimeWarning: Channels contain different highpass filters. Highest filter setting will be stored.\n",
            "  raw = mne.io.read_raw_edf(psg_path, preload=True, verbose=False)\n",
            "<ipython-input-5-15075ba00614>:40: RuntimeWarning: Channels contain different lowpass filters. Lowest filter setting will be stored.\n",
            "  raw = mne.io.read_raw_edf(psg_path, preload=True, verbose=False)\n",
            "<ipython-input-5-15075ba00614>:40: RuntimeWarning: Highpass cutoff frequency 16.0 is greater than lowpass cutoff frequency 0.7, setting values to 0 and Nyquist.\n",
            "  raw = mne.io.read_raw_edf(psg_path, preload=True, verbose=False)\n"
          ]
        },
        {
          "output_type": "stream",
          "name": "stdout",
          "text": [
            "NOTE: pick_channels() is a legacy function. New code should use inst.pick(...).\n"
          ]
        },
        {
          "output_type": "stream",
          "name": "stderr",
          "text": [
            "<ipython-input-5-15075ba00614>:41: RuntimeWarning: Limited 1 annotation(s) that were expanding outside the data range.\n",
            "  raw.set_annotations(mne.read_annotations(hypno_path))\n"
          ]
        },
        {
          "output_type": "stream",
          "name": "stdout",
          "text": [
            "   🔄 4611 — PSG: SC4611E0-PSG.edf, Hypnogram: SC4611EG-Hypnogram.edf\n"
          ]
        },
        {
          "output_type": "stream",
          "name": "stderr",
          "text": [
            "<ipython-input-5-15075ba00614>:40: RuntimeWarning: Channels contain different highpass filters. Highest filter setting will be stored.\n",
            "  raw = mne.io.read_raw_edf(psg_path, preload=True, verbose=False)\n",
            "<ipython-input-5-15075ba00614>:40: RuntimeWarning: Channels contain different lowpass filters. Lowest filter setting will be stored.\n",
            "  raw = mne.io.read_raw_edf(psg_path, preload=True, verbose=False)\n",
            "<ipython-input-5-15075ba00614>:40: RuntimeWarning: Highpass cutoff frequency 16.0 is greater than lowpass cutoff frequency 0.7, setting values to 0 and Nyquist.\n",
            "  raw = mne.io.read_raw_edf(psg_path, preload=True, verbose=False)\n"
          ]
        },
        {
          "output_type": "stream",
          "name": "stdout",
          "text": [
            "NOTE: pick_channels() is a legacy function. New code should use inst.pick(...).\n"
          ]
        },
        {
          "output_type": "stream",
          "name": "stderr",
          "text": [
            "<ipython-input-5-15075ba00614>:41: RuntimeWarning: Limited 1 annotation(s) that were expanding outside the data range.\n",
            "  raw.set_annotations(mne.read_annotations(hypno_path))\n"
          ]
        },
        {
          "output_type": "stream",
          "name": "stdout",
          "text": [
            "   🔄 4612 — PSG: SC4612E0-PSG.edf, Hypnogram: SC4612EA-Hypnogram.edf\n"
          ]
        },
        {
          "output_type": "stream",
          "name": "stderr",
          "text": [
            "<ipython-input-5-15075ba00614>:40: RuntimeWarning: Channels contain different highpass filters. Highest filter setting will be stored.\n",
            "  raw = mne.io.read_raw_edf(psg_path, preload=True, verbose=False)\n",
            "<ipython-input-5-15075ba00614>:40: RuntimeWarning: Channels contain different lowpass filters. Lowest filter setting will be stored.\n",
            "  raw = mne.io.read_raw_edf(psg_path, preload=True, verbose=False)\n",
            "<ipython-input-5-15075ba00614>:40: RuntimeWarning: Highpass cutoff frequency 16.0 is greater than lowpass cutoff frequency 0.7, setting values to 0 and Nyquist.\n",
            "  raw = mne.io.read_raw_edf(psg_path, preload=True, verbose=False)\n"
          ]
        },
        {
          "output_type": "stream",
          "name": "stdout",
          "text": [
            "NOTE: pick_channels() is a legacy function. New code should use inst.pick(...).\n"
          ]
        },
        {
          "output_type": "stream",
          "name": "stderr",
          "text": [
            "<ipython-input-5-15075ba00614>:41: RuntimeWarning: Limited 1 annotation(s) that were expanding outside the data range.\n",
            "  raw.set_annotations(mne.read_annotations(hypno_path))\n"
          ]
        },
        {
          "output_type": "stream",
          "name": "stdout",
          "text": [
            "   🔄 4621 — PSG: SC4621E0-PSG.edf, Hypnogram: SC4621EV-Hypnogram.edf\n"
          ]
        },
        {
          "output_type": "stream",
          "name": "stderr",
          "text": [
            "<ipython-input-5-15075ba00614>:40: RuntimeWarning: Channels contain different highpass filters. Highest filter setting will be stored.\n",
            "  raw = mne.io.read_raw_edf(psg_path, preload=True, verbose=False)\n",
            "<ipython-input-5-15075ba00614>:40: RuntimeWarning: Channels contain different lowpass filters. Lowest filter setting will be stored.\n",
            "  raw = mne.io.read_raw_edf(psg_path, preload=True, verbose=False)\n",
            "<ipython-input-5-15075ba00614>:40: RuntimeWarning: Highpass cutoff frequency 16.0 is greater than lowpass cutoff frequency 0.7, setting values to 0 and Nyquist.\n",
            "  raw = mne.io.read_raw_edf(psg_path, preload=True, verbose=False)\n"
          ]
        },
        {
          "output_type": "stream",
          "name": "stdout",
          "text": [
            "NOTE: pick_channels() is a legacy function. New code should use inst.pick(...).\n"
          ]
        },
        {
          "output_type": "stream",
          "name": "stderr",
          "text": [
            "<ipython-input-5-15075ba00614>:41: RuntimeWarning: Limited 1 annotation(s) that were expanding outside the data range.\n",
            "  raw.set_annotations(mne.read_annotations(hypno_path))\n"
          ]
        },
        {
          "output_type": "stream",
          "name": "stdout",
          "text": [
            "✅ Saved: /content/drive/MyDrive/sleep_data_part6.pkl\n",
            "\n",
            "🚀 Processing chunk 7/8 (IDs: ['4622', '4631', '4632', '4641', '4642', '4651', '4652', '4661', '4662', '4671', '4672', '4701', '4702', '4711', '4712', '4721', '4722', '4731', '4732', '4741'])\n",
            "   🔄 4622 — PSG: SC4622E0-PSG.edf, Hypnogram: SC4622EJ-Hypnogram.edf\n"
          ]
        },
        {
          "output_type": "stream",
          "name": "stderr",
          "text": [
            "<ipython-input-5-15075ba00614>:40: RuntimeWarning: Channels contain different highpass filters. Highest filter setting will be stored.\n",
            "  raw = mne.io.read_raw_edf(psg_path, preload=True, verbose=False)\n",
            "<ipython-input-5-15075ba00614>:40: RuntimeWarning: Channels contain different lowpass filters. Lowest filter setting will be stored.\n",
            "  raw = mne.io.read_raw_edf(psg_path, preload=True, verbose=False)\n",
            "<ipython-input-5-15075ba00614>:40: RuntimeWarning: Highpass cutoff frequency 16.0 is greater than lowpass cutoff frequency 0.7, setting values to 0 and Nyquist.\n",
            "  raw = mne.io.read_raw_edf(psg_path, preload=True, verbose=False)\n"
          ]
        },
        {
          "output_type": "stream",
          "name": "stdout",
          "text": [
            "NOTE: pick_channels() is a legacy function. New code should use inst.pick(...).\n"
          ]
        },
        {
          "output_type": "stream",
          "name": "stderr",
          "text": [
            "<ipython-input-5-15075ba00614>:41: RuntimeWarning: Limited 1 annotation(s) that were expanding outside the data range.\n",
            "  raw.set_annotations(mne.read_annotations(hypno_path))\n"
          ]
        },
        {
          "output_type": "stream",
          "name": "stdout",
          "text": [
            "   🔄 4631 — PSG: SC4631E0-PSG.edf, Hypnogram: SC4631EM-Hypnogram.edf\n"
          ]
        },
        {
          "output_type": "stream",
          "name": "stderr",
          "text": [
            "<ipython-input-5-15075ba00614>:40: RuntimeWarning: Channels contain different highpass filters. Highest filter setting will be stored.\n",
            "  raw = mne.io.read_raw_edf(psg_path, preload=True, verbose=False)\n",
            "<ipython-input-5-15075ba00614>:40: RuntimeWarning: Channels contain different lowpass filters. Lowest filter setting will be stored.\n",
            "  raw = mne.io.read_raw_edf(psg_path, preload=True, verbose=False)\n",
            "<ipython-input-5-15075ba00614>:40: RuntimeWarning: Highpass cutoff frequency 16.0 is greater than lowpass cutoff frequency 0.7, setting values to 0 and Nyquist.\n",
            "  raw = mne.io.read_raw_edf(psg_path, preload=True, verbose=False)\n"
          ]
        },
        {
          "output_type": "stream",
          "name": "stdout",
          "text": [
            "NOTE: pick_channels() is a legacy function. New code should use inst.pick(...).\n"
          ]
        },
        {
          "output_type": "stream",
          "name": "stderr",
          "text": [
            "<ipython-input-5-15075ba00614>:41: RuntimeWarning: Limited 1 annotation(s) that were expanding outside the data range.\n",
            "  raw.set_annotations(mne.read_annotations(hypno_path))\n"
          ]
        },
        {
          "output_type": "stream",
          "name": "stdout",
          "text": [
            "   🔄 4632 — PSG: SC4632E0-PSG.edf, Hypnogram: SC4632EA-Hypnogram.edf\n"
          ]
        },
        {
          "output_type": "stream",
          "name": "stderr",
          "text": [
            "<ipython-input-5-15075ba00614>:40: RuntimeWarning: Channels contain different highpass filters. Highest filter setting will be stored.\n",
            "  raw = mne.io.read_raw_edf(psg_path, preload=True, verbose=False)\n",
            "<ipython-input-5-15075ba00614>:40: RuntimeWarning: Channels contain different lowpass filters. Lowest filter setting will be stored.\n",
            "  raw = mne.io.read_raw_edf(psg_path, preload=True, verbose=False)\n",
            "<ipython-input-5-15075ba00614>:40: RuntimeWarning: Highpass cutoff frequency 16.0 is greater than lowpass cutoff frequency 0.7, setting values to 0 and Nyquist.\n",
            "  raw = mne.io.read_raw_edf(psg_path, preload=True, verbose=False)\n"
          ]
        },
        {
          "output_type": "stream",
          "name": "stdout",
          "text": [
            "NOTE: pick_channels() is a legacy function. New code should use inst.pick(...).\n"
          ]
        },
        {
          "output_type": "stream",
          "name": "stderr",
          "text": [
            "<ipython-input-5-15075ba00614>:41: RuntimeWarning: Limited 1 annotation(s) that were expanding outside the data range.\n",
            "  raw.set_annotations(mne.read_annotations(hypno_path))\n"
          ]
        },
        {
          "output_type": "stream",
          "name": "stdout",
          "text": [
            "   🔄 4641 — PSG: SC4641E0-PSG.edf, Hypnogram: SC4641EP-Hypnogram.edf\n"
          ]
        },
        {
          "output_type": "stream",
          "name": "stderr",
          "text": [
            "<ipython-input-5-15075ba00614>:40: RuntimeWarning: Channels contain different highpass filters. Highest filter setting will be stored.\n",
            "  raw = mne.io.read_raw_edf(psg_path, preload=True, verbose=False)\n",
            "<ipython-input-5-15075ba00614>:40: RuntimeWarning: Channels contain different lowpass filters. Lowest filter setting will be stored.\n",
            "  raw = mne.io.read_raw_edf(psg_path, preload=True, verbose=False)\n",
            "<ipython-input-5-15075ba00614>:40: RuntimeWarning: Highpass cutoff frequency 16.0 is greater than lowpass cutoff frequency 0.7, setting values to 0 and Nyquist.\n",
            "  raw = mne.io.read_raw_edf(psg_path, preload=True, verbose=False)\n"
          ]
        },
        {
          "output_type": "stream",
          "name": "stdout",
          "text": [
            "NOTE: pick_channels() is a legacy function. New code should use inst.pick(...).\n"
          ]
        },
        {
          "output_type": "stream",
          "name": "stderr",
          "text": [
            "<ipython-input-5-15075ba00614>:41: RuntimeWarning: Limited 1 annotation(s) that were expanding outside the data range.\n",
            "  raw.set_annotations(mne.read_annotations(hypno_path))\n"
          ]
        },
        {
          "output_type": "stream",
          "name": "stdout",
          "text": [
            "   🔄 4642 — PSG: SC4642E0-PSG.edf, Hypnogram: SC4642EP-Hypnogram.edf\n"
          ]
        },
        {
          "output_type": "stream",
          "name": "stderr",
          "text": [
            "<ipython-input-5-15075ba00614>:40: RuntimeWarning: Channels contain different highpass filters. Highest filter setting will be stored.\n",
            "  raw = mne.io.read_raw_edf(psg_path, preload=True, verbose=False)\n",
            "<ipython-input-5-15075ba00614>:40: RuntimeWarning: Channels contain different lowpass filters. Lowest filter setting will be stored.\n",
            "  raw = mne.io.read_raw_edf(psg_path, preload=True, verbose=False)\n",
            "<ipython-input-5-15075ba00614>:40: RuntimeWarning: Highpass cutoff frequency 16.0 is greater than lowpass cutoff frequency 0.7, setting values to 0 and Nyquist.\n",
            "  raw = mne.io.read_raw_edf(psg_path, preload=True, verbose=False)\n"
          ]
        },
        {
          "output_type": "stream",
          "name": "stdout",
          "text": [
            "NOTE: pick_channels() is a legacy function. New code should use inst.pick(...).\n"
          ]
        },
        {
          "output_type": "stream",
          "name": "stderr",
          "text": [
            "<ipython-input-5-15075ba00614>:41: RuntimeWarning: Limited 1 annotation(s) that were expanding outside the data range.\n",
            "  raw.set_annotations(mne.read_annotations(hypno_path))\n"
          ]
        },
        {
          "output_type": "stream",
          "name": "stdout",
          "text": [
            "   🔄 4651 — PSG: SC4651E0-PSG.edf, Hypnogram: SC4651EP-Hypnogram.edf\n"
          ]
        },
        {
          "output_type": "stream",
          "name": "stderr",
          "text": [
            "<ipython-input-5-15075ba00614>:40: RuntimeWarning: Channels contain different highpass filters. Highest filter setting will be stored.\n",
            "  raw = mne.io.read_raw_edf(psg_path, preload=True, verbose=False)\n",
            "<ipython-input-5-15075ba00614>:40: RuntimeWarning: Channels contain different lowpass filters. Lowest filter setting will be stored.\n",
            "  raw = mne.io.read_raw_edf(psg_path, preload=True, verbose=False)\n",
            "<ipython-input-5-15075ba00614>:40: RuntimeWarning: Highpass cutoff frequency 16.0 is greater than lowpass cutoff frequency 0.7, setting values to 0 and Nyquist.\n",
            "  raw = mne.io.read_raw_edf(psg_path, preload=True, verbose=False)\n"
          ]
        },
        {
          "output_type": "stream",
          "name": "stdout",
          "text": [
            "NOTE: pick_channels() is a legacy function. New code should use inst.pick(...).\n"
          ]
        },
        {
          "output_type": "stream",
          "name": "stderr",
          "text": [
            "<ipython-input-5-15075ba00614>:41: RuntimeWarning: Limited 1 annotation(s) that were expanding outside the data range.\n",
            "  raw.set_annotations(mne.read_annotations(hypno_path))\n"
          ]
        },
        {
          "output_type": "stream",
          "name": "stdout",
          "text": [
            "   🔄 4652 — PSG: SC4652E0-PSG.edf, Hypnogram: SC4652EG-Hypnogram.edf\n"
          ]
        },
        {
          "output_type": "stream",
          "name": "stderr",
          "text": [
            "<ipython-input-5-15075ba00614>:40: RuntimeWarning: Channels contain different highpass filters. Highest filter setting will be stored.\n",
            "  raw = mne.io.read_raw_edf(psg_path, preload=True, verbose=False)\n",
            "<ipython-input-5-15075ba00614>:40: RuntimeWarning: Channels contain different lowpass filters. Lowest filter setting will be stored.\n",
            "  raw = mne.io.read_raw_edf(psg_path, preload=True, verbose=False)\n",
            "<ipython-input-5-15075ba00614>:40: RuntimeWarning: Highpass cutoff frequency 16.0 is greater than lowpass cutoff frequency 0.7, setting values to 0 and Nyquist.\n",
            "  raw = mne.io.read_raw_edf(psg_path, preload=True, verbose=False)\n"
          ]
        },
        {
          "output_type": "stream",
          "name": "stdout",
          "text": [
            "NOTE: pick_channels() is a legacy function. New code should use inst.pick(...).\n"
          ]
        },
        {
          "output_type": "stream",
          "name": "stderr",
          "text": [
            "<ipython-input-5-15075ba00614>:41: RuntimeWarning: Limited 1 annotation(s) that were expanding outside the data range.\n",
            "  raw.set_annotations(mne.read_annotations(hypno_path))\n"
          ]
        },
        {
          "output_type": "stream",
          "name": "stdout",
          "text": [
            "   🔄 4661 — PSG: SC4661E0-PSG.edf, Hypnogram: SC4661EJ-Hypnogram.edf\n"
          ]
        },
        {
          "output_type": "stream",
          "name": "stderr",
          "text": [
            "<ipython-input-5-15075ba00614>:40: RuntimeWarning: Channels contain different highpass filters. Highest filter setting will be stored.\n",
            "  raw = mne.io.read_raw_edf(psg_path, preload=True, verbose=False)\n",
            "<ipython-input-5-15075ba00614>:40: RuntimeWarning: Channels contain different lowpass filters. Lowest filter setting will be stored.\n",
            "  raw = mne.io.read_raw_edf(psg_path, preload=True, verbose=False)\n",
            "<ipython-input-5-15075ba00614>:40: RuntimeWarning: Highpass cutoff frequency 16.0 is greater than lowpass cutoff frequency 0.7, setting values to 0 and Nyquist.\n",
            "  raw = mne.io.read_raw_edf(psg_path, preload=True, verbose=False)\n"
          ]
        },
        {
          "output_type": "stream",
          "name": "stdout",
          "text": [
            "NOTE: pick_channels() is a legacy function. New code should use inst.pick(...).\n"
          ]
        },
        {
          "output_type": "stream",
          "name": "stderr",
          "text": [
            "<ipython-input-5-15075ba00614>:41: RuntimeWarning: Limited 1 annotation(s) that were expanding outside the data range.\n",
            "  raw.set_annotations(mne.read_annotations(hypno_path))\n"
          ]
        },
        {
          "output_type": "stream",
          "name": "stdout",
          "text": [
            "   🔄 4662 — PSG: SC4662E0-PSG.edf, Hypnogram: SC4662EJ-Hypnogram.edf\n"
          ]
        },
        {
          "output_type": "stream",
          "name": "stderr",
          "text": [
            "<ipython-input-5-15075ba00614>:40: RuntimeWarning: Channels contain different highpass filters. Highest filter setting will be stored.\n",
            "  raw = mne.io.read_raw_edf(psg_path, preload=True, verbose=False)\n",
            "<ipython-input-5-15075ba00614>:40: RuntimeWarning: Channels contain different lowpass filters. Lowest filter setting will be stored.\n",
            "  raw = mne.io.read_raw_edf(psg_path, preload=True, verbose=False)\n",
            "<ipython-input-5-15075ba00614>:40: RuntimeWarning: Highpass cutoff frequency 16.0 is greater than lowpass cutoff frequency 0.7, setting values to 0 and Nyquist.\n",
            "  raw = mne.io.read_raw_edf(psg_path, preload=True, verbose=False)\n"
          ]
        },
        {
          "output_type": "stream",
          "name": "stdout",
          "text": [
            "NOTE: pick_channels() is a legacy function. New code should use inst.pick(...).\n"
          ]
        },
        {
          "output_type": "stream",
          "name": "stderr",
          "text": [
            "<ipython-input-5-15075ba00614>:41: RuntimeWarning: Limited 1 annotation(s) that were expanding outside the data range.\n",
            "  raw.set_annotations(mne.read_annotations(hypno_path))\n"
          ]
        },
        {
          "output_type": "stream",
          "name": "stdout",
          "text": [
            "   🔄 4671 — PSG: SC4671G0-PSG.edf, Hypnogram: SC4671GJ-Hypnogram.edf\n"
          ]
        },
        {
          "output_type": "stream",
          "name": "stderr",
          "text": [
            "<ipython-input-5-15075ba00614>:40: RuntimeWarning: Channels contain different highpass filters. Highest filter setting will be stored.\n",
            "  raw = mne.io.read_raw_edf(psg_path, preload=True, verbose=False)\n",
            "<ipython-input-5-15075ba00614>:40: RuntimeWarning: Channels contain different lowpass filters. Lowest filter setting will be stored.\n",
            "  raw = mne.io.read_raw_edf(psg_path, preload=True, verbose=False)\n",
            "<ipython-input-5-15075ba00614>:40: RuntimeWarning: Highpass cutoff frequency 16.0 is greater than lowpass cutoff frequency 0.7, setting values to 0 and Nyquist.\n",
            "  raw = mne.io.read_raw_edf(psg_path, preload=True, verbose=False)\n"
          ]
        },
        {
          "output_type": "stream",
          "name": "stdout",
          "text": [
            "NOTE: pick_channels() is a legacy function. New code should use inst.pick(...).\n"
          ]
        },
        {
          "output_type": "stream",
          "name": "stderr",
          "text": [
            "<ipython-input-5-15075ba00614>:41: RuntimeWarning: Limited 1 annotation(s) that were expanding outside the data range.\n",
            "  raw.set_annotations(mne.read_annotations(hypno_path))\n"
          ]
        },
        {
          "output_type": "stream",
          "name": "stdout",
          "text": [
            "   🔄 4672 — PSG: SC4672G0-PSG.edf, Hypnogram: SC4672GV-Hypnogram.edf\n"
          ]
        },
        {
          "output_type": "stream",
          "name": "stderr",
          "text": [
            "<ipython-input-5-15075ba00614>:40: RuntimeWarning: Channels contain different highpass filters. Highest filter setting will be stored.\n",
            "  raw = mne.io.read_raw_edf(psg_path, preload=True, verbose=False)\n",
            "<ipython-input-5-15075ba00614>:40: RuntimeWarning: Channels contain different lowpass filters. Lowest filter setting will be stored.\n",
            "  raw = mne.io.read_raw_edf(psg_path, preload=True, verbose=False)\n",
            "<ipython-input-5-15075ba00614>:40: RuntimeWarning: Highpass cutoff frequency 16.0 is greater than lowpass cutoff frequency 0.7, setting values to 0 and Nyquist.\n",
            "  raw = mne.io.read_raw_edf(psg_path, preload=True, verbose=False)\n"
          ]
        },
        {
          "output_type": "stream",
          "name": "stdout",
          "text": [
            "NOTE: pick_channels() is a legacy function. New code should use inst.pick(...).\n"
          ]
        },
        {
          "output_type": "stream",
          "name": "stderr",
          "text": [
            "<ipython-input-5-15075ba00614>:41: RuntimeWarning: Limited 1 annotation(s) that were expanding outside the data range.\n",
            "  raw.set_annotations(mne.read_annotations(hypno_path))\n"
          ]
        },
        {
          "output_type": "stream",
          "name": "stdout",
          "text": [
            "   🔄 4701 — PSG: SC4701E0-PSG.edf, Hypnogram: SC4701EC-Hypnogram.edf\n"
          ]
        },
        {
          "output_type": "stream",
          "name": "stderr",
          "text": [
            "<ipython-input-5-15075ba00614>:40: RuntimeWarning: Channels contain different highpass filters. Highest filter setting will be stored.\n",
            "  raw = mne.io.read_raw_edf(psg_path, preload=True, verbose=False)\n",
            "<ipython-input-5-15075ba00614>:40: RuntimeWarning: Channels contain different lowpass filters. Lowest filter setting will be stored.\n",
            "  raw = mne.io.read_raw_edf(psg_path, preload=True, verbose=False)\n",
            "<ipython-input-5-15075ba00614>:40: RuntimeWarning: Highpass cutoff frequency 16.0 is greater than lowpass cutoff frequency 0.7, setting values to 0 and Nyquist.\n",
            "  raw = mne.io.read_raw_edf(psg_path, preload=True, verbose=False)\n"
          ]
        },
        {
          "output_type": "stream",
          "name": "stdout",
          "text": [
            "NOTE: pick_channels() is a legacy function. New code should use inst.pick(...).\n"
          ]
        },
        {
          "output_type": "stream",
          "name": "stderr",
          "text": [
            "<ipython-input-5-15075ba00614>:41: RuntimeWarning: Limited 1 annotation(s) that were expanding outside the data range.\n",
            "  raw.set_annotations(mne.read_annotations(hypno_path))\n"
          ]
        },
        {
          "output_type": "stream",
          "name": "stdout",
          "text": [
            "   🔄 4702 — PSG: SC4702E0-PSG.edf, Hypnogram: SC4702EA-Hypnogram.edf\n"
          ]
        },
        {
          "output_type": "stream",
          "name": "stderr",
          "text": [
            "<ipython-input-5-15075ba00614>:40: RuntimeWarning: Channels contain different highpass filters. Highest filter setting will be stored.\n",
            "  raw = mne.io.read_raw_edf(psg_path, preload=True, verbose=False)\n",
            "<ipython-input-5-15075ba00614>:40: RuntimeWarning: Channels contain different lowpass filters. Lowest filter setting will be stored.\n",
            "  raw = mne.io.read_raw_edf(psg_path, preload=True, verbose=False)\n",
            "<ipython-input-5-15075ba00614>:40: RuntimeWarning: Highpass cutoff frequency 16.0 is greater than lowpass cutoff frequency 0.7, setting values to 0 and Nyquist.\n",
            "  raw = mne.io.read_raw_edf(psg_path, preload=True, verbose=False)\n"
          ]
        },
        {
          "output_type": "stream",
          "name": "stdout",
          "text": [
            "NOTE: pick_channels() is a legacy function. New code should use inst.pick(...).\n"
          ]
        },
        {
          "output_type": "stream",
          "name": "stderr",
          "text": [
            "<ipython-input-5-15075ba00614>:41: RuntimeWarning: Limited 1 annotation(s) that were expanding outside the data range.\n",
            "  raw.set_annotations(mne.read_annotations(hypno_path))\n"
          ]
        },
        {
          "output_type": "stream",
          "name": "stdout",
          "text": [
            "   🔄 4711 — PSG: SC4711E0-PSG.edf, Hypnogram: SC4711EC-Hypnogram.edf\n"
          ]
        },
        {
          "output_type": "stream",
          "name": "stderr",
          "text": [
            "<ipython-input-5-15075ba00614>:40: RuntimeWarning: Channels contain different highpass filters. Highest filter setting will be stored.\n",
            "  raw = mne.io.read_raw_edf(psg_path, preload=True, verbose=False)\n",
            "<ipython-input-5-15075ba00614>:40: RuntimeWarning: Channels contain different lowpass filters. Lowest filter setting will be stored.\n",
            "  raw = mne.io.read_raw_edf(psg_path, preload=True, verbose=False)\n",
            "<ipython-input-5-15075ba00614>:40: RuntimeWarning: Highpass cutoff frequency 16.0 is greater than lowpass cutoff frequency 0.7, setting values to 0 and Nyquist.\n",
            "  raw = mne.io.read_raw_edf(psg_path, preload=True, verbose=False)\n"
          ]
        },
        {
          "output_type": "stream",
          "name": "stdout",
          "text": [
            "NOTE: pick_channels() is a legacy function. New code should use inst.pick(...).\n"
          ]
        },
        {
          "output_type": "stream",
          "name": "stderr",
          "text": [
            "<ipython-input-5-15075ba00614>:41: RuntimeWarning: Limited 1 annotation(s) that were expanding outside the data range.\n",
            "  raw.set_annotations(mne.read_annotations(hypno_path))\n"
          ]
        },
        {
          "output_type": "stream",
          "name": "stdout",
          "text": [
            "   🔄 4712 — PSG: SC4712E0-PSG.edf, Hypnogram: SC4712EA-Hypnogram.edf\n"
          ]
        },
        {
          "output_type": "stream",
          "name": "stderr",
          "text": [
            "<ipython-input-5-15075ba00614>:40: RuntimeWarning: Channels contain different highpass filters. Highest filter setting will be stored.\n",
            "  raw = mne.io.read_raw_edf(psg_path, preload=True, verbose=False)\n",
            "<ipython-input-5-15075ba00614>:40: RuntimeWarning: Channels contain different lowpass filters. Lowest filter setting will be stored.\n",
            "  raw = mne.io.read_raw_edf(psg_path, preload=True, verbose=False)\n",
            "<ipython-input-5-15075ba00614>:40: RuntimeWarning: Highpass cutoff frequency 16.0 is greater than lowpass cutoff frequency 0.7, setting values to 0 and Nyquist.\n",
            "  raw = mne.io.read_raw_edf(psg_path, preload=True, verbose=False)\n"
          ]
        },
        {
          "output_type": "stream",
          "name": "stdout",
          "text": [
            "NOTE: pick_channels() is a legacy function. New code should use inst.pick(...).\n"
          ]
        },
        {
          "output_type": "stream",
          "name": "stderr",
          "text": [
            "<ipython-input-5-15075ba00614>:41: RuntimeWarning: Limited 1 annotation(s) that were expanding outside the data range.\n",
            "  raw.set_annotations(mne.read_annotations(hypno_path))\n"
          ]
        },
        {
          "output_type": "stream",
          "name": "stdout",
          "text": [
            "   🔄 4721 — PSG: SC4721E0-PSG.edf, Hypnogram: SC4721EC-Hypnogram.edf\n"
          ]
        },
        {
          "output_type": "stream",
          "name": "stderr",
          "text": [
            "<ipython-input-5-15075ba00614>:40: RuntimeWarning: Channels contain different highpass filters. Highest filter setting will be stored.\n",
            "  raw = mne.io.read_raw_edf(psg_path, preload=True, verbose=False)\n",
            "<ipython-input-5-15075ba00614>:40: RuntimeWarning: Channels contain different lowpass filters. Lowest filter setting will be stored.\n",
            "  raw = mne.io.read_raw_edf(psg_path, preload=True, verbose=False)\n",
            "<ipython-input-5-15075ba00614>:40: RuntimeWarning: Highpass cutoff frequency 16.0 is greater than lowpass cutoff frequency 0.7, setting values to 0 and Nyquist.\n",
            "  raw = mne.io.read_raw_edf(psg_path, preload=True, verbose=False)\n"
          ]
        },
        {
          "output_type": "stream",
          "name": "stdout",
          "text": [
            "NOTE: pick_channels() is a legacy function. New code should use inst.pick(...).\n"
          ]
        },
        {
          "output_type": "stream",
          "name": "stderr",
          "text": [
            "<ipython-input-5-15075ba00614>:41: RuntimeWarning: Limited 1 annotation(s) that were expanding outside the data range.\n",
            "  raw.set_annotations(mne.read_annotations(hypno_path))\n"
          ]
        },
        {
          "output_type": "stream",
          "name": "stdout",
          "text": [
            "   🔄 4722 — PSG: SC4722E0-PSG.edf, Hypnogram: SC4722EM-Hypnogram.edf\n"
          ]
        },
        {
          "output_type": "stream",
          "name": "stderr",
          "text": [
            "<ipython-input-5-15075ba00614>:40: RuntimeWarning: Channels contain different highpass filters. Highest filter setting will be stored.\n",
            "  raw = mne.io.read_raw_edf(psg_path, preload=True, verbose=False)\n",
            "<ipython-input-5-15075ba00614>:40: RuntimeWarning: Channels contain different lowpass filters. Lowest filter setting will be stored.\n",
            "  raw = mne.io.read_raw_edf(psg_path, preload=True, verbose=False)\n",
            "<ipython-input-5-15075ba00614>:40: RuntimeWarning: Highpass cutoff frequency 16.0 is greater than lowpass cutoff frequency 0.7, setting values to 0 and Nyquist.\n",
            "  raw = mne.io.read_raw_edf(psg_path, preload=True, verbose=False)\n"
          ]
        },
        {
          "output_type": "stream",
          "name": "stdout",
          "text": [
            "NOTE: pick_channels() is a legacy function. New code should use inst.pick(...).\n"
          ]
        },
        {
          "output_type": "stream",
          "name": "stderr",
          "text": [
            "<ipython-input-5-15075ba00614>:41: RuntimeWarning: Limited 1 annotation(s) that were expanding outside the data range.\n",
            "  raw.set_annotations(mne.read_annotations(hypno_path))\n"
          ]
        },
        {
          "output_type": "stream",
          "name": "stdout",
          "text": [
            "   🔄 4731 — PSG: SC4731E0-PSG.edf, Hypnogram: SC4731EM-Hypnogram.edf\n"
          ]
        },
        {
          "output_type": "stream",
          "name": "stderr",
          "text": [
            "<ipython-input-5-15075ba00614>:40: RuntimeWarning: Channels contain different highpass filters. Highest filter setting will be stored.\n",
            "  raw = mne.io.read_raw_edf(psg_path, preload=True, verbose=False)\n",
            "<ipython-input-5-15075ba00614>:40: RuntimeWarning: Channels contain different lowpass filters. Lowest filter setting will be stored.\n",
            "  raw = mne.io.read_raw_edf(psg_path, preload=True, verbose=False)\n",
            "<ipython-input-5-15075ba00614>:40: RuntimeWarning: Highpass cutoff frequency 16.0 is greater than lowpass cutoff frequency 0.7, setting values to 0 and Nyquist.\n",
            "  raw = mne.io.read_raw_edf(psg_path, preload=True, verbose=False)\n"
          ]
        },
        {
          "output_type": "stream",
          "name": "stdout",
          "text": [
            "NOTE: pick_channels() is a legacy function. New code should use inst.pick(...).\n"
          ]
        },
        {
          "output_type": "stream",
          "name": "stderr",
          "text": [
            "<ipython-input-5-15075ba00614>:41: RuntimeWarning: Limited 1 annotation(s) that were expanding outside the data range.\n",
            "  raw.set_annotations(mne.read_annotations(hypno_path))\n"
          ]
        },
        {
          "output_type": "stream",
          "name": "stdout",
          "text": [
            "   🔄 4732 — PSG: SC4732E0-PSG.edf, Hypnogram: SC4732EJ-Hypnogram.edf\n"
          ]
        },
        {
          "output_type": "stream",
          "name": "stderr",
          "text": [
            "<ipython-input-5-15075ba00614>:40: RuntimeWarning: Channels contain different highpass filters. Highest filter setting will be stored.\n",
            "  raw = mne.io.read_raw_edf(psg_path, preload=True, verbose=False)\n",
            "<ipython-input-5-15075ba00614>:40: RuntimeWarning: Channels contain different lowpass filters. Lowest filter setting will be stored.\n",
            "  raw = mne.io.read_raw_edf(psg_path, preload=True, verbose=False)\n",
            "<ipython-input-5-15075ba00614>:40: RuntimeWarning: Highpass cutoff frequency 16.0 is greater than lowpass cutoff frequency 0.7, setting values to 0 and Nyquist.\n",
            "  raw = mne.io.read_raw_edf(psg_path, preload=True, verbose=False)\n"
          ]
        },
        {
          "output_type": "stream",
          "name": "stdout",
          "text": [
            "NOTE: pick_channels() is a legacy function. New code should use inst.pick(...).\n"
          ]
        },
        {
          "output_type": "stream",
          "name": "stderr",
          "text": [
            "<ipython-input-5-15075ba00614>:41: RuntimeWarning: Limited 1 annotation(s) that were expanding outside the data range.\n",
            "  raw.set_annotations(mne.read_annotations(hypno_path))\n"
          ]
        },
        {
          "output_type": "stream",
          "name": "stdout",
          "text": [
            "   🔄 4741 — PSG: SC4741E0-PSG.edf, Hypnogram: SC4741EA-Hypnogram.edf\n"
          ]
        },
        {
          "output_type": "stream",
          "name": "stderr",
          "text": [
            "<ipython-input-5-15075ba00614>:40: RuntimeWarning: Channels contain different highpass filters. Highest filter setting will be stored.\n",
            "  raw = mne.io.read_raw_edf(psg_path, preload=True, verbose=False)\n",
            "<ipython-input-5-15075ba00614>:40: RuntimeWarning: Channels contain different lowpass filters. Lowest filter setting will be stored.\n",
            "  raw = mne.io.read_raw_edf(psg_path, preload=True, verbose=False)\n",
            "<ipython-input-5-15075ba00614>:40: RuntimeWarning: Highpass cutoff frequency 16.0 is greater than lowpass cutoff frequency 0.7, setting values to 0 and Nyquist.\n",
            "  raw = mne.io.read_raw_edf(psg_path, preload=True, verbose=False)\n"
          ]
        },
        {
          "output_type": "stream",
          "name": "stdout",
          "text": [
            "NOTE: pick_channels() is a legacy function. New code should use inst.pick(...).\n"
          ]
        },
        {
          "output_type": "stream",
          "name": "stderr",
          "text": [
            "<ipython-input-5-15075ba00614>:41: RuntimeWarning: Limited 1 annotation(s) that were expanding outside the data range.\n",
            "  raw.set_annotations(mne.read_annotations(hypno_path))\n"
          ]
        },
        {
          "output_type": "stream",
          "name": "stdout",
          "text": [
            "✅ Saved: /content/drive/MyDrive/sleep_data_part7.pkl\n",
            "\n",
            "🚀 Processing chunk 8/8 (IDs: ['4742', '4751', '4752', '4761', '4762', '4771', '4772', '4801', '4802', '4811', '4812', '4821', '4822'])\n",
            "   🔄 4742 — PSG: SC4742E0-PSG.edf, Hypnogram: SC4742EC-Hypnogram.edf\n"
          ]
        },
        {
          "output_type": "stream",
          "name": "stderr",
          "text": [
            "<ipython-input-5-15075ba00614>:40: RuntimeWarning: Channels contain different highpass filters. Highest filter setting will be stored.\n",
            "  raw = mne.io.read_raw_edf(psg_path, preload=True, verbose=False)\n",
            "<ipython-input-5-15075ba00614>:40: RuntimeWarning: Channels contain different lowpass filters. Lowest filter setting will be stored.\n",
            "  raw = mne.io.read_raw_edf(psg_path, preload=True, verbose=False)\n",
            "<ipython-input-5-15075ba00614>:40: RuntimeWarning: Highpass cutoff frequency 16.0 is greater than lowpass cutoff frequency 0.7, setting values to 0 and Nyquist.\n",
            "  raw = mne.io.read_raw_edf(psg_path, preload=True, verbose=False)\n"
          ]
        },
        {
          "output_type": "stream",
          "name": "stdout",
          "text": [
            "NOTE: pick_channels() is a legacy function. New code should use inst.pick(...).\n"
          ]
        },
        {
          "output_type": "stream",
          "name": "stderr",
          "text": [
            "<ipython-input-5-15075ba00614>:41: RuntimeWarning: Limited 1 annotation(s) that were expanding outside the data range.\n",
            "  raw.set_annotations(mne.read_annotations(hypno_path))\n"
          ]
        },
        {
          "output_type": "stream",
          "name": "stdout",
          "text": [
            "   🔄 4751 — PSG: SC4751E0-PSG.edf, Hypnogram: SC4751EC-Hypnogram.edf\n"
          ]
        },
        {
          "output_type": "stream",
          "name": "stderr",
          "text": [
            "<ipython-input-5-15075ba00614>:40: RuntimeWarning: Channels contain different highpass filters. Highest filter setting will be stored.\n",
            "  raw = mne.io.read_raw_edf(psg_path, preload=True, verbose=False)\n",
            "<ipython-input-5-15075ba00614>:40: RuntimeWarning: Channels contain different lowpass filters. Lowest filter setting will be stored.\n",
            "  raw = mne.io.read_raw_edf(psg_path, preload=True, verbose=False)\n",
            "<ipython-input-5-15075ba00614>:40: RuntimeWarning: Highpass cutoff frequency 16.0 is greater than lowpass cutoff frequency 0.7, setting values to 0 and Nyquist.\n",
            "  raw = mne.io.read_raw_edf(psg_path, preload=True, verbose=False)\n"
          ]
        },
        {
          "output_type": "stream",
          "name": "stdout",
          "text": [
            "NOTE: pick_channels() is a legacy function. New code should use inst.pick(...).\n"
          ]
        },
        {
          "output_type": "stream",
          "name": "stderr",
          "text": [
            "<ipython-input-5-15075ba00614>:41: RuntimeWarning: Limited 1 annotation(s) that were expanding outside the data range.\n",
            "  raw.set_annotations(mne.read_annotations(hypno_path))\n"
          ]
        },
        {
          "output_type": "stream",
          "name": "stdout",
          "text": [
            "   🔄 4752 — PSG: SC4752E0-PSG.edf, Hypnogram: SC4752EM-Hypnogram.edf\n"
          ]
        },
        {
          "output_type": "stream",
          "name": "stderr",
          "text": [
            "<ipython-input-5-15075ba00614>:40: RuntimeWarning: Channels contain different highpass filters. Highest filter setting will be stored.\n",
            "  raw = mne.io.read_raw_edf(psg_path, preload=True, verbose=False)\n",
            "<ipython-input-5-15075ba00614>:40: RuntimeWarning: Channels contain different lowpass filters. Lowest filter setting will be stored.\n",
            "  raw = mne.io.read_raw_edf(psg_path, preload=True, verbose=False)\n",
            "<ipython-input-5-15075ba00614>:40: RuntimeWarning: Highpass cutoff frequency 16.0 is greater than lowpass cutoff frequency 0.7, setting values to 0 and Nyquist.\n",
            "  raw = mne.io.read_raw_edf(psg_path, preload=True, verbose=False)\n"
          ]
        },
        {
          "output_type": "stream",
          "name": "stdout",
          "text": [
            "NOTE: pick_channels() is a legacy function. New code should use inst.pick(...).\n"
          ]
        },
        {
          "output_type": "stream",
          "name": "stderr",
          "text": [
            "<ipython-input-5-15075ba00614>:41: RuntimeWarning: Limited 1 annotation(s) that were expanding outside the data range.\n",
            "  raw.set_annotations(mne.read_annotations(hypno_path))\n"
          ]
        },
        {
          "output_type": "stream",
          "name": "stdout",
          "text": [
            "   🔄 4761 — PSG: SC4761E0-PSG.edf, Hypnogram: SC4761EP-Hypnogram.edf\n"
          ]
        },
        {
          "output_type": "stream",
          "name": "stderr",
          "text": [
            "<ipython-input-5-15075ba00614>:40: RuntimeWarning: Channels contain different highpass filters. Highest filter setting will be stored.\n",
            "  raw = mne.io.read_raw_edf(psg_path, preload=True, verbose=False)\n",
            "<ipython-input-5-15075ba00614>:40: RuntimeWarning: Channels contain different lowpass filters. Lowest filter setting will be stored.\n",
            "  raw = mne.io.read_raw_edf(psg_path, preload=True, verbose=False)\n",
            "<ipython-input-5-15075ba00614>:40: RuntimeWarning: Highpass cutoff frequency 16.0 is greater than lowpass cutoff frequency 0.7, setting values to 0 and Nyquist.\n",
            "  raw = mne.io.read_raw_edf(psg_path, preload=True, verbose=False)\n"
          ]
        },
        {
          "output_type": "stream",
          "name": "stdout",
          "text": [
            "NOTE: pick_channels() is a legacy function. New code should use inst.pick(...).\n"
          ]
        },
        {
          "output_type": "stream",
          "name": "stderr",
          "text": [
            "<ipython-input-5-15075ba00614>:41: RuntimeWarning: Limited 1 annotation(s) that were expanding outside the data range.\n",
            "  raw.set_annotations(mne.read_annotations(hypno_path))\n"
          ]
        },
        {
          "output_type": "stream",
          "name": "stdout",
          "text": [
            "   🔄 4762 — PSG: SC4762E0-PSG.edf, Hypnogram: SC4762EG-Hypnogram.edf\n"
          ]
        },
        {
          "output_type": "stream",
          "name": "stderr",
          "text": [
            "<ipython-input-5-15075ba00614>:40: RuntimeWarning: Channels contain different highpass filters. Highest filter setting will be stored.\n",
            "  raw = mne.io.read_raw_edf(psg_path, preload=True, verbose=False)\n",
            "<ipython-input-5-15075ba00614>:40: RuntimeWarning: Channels contain different lowpass filters. Lowest filter setting will be stored.\n",
            "  raw = mne.io.read_raw_edf(psg_path, preload=True, verbose=False)\n",
            "<ipython-input-5-15075ba00614>:40: RuntimeWarning: Highpass cutoff frequency 16.0 is greater than lowpass cutoff frequency 0.7, setting values to 0 and Nyquist.\n",
            "  raw = mne.io.read_raw_edf(psg_path, preload=True, verbose=False)\n"
          ]
        },
        {
          "output_type": "stream",
          "name": "stdout",
          "text": [
            "NOTE: pick_channels() is a legacy function. New code should use inst.pick(...).\n"
          ]
        },
        {
          "output_type": "stream",
          "name": "stderr",
          "text": [
            "<ipython-input-5-15075ba00614>:41: RuntimeWarning: Limited 1 annotation(s) that were expanding outside the data range.\n",
            "  raw.set_annotations(mne.read_annotations(hypno_path))\n"
          ]
        },
        {
          "output_type": "stream",
          "name": "stdout",
          "text": [
            "   🔄 4771 — PSG: SC4771G0-PSG.edf, Hypnogram: SC4771GC-Hypnogram.edf\n"
          ]
        },
        {
          "output_type": "stream",
          "name": "stderr",
          "text": [
            "<ipython-input-5-15075ba00614>:40: RuntimeWarning: Channels contain different highpass filters. Highest filter setting will be stored.\n",
            "  raw = mne.io.read_raw_edf(psg_path, preload=True, verbose=False)\n",
            "<ipython-input-5-15075ba00614>:40: RuntimeWarning: Channels contain different lowpass filters. Lowest filter setting will be stored.\n",
            "  raw = mne.io.read_raw_edf(psg_path, preload=True, verbose=False)\n",
            "<ipython-input-5-15075ba00614>:40: RuntimeWarning: Highpass cutoff frequency 16.0 is greater than lowpass cutoff frequency 0.7, setting values to 0 and Nyquist.\n",
            "  raw = mne.io.read_raw_edf(psg_path, preload=True, verbose=False)\n"
          ]
        },
        {
          "output_type": "stream",
          "name": "stdout",
          "text": [
            "NOTE: pick_channels() is a legacy function. New code should use inst.pick(...).\n"
          ]
        },
        {
          "output_type": "stream",
          "name": "stderr",
          "text": [
            "<ipython-input-5-15075ba00614>:41: RuntimeWarning: Limited 1 annotation(s) that were expanding outside the data range.\n",
            "  raw.set_annotations(mne.read_annotations(hypno_path))\n"
          ]
        },
        {
          "output_type": "stream",
          "name": "stdout",
          "text": [
            "   🔄 4772 — PSG: SC4772G0-PSG.edf, Hypnogram: SC4772GC-Hypnogram.edf\n"
          ]
        },
        {
          "output_type": "stream",
          "name": "stderr",
          "text": [
            "<ipython-input-5-15075ba00614>:40: RuntimeWarning: Channels contain different highpass filters. Highest filter setting will be stored.\n",
            "  raw = mne.io.read_raw_edf(psg_path, preload=True, verbose=False)\n",
            "<ipython-input-5-15075ba00614>:40: RuntimeWarning: Channels contain different lowpass filters. Lowest filter setting will be stored.\n",
            "  raw = mne.io.read_raw_edf(psg_path, preload=True, verbose=False)\n",
            "<ipython-input-5-15075ba00614>:40: RuntimeWarning: Highpass cutoff frequency 16.0 is greater than lowpass cutoff frequency 0.7, setting values to 0 and Nyquist.\n",
            "  raw = mne.io.read_raw_edf(psg_path, preload=True, verbose=False)\n"
          ]
        },
        {
          "output_type": "stream",
          "name": "stdout",
          "text": [
            "NOTE: pick_channels() is a legacy function. New code should use inst.pick(...).\n"
          ]
        },
        {
          "output_type": "stream",
          "name": "stderr",
          "text": [
            "<ipython-input-5-15075ba00614>:41: RuntimeWarning: Limited 1 annotation(s) that were expanding outside the data range.\n",
            "  raw.set_annotations(mne.read_annotations(hypno_path))\n"
          ]
        },
        {
          "output_type": "stream",
          "name": "stdout",
          "text": [
            "   🔄 4801 — PSG: SC4801G0-PSG.edf, Hypnogram: SC4801GC-Hypnogram.edf\n"
          ]
        },
        {
          "output_type": "stream",
          "name": "stderr",
          "text": [
            "<ipython-input-5-15075ba00614>:40: RuntimeWarning: Channels contain different highpass filters. Highest filter setting will be stored.\n",
            "  raw = mne.io.read_raw_edf(psg_path, preload=True, verbose=False)\n",
            "<ipython-input-5-15075ba00614>:40: RuntimeWarning: Channels contain different lowpass filters. Lowest filter setting will be stored.\n",
            "  raw = mne.io.read_raw_edf(psg_path, preload=True, verbose=False)\n",
            "<ipython-input-5-15075ba00614>:40: RuntimeWarning: Highpass cutoff frequency 16.0 is greater than lowpass cutoff frequency 0.7, setting values to 0 and Nyquist.\n",
            "  raw = mne.io.read_raw_edf(psg_path, preload=True, verbose=False)\n"
          ]
        },
        {
          "output_type": "stream",
          "name": "stdout",
          "text": [
            "NOTE: pick_channels() is a legacy function. New code should use inst.pick(...).\n"
          ]
        },
        {
          "output_type": "stream",
          "name": "stderr",
          "text": [
            "<ipython-input-5-15075ba00614>:41: RuntimeWarning: Limited 1 annotation(s) that were expanding outside the data range.\n",
            "  raw.set_annotations(mne.read_annotations(hypno_path))\n"
          ]
        },
        {
          "output_type": "stream",
          "name": "stdout",
          "text": [
            "   🔄 4802 — PSG: SC4802G0-PSG.edf, Hypnogram: SC4802GV-Hypnogram.edf\n"
          ]
        },
        {
          "output_type": "stream",
          "name": "stderr",
          "text": [
            "<ipython-input-5-15075ba00614>:40: RuntimeWarning: Channels contain different highpass filters. Highest filter setting will be stored.\n",
            "  raw = mne.io.read_raw_edf(psg_path, preload=True, verbose=False)\n",
            "<ipython-input-5-15075ba00614>:40: RuntimeWarning: Channels contain different lowpass filters. Lowest filter setting will be stored.\n",
            "  raw = mne.io.read_raw_edf(psg_path, preload=True, verbose=False)\n",
            "<ipython-input-5-15075ba00614>:40: RuntimeWarning: Highpass cutoff frequency 16.0 is greater than lowpass cutoff frequency 0.7, setting values to 0 and Nyquist.\n",
            "  raw = mne.io.read_raw_edf(psg_path, preload=True, verbose=False)\n"
          ]
        },
        {
          "output_type": "stream",
          "name": "stdout",
          "text": [
            "NOTE: pick_channels() is a legacy function. New code should use inst.pick(...).\n"
          ]
        },
        {
          "output_type": "stream",
          "name": "stderr",
          "text": [
            "<ipython-input-5-15075ba00614>:41: RuntimeWarning: Limited 1 annotation(s) that were expanding outside the data range.\n",
            "  raw.set_annotations(mne.read_annotations(hypno_path))\n"
          ]
        },
        {
          "output_type": "stream",
          "name": "stdout",
          "text": [
            "   🔄 4811 — PSG: SC4811G0-PSG.edf, Hypnogram: SC4811GG-Hypnogram.edf\n"
          ]
        },
        {
          "output_type": "stream",
          "name": "stderr",
          "text": [
            "<ipython-input-5-15075ba00614>:40: RuntimeWarning: Channels contain different highpass filters. Highest filter setting will be stored.\n",
            "  raw = mne.io.read_raw_edf(psg_path, preload=True, verbose=False)\n",
            "<ipython-input-5-15075ba00614>:40: RuntimeWarning: Channels contain different lowpass filters. Lowest filter setting will be stored.\n",
            "  raw = mne.io.read_raw_edf(psg_path, preload=True, verbose=False)\n",
            "<ipython-input-5-15075ba00614>:40: RuntimeWarning: Highpass cutoff frequency 16.0 is greater than lowpass cutoff frequency 0.7, setting values to 0 and Nyquist.\n",
            "  raw = mne.io.read_raw_edf(psg_path, preload=True, verbose=False)\n"
          ]
        },
        {
          "output_type": "stream",
          "name": "stdout",
          "text": [
            "NOTE: pick_channels() is a legacy function. New code should use inst.pick(...).\n"
          ]
        },
        {
          "output_type": "stream",
          "name": "stderr",
          "text": [
            "<ipython-input-5-15075ba00614>:41: RuntimeWarning: Limited 1 annotation(s) that were expanding outside the data range.\n",
            "  raw.set_annotations(mne.read_annotations(hypno_path))\n"
          ]
        },
        {
          "output_type": "stream",
          "name": "stdout",
          "text": [
            "   🔄 4812 — PSG: SC4812G0-PSG.edf, Hypnogram: SC4812GV-Hypnogram.edf\n"
          ]
        },
        {
          "output_type": "stream",
          "name": "stderr",
          "text": [
            "<ipython-input-5-15075ba00614>:40: RuntimeWarning: Channels contain different highpass filters. Highest filter setting will be stored.\n",
            "  raw = mne.io.read_raw_edf(psg_path, preload=True, verbose=False)\n",
            "<ipython-input-5-15075ba00614>:40: RuntimeWarning: Channels contain different lowpass filters. Lowest filter setting will be stored.\n",
            "  raw = mne.io.read_raw_edf(psg_path, preload=True, verbose=False)\n",
            "<ipython-input-5-15075ba00614>:40: RuntimeWarning: Highpass cutoff frequency 16.0 is greater than lowpass cutoff frequency 0.7, setting values to 0 and Nyquist.\n",
            "  raw = mne.io.read_raw_edf(psg_path, preload=True, verbose=False)\n"
          ]
        },
        {
          "output_type": "stream",
          "name": "stdout",
          "text": [
            "NOTE: pick_channels() is a legacy function. New code should use inst.pick(...).\n"
          ]
        },
        {
          "output_type": "stream",
          "name": "stderr",
          "text": [
            "<ipython-input-5-15075ba00614>:41: RuntimeWarning: Limited 1 annotation(s) that were expanding outside the data range.\n",
            "  raw.set_annotations(mne.read_annotations(hypno_path))\n"
          ]
        },
        {
          "output_type": "stream",
          "name": "stdout",
          "text": [
            "   🔄 4821 — PSG: SC4821G0-PSG.edf, Hypnogram: SC4821GC-Hypnogram.edf\n"
          ]
        },
        {
          "output_type": "stream",
          "name": "stderr",
          "text": [
            "<ipython-input-5-15075ba00614>:40: RuntimeWarning: Channels contain different highpass filters. Highest filter setting will be stored.\n",
            "  raw = mne.io.read_raw_edf(psg_path, preload=True, verbose=False)\n",
            "<ipython-input-5-15075ba00614>:40: RuntimeWarning: Channels contain different lowpass filters. Lowest filter setting will be stored.\n",
            "  raw = mne.io.read_raw_edf(psg_path, preload=True, verbose=False)\n",
            "<ipython-input-5-15075ba00614>:40: RuntimeWarning: Highpass cutoff frequency 16.0 is greater than lowpass cutoff frequency 0.7, setting values to 0 and Nyquist.\n",
            "  raw = mne.io.read_raw_edf(psg_path, preload=True, verbose=False)\n"
          ]
        },
        {
          "output_type": "stream",
          "name": "stdout",
          "text": [
            "NOTE: pick_channels() is a legacy function. New code should use inst.pick(...).\n"
          ]
        },
        {
          "output_type": "stream",
          "name": "stderr",
          "text": [
            "<ipython-input-5-15075ba00614>:41: RuntimeWarning: Limited 1 annotation(s) that were expanding outside the data range.\n",
            "  raw.set_annotations(mne.read_annotations(hypno_path))\n"
          ]
        },
        {
          "output_type": "stream",
          "name": "stdout",
          "text": [
            "   🔄 4822 — PSG: SC4822G0-PSG.edf, Hypnogram: SC4822GC-Hypnogram.edf\n"
          ]
        },
        {
          "output_type": "stream",
          "name": "stderr",
          "text": [
            "<ipython-input-5-15075ba00614>:40: RuntimeWarning: Channels contain different highpass filters. Highest filter setting will be stored.\n",
            "  raw = mne.io.read_raw_edf(psg_path, preload=True, verbose=False)\n",
            "<ipython-input-5-15075ba00614>:40: RuntimeWarning: Channels contain different lowpass filters. Lowest filter setting will be stored.\n",
            "  raw = mne.io.read_raw_edf(psg_path, preload=True, verbose=False)\n",
            "<ipython-input-5-15075ba00614>:40: RuntimeWarning: Highpass cutoff frequency 16.0 is greater than lowpass cutoff frequency 0.7, setting values to 0 and Nyquist.\n",
            "  raw = mne.io.read_raw_edf(psg_path, preload=True, verbose=False)\n"
          ]
        },
        {
          "output_type": "stream",
          "name": "stdout",
          "text": [
            "NOTE: pick_channels() is a legacy function. New code should use inst.pick(...).\n"
          ]
        },
        {
          "output_type": "stream",
          "name": "stderr",
          "text": [
            "<ipython-input-5-15075ba00614>:41: RuntimeWarning: Limited 1 annotation(s) that were expanding outside the data range.\n",
            "  raw.set_annotations(mne.read_annotations(hypno_path))\n"
          ]
        },
        {
          "output_type": "stream",
          "name": "stdout",
          "text": [
            "✅ Saved: /content/drive/MyDrive/sleep_data_part8.pkl\n"
          ]
        }
      ]
    },
    {
      "cell_type": "code",
      "source": [
        "# 파이토치 데이터셋 클래스 정의\n",
        "class SleepEDF_EpochDataset(Dataset):\n",
        "    def __init__(self, segmented_data, labels, normalize=True):\n",
        "        \"\"\"\n",
        "        segmented_data: list of (eeg, eog) 각 shape: (60, 50)\n",
        "        labels: list of integer 라벨 (0~4)\n",
        "        \"\"\"\n",
        "        self.data = segmented_data\n",
        "        self.labels = labels\n",
        "        self.normalize = normalize\n",
        "\n",
        "    def __len__(self):\n",
        "        return len(self.data)\n",
        "\n",
        "    def __getitem__(self, idx):\n",
        "        eeg, eog = self.data[idx]  # (60, 50), (60, 50)\n",
        "        label = self.labels[idx]\n",
        "\n",
        "        if self.normalize:\n",
        "            eeg = (eeg - eeg.mean()) / (eeg.std() + 1e-6)\n",
        "            eog = (eog - eog.mean()) / (eog.std() + 1e-6)\n",
        "\n",
        "        # (1, 60, 50) 형태로 변환\n",
        "        eeg = torch.tensor(eeg, dtype=torch.float32).unsqueeze(0)\n",
        "        eog = torch.tensor(eog, dtype=torch.float32).unsqueeze(0)\n",
        "        label = torch.tensor(label, dtype=torch.long)\n",
        "        return eeg, eog, label\n",
        "\n",
        "# 데이터셋 생성\n",
        "dataset = SleepEDF_EpochDataset(all_segmented_data, all_labels_data)\n",
        "print(\"데이터셋 생성 완료:\", len(dataset), \"epochs\")"
      ],
      "metadata": {
        "id": "9DoRMu_13tGb"
      },
      "execution_count": null,
      "outputs": []
    },
    {
      "cell_type": "markdown",
      "source": [
        "### 데이터 만들기 끝"
      ],
      "metadata": {
        "id": "FonE8u7w3xgL"
      }
    },
    {
      "cell_type": "markdown",
      "source": [
        "## pkl 파일 로드"
      ],
      "metadata": {
        "id": "AMCa8WtXnq0c"
      }
    },
    {
      "cell_type": "code",
      "source": [
        "import torch\n",
        "import pickle\n",
        "from sklearn.model_selection import train_test_split\n",
        "import torch\n",
        "data = torch.load('/content/drive/MyDrive/Colab Notebooks/sleep_classification_checkpoint.pkl', map_location='cpu')"
      ],
      "metadata": {
        "colab": {
          "base_uri": "https://localhost:8080/",
          "height": 370
        },
        "id": "WBCLAubTnuG0",
        "outputId": "8f4f0a22-33c8-481f-81a6-3bb093c4207b"
      },
      "execution_count": null,
      "outputs": [
        {
          "output_type": "error",
          "ename": "FileNotFoundError",
          "evalue": "[Errno 2] No such file or directory: '/content/drive/MyDrive/Colab Notebooks/sleep_classification_checkpoint.pkl'",
          "traceback": [
            "\u001b[0;31m---------------------------------------------------------------------------\u001b[0m",
            "\u001b[0;31mFileNotFoundError\u001b[0m                         Traceback (most recent call last)",
            "\u001b[0;32m<ipython-input-1-3a14432283cc>\u001b[0m in \u001b[0;36m<cell line: 0>\u001b[0;34m()\u001b[0m\n\u001b[1;32m      8\u001b[0m \u001b[0;34m\u001b[0m\u001b[0m\n\u001b[1;32m      9\u001b[0m \u001b[0;31m# (1) Load with torch, map_location\u001b[0m\u001b[0;34m\u001b[0m\u001b[0;34m\u001b[0m\u001b[0m\n\u001b[0;32m---> 10\u001b[0;31m \u001b[0mdata\u001b[0m \u001b[0;34m=\u001b[0m \u001b[0mtorch\u001b[0m\u001b[0;34m.\u001b[0m\u001b[0mload\u001b[0m\u001b[0;34m(\u001b[0m\u001b[0;34m'/content/drive/MyDrive/Colab Notebooks/sleep_classification_checkpoint.pkl'\u001b[0m\u001b[0;34m,\u001b[0m \u001b[0mmap_location\u001b[0m\u001b[0;34m=\u001b[0m\u001b[0;34m'cpu'\u001b[0m\u001b[0;34m)\u001b[0m\u001b[0;34m\u001b[0m\u001b[0;34m\u001b[0m\u001b[0m\n\u001b[0m\u001b[1;32m     11\u001b[0m \u001b[0;34m\u001b[0m\u001b[0m\n\u001b[1;32m     12\u001b[0m \u001b[0;31m# (2) 데이터 확인\u001b[0m\u001b[0;34m\u001b[0m\u001b[0;34m\u001b[0m\u001b[0m\n",
            "\u001b[0;32m/usr/local/lib/python3.11/dist-packages/torch/serialization.py\u001b[0m in \u001b[0;36mload\u001b[0;34m(f, map_location, pickle_module, weights_only, mmap, **pickle_load_args)\u001b[0m\n\u001b[1;32m   1423\u001b[0m         \u001b[0mpickle_load_args\u001b[0m\u001b[0;34m[\u001b[0m\u001b[0;34m\"encoding\"\u001b[0m\u001b[0;34m]\u001b[0m \u001b[0;34m=\u001b[0m \u001b[0;34m\"utf-8\"\u001b[0m\u001b[0;34m\u001b[0m\u001b[0;34m\u001b[0m\u001b[0m\n\u001b[1;32m   1424\u001b[0m \u001b[0;34m\u001b[0m\u001b[0m\n\u001b[0;32m-> 1425\u001b[0;31m     \u001b[0;32mwith\u001b[0m \u001b[0m_open_file_like\u001b[0m\u001b[0;34m(\u001b[0m\u001b[0mf\u001b[0m\u001b[0;34m,\u001b[0m \u001b[0;34m\"rb\"\u001b[0m\u001b[0;34m)\u001b[0m \u001b[0;32mas\u001b[0m \u001b[0mopened_file\u001b[0m\u001b[0;34m:\u001b[0m\u001b[0;34m\u001b[0m\u001b[0;34m\u001b[0m\u001b[0m\n\u001b[0m\u001b[1;32m   1426\u001b[0m         \u001b[0;32mif\u001b[0m \u001b[0m_is_zipfile\u001b[0m\u001b[0;34m(\u001b[0m\u001b[0mopened_file\u001b[0m\u001b[0;34m)\u001b[0m\u001b[0;34m:\u001b[0m\u001b[0;34m\u001b[0m\u001b[0;34m\u001b[0m\u001b[0m\n\u001b[1;32m   1427\u001b[0m             \u001b[0;31m# The zipfile reader is going to advance the current file position.\u001b[0m\u001b[0;34m\u001b[0m\u001b[0;34m\u001b[0m\u001b[0m\n",
            "\u001b[0;32m/usr/local/lib/python3.11/dist-packages/torch/serialization.py\u001b[0m in \u001b[0;36m_open_file_like\u001b[0;34m(name_or_buffer, mode)\u001b[0m\n\u001b[1;32m    749\u001b[0m \u001b[0;32mdef\u001b[0m \u001b[0m_open_file_like\u001b[0m\u001b[0;34m(\u001b[0m\u001b[0mname_or_buffer\u001b[0m\u001b[0;34m,\u001b[0m \u001b[0mmode\u001b[0m\u001b[0;34m)\u001b[0m\u001b[0;34m:\u001b[0m\u001b[0;34m\u001b[0m\u001b[0;34m\u001b[0m\u001b[0m\n\u001b[1;32m    750\u001b[0m     \u001b[0;32mif\u001b[0m \u001b[0m_is_path\u001b[0m\u001b[0;34m(\u001b[0m\u001b[0mname_or_buffer\u001b[0m\u001b[0;34m)\u001b[0m\u001b[0;34m:\u001b[0m\u001b[0;34m\u001b[0m\u001b[0;34m\u001b[0m\u001b[0m\n\u001b[0;32m--> 751\u001b[0;31m         \u001b[0;32mreturn\u001b[0m \u001b[0m_open_file\u001b[0m\u001b[0;34m(\u001b[0m\u001b[0mname_or_buffer\u001b[0m\u001b[0;34m,\u001b[0m \u001b[0mmode\u001b[0m\u001b[0;34m)\u001b[0m\u001b[0;34m\u001b[0m\u001b[0;34m\u001b[0m\u001b[0m\n\u001b[0m\u001b[1;32m    752\u001b[0m     \u001b[0;32melse\u001b[0m\u001b[0;34m:\u001b[0m\u001b[0;34m\u001b[0m\u001b[0;34m\u001b[0m\u001b[0m\n\u001b[1;32m    753\u001b[0m         \u001b[0;32mif\u001b[0m \u001b[0;34m\"w\"\u001b[0m \u001b[0;32min\u001b[0m \u001b[0mmode\u001b[0m\u001b[0;34m:\u001b[0m\u001b[0;34m\u001b[0m\u001b[0;34m\u001b[0m\u001b[0m\n",
            "\u001b[0;32m/usr/local/lib/python3.11/dist-packages/torch/serialization.py\u001b[0m in \u001b[0;36m__init__\u001b[0;34m(self, name, mode)\u001b[0m\n\u001b[1;32m    730\u001b[0m \u001b[0;32mclass\u001b[0m \u001b[0m_open_file\u001b[0m\u001b[0;34m(\u001b[0m\u001b[0m_opener\u001b[0m\u001b[0;34m)\u001b[0m\u001b[0;34m:\u001b[0m\u001b[0;34m\u001b[0m\u001b[0;34m\u001b[0m\u001b[0m\n\u001b[1;32m    731\u001b[0m     \u001b[0;32mdef\u001b[0m \u001b[0m__init__\u001b[0m\u001b[0;34m(\u001b[0m\u001b[0mself\u001b[0m\u001b[0;34m,\u001b[0m \u001b[0mname\u001b[0m\u001b[0;34m,\u001b[0m \u001b[0mmode\u001b[0m\u001b[0;34m)\u001b[0m\u001b[0;34m:\u001b[0m\u001b[0;34m\u001b[0m\u001b[0;34m\u001b[0m\u001b[0m\n\u001b[0;32m--> 732\u001b[0;31m         \u001b[0msuper\u001b[0m\u001b[0;34m(\u001b[0m\u001b[0;34m)\u001b[0m\u001b[0;34m.\u001b[0m\u001b[0m__init__\u001b[0m\u001b[0;34m(\u001b[0m\u001b[0mopen\u001b[0m\u001b[0;34m(\u001b[0m\u001b[0mname\u001b[0m\u001b[0;34m,\u001b[0m \u001b[0mmode\u001b[0m\u001b[0;34m)\u001b[0m\u001b[0;34m)\u001b[0m\u001b[0;34m\u001b[0m\u001b[0;34m\u001b[0m\u001b[0m\n\u001b[0m\u001b[1;32m    733\u001b[0m \u001b[0;34m\u001b[0m\u001b[0m\n\u001b[1;32m    734\u001b[0m     \u001b[0;32mdef\u001b[0m \u001b[0m__exit__\u001b[0m\u001b[0;34m(\u001b[0m\u001b[0mself\u001b[0m\u001b[0;34m,\u001b[0m \u001b[0;34m*\u001b[0m\u001b[0margs\u001b[0m\u001b[0;34m)\u001b[0m\u001b[0;34m:\u001b[0m\u001b[0;34m\u001b[0m\u001b[0;34m\u001b[0m\u001b[0m\n",
            "\u001b[0;31mFileNotFoundError\u001b[0m: [Errno 2] No such file or directory: '/content/drive/MyDrive/Colab Notebooks/sleep_classification_checkpoint.pkl'"
          ]
        }
      ]
    },
    {
      "cell_type": "code",
      "source": [
        "from google.colab import drive\n",
        "drive.mount('/content/drive')"
      ],
      "metadata": {
        "colab": {
          "base_uri": "https://localhost:8080/"
        },
        "id": "5rfdgwKBnzQ2",
        "outputId": "e5402124-2e6a-41bc-a30c-4e307f9c930c"
      },
      "execution_count": null,
      "outputs": [
        {
          "output_type": "stream",
          "name": "stdout",
          "text": [
            "Mounted at /content/drive\n"
          ]
        }
      ]
    },
    {
      "cell_type": "code",
      "source": [
        "!pip install scikit-learn\n",
        "\n",
        "import torch\n",
        "import torch.nn as nn\n",
        "import torch.nn.functional as F\n",
        "import matplotlib.pyplot as plt\n",
        "from torch.utils.data import Dataset, DataLoader\n",
        "from sklearn.model_selection import train_test_split\n",
        "\n",
        "import pickle"
      ],
      "metadata": {
        "colab": {
          "base_uri": "https://localhost:8080/"
        },
        "id": "3Qp81nU315Zi",
        "outputId": "24e9f8d7-6594-45fd-d4c6-ed0ce1c6a6e3"
      },
      "execution_count": null,
      "outputs": [
        {
          "output_type": "stream",
          "name": "stdout",
          "text": [
            "Requirement already satisfied: scikit-learn in /usr/local/lib/python3.11/dist-packages (1.6.1)\n",
            "Requirement already satisfied: numpy>=1.19.5 in /usr/local/lib/python3.11/dist-packages (from scikit-learn) (2.0.2)\n",
            "Requirement already satisfied: scipy>=1.6.0 in /usr/local/lib/python3.11/dist-packages (from scikit-learn) (1.15.2)\n",
            "Requirement already satisfied: joblib>=1.2.0 in /usr/local/lib/python3.11/dist-packages (from scikit-learn) (1.5.0)\n",
            "Requirement already satisfied: threadpoolctl>=3.1.0 in /usr/local/lib/python3.11/dist-packages (from scikit-learn) (3.6.0)\n"
          ]
        }
      ]
    },
    {
      "cell_type": "markdown",
      "source": [
        "## 모델 정의"
      ],
      "metadata": {
        "id": "cVeA6p-518gi"
      }
    },
    {
      "cell_type": "code",
      "source": [
        "import torch\n",
        "import torch.nn as nn\n",
        "import torch.nn.functional as F\n",
        "\n",
        "# Channel Attention\n",
        "class ChannelGate(nn.Module):\n",
        "    def __init__(self, gate_channels, reduction_ratio=16):\n",
        "        super().__init__()\n",
        "        self.mlp = nn.Sequential(\n",
        "            nn.AdaptiveAvgPool1d(1),\n",
        "            nn.Flatten(),\n",
        "            nn.Linear(gate_channels, gate_channels // reduction_ratio),\n",
        "            nn.ReLU(),\n",
        "            nn.Linear(gate_channels // reduction_ratio, gate_channels),\n",
        "            nn.Sigmoid()\n",
        "        )\n",
        "\n",
        "    def forward(self, x):\n",
        "        scale = self.mlp(x).unsqueeze(2)\n",
        "        return x * scale\n",
        "\n",
        "# EEG/EOG CNN Feature Extractor\n",
        "class SignalCNN(nn.Module):\n",
        "    def __init__(self, in_channels=1, base_channels=32):\n",
        "        super().__init__()\n",
        "        self.block = nn.Sequential(\n",
        "            nn.Conv1d(in_channels, base_channels, kernel_size=5, padding=2),\n",
        "            nn.BatchNorm1d(base_channels),\n",
        "            nn.PReLU(),\n",
        "            ChannelGate(base_channels),\n",
        "            nn.MaxPool1d(2),\n",
        "\n",
        "            nn.Conv1d(base_channels, base_channels * 2, kernel_size=5, padding=2),\n",
        "            nn.BatchNorm1d(base_channels * 2),\n",
        "            nn.PReLU(),\n",
        "            ChannelGate(base_channels * 2),\n",
        "            nn.MaxPool1d(2),\n",
        "        )\n",
        "\n",
        "    def forward(self, x):\n",
        "        return self.block(x)  # (B, 64, L)\n",
        "\n",
        "# Cross-Modal Attention\n",
        "class CrossModalAttention(nn.Module):\n",
        "    def __init__(self, dim, heads=2):\n",
        "        super().__init__()\n",
        "        self.query_proj = nn.Linear(dim, dim)\n",
        "        self.key_proj = nn.Linear(dim, dim)\n",
        "        self.value_proj = nn.Linear(dim, dim)\n",
        "        self.attn = nn.MultiheadAttention(embed_dim=dim, num_heads=heads, batch_first=True)\n",
        "\n",
        "    def forward(self, eeg, eog):\n",
        "        Q = self.query_proj(eeg)\n",
        "        K = self.key_proj(eog)\n",
        "        V = self.value_proj(eog)\n",
        "        out, _ = self.attn(Q, K, V)\n",
        "        return out\n",
        "\n",
        "# Temporal Convolutional Network (TCN)\n",
        "class TCNBlock(nn.Module):\n",
        "    def __init__(self, in_channels, out_channels, kernel_size=3, dilation=1):\n",
        "        super().__init__()\n",
        "        padding = (kernel_size - 1) * dilation // 2\n",
        "        self.block = nn.Sequential(\n",
        "            nn.Conv1d(in_channels, out_channels, kernel_size, padding=padding, dilation=dilation),\n",
        "            nn.BatchNorm1d(out_channels),\n",
        "            nn.ReLU()\n",
        "        )\n",
        "\n",
        "    def forward(self, x):\n",
        "        return self.block(x)\n",
        "\n",
        "class TCN(nn.Module):\n",
        "    def __init__(self, input_dim, hidden_dim=64, num_layers=3):\n",
        "        super().__init__()\n",
        "        layers = []\n",
        "        for i in range(num_layers):\n",
        "            dilation = 2 ** i\n",
        "            layers.append(TCNBlock(input_dim if i == 0 else hidden_dim, hidden_dim, dilation=dilation))\n",
        "        self.network = nn.Sequential(*layers)\n",
        "\n",
        "    def forward(self, x):  # x: (B, L, C)\n",
        "        x = x.transpose(1, 2)  # → (B, C, L)\n",
        "        x = self.network(x)\n",
        "        return x.transpose(1, 2)  # → (B, L, C)\n",
        "\n",
        "# Attention Pooling + Classifier\n",
        "class AttnClassifier(nn.Module):\n",
        "    def __init__(self, input_dim, num_classes=5):\n",
        "        super().__init__()\n",
        "        self.attn = nn.Linear(input_dim, 1)\n",
        "        self.fc = nn.Linear(input_dim, num_classes)\n",
        "\n",
        "    def forward(self, x):\n",
        "        attn_weights = torch.softmax(self.attn(x), dim=1)  # (B, L, 1)\n",
        "        pooled = torch.sum(attn_weights * x, dim=1)        # (B, C)\n",
        "        out = self.fc(pooled)\n",
        "        return out, attn_weights\n",
        "\n",
        "# Full CSTAN-TCN Model\n",
        "class CSTAN_TCN(nn.Module):\n",
        "    def __init__(self, cnn_dim=32, tcn_dim=64, num_classes=5):\n",
        "        super().__init__()\n",
        "        self.eeg_cnn = SignalCNN(1, cnn_dim)\n",
        "        self.eog_cnn = SignalCNN(1, cnn_dim)\n",
        "        self.cross_attn = CrossModalAttention(dim=cnn_dim * 2)\n",
        "        self.tcn = TCN(input_dim=cnn_dim * 2, hidden_dim=tcn_dim)\n",
        "        self.classifier = AttnClassifier(input_dim=tcn_dim, num_classes=num_classes)\n",
        "\n",
        "    def forward(self, x):  # x: (B, 2, T)\n",
        "        eeg = x[:, 0:1, :]  # (B, 1, T)\n",
        "        eog = x[:, 1:2, :]  # (B, 1, T)\n",
        "\n",
        "        eeg_feat = self.eeg_cnn(eeg)  # (B, C, L)\n",
        "        eog_feat = self.eog_cnn(eog)\n",
        "\n",
        "        eeg_feat = eeg_feat.transpose(1, 2)  # (B, L, C)\n",
        "        eog_feat = eog_feat.transpose(1, 2)\n",
        "\n",
        "        fused = self.cross_attn(eeg_feat, eog_feat)  # (B, L, C)\n",
        "        tcn_out = self.tcn(fused)  # (B, L, C)\n",
        "\n",
        "        out, attn = self.classifier(tcn_out)\n",
        "        return out, attn"
      ],
      "metadata": {
        "id": "0Hs3Zrif16Dq"
      },
      "execution_count": null,
      "outputs": []
    },
    {
      "cell_type": "markdown",
      "source": [
        "## 데이터 합치기"
      ],
      "metadata": {
        "id": "DIE2tGV-vzJ_"
      }
    },
    {
      "cell_type": "code",
      "source": [
        "import os\n",
        "import pickle\n",
        "import torch\n",
        "import numpy as np\n",
        "\n",
        "# 병합할 pkl 경로 설정\n",
        "pkl_dir = \"/content/drive/MyDrive/sleep_segments\"\n",
        "file_list = [os.path.join(pkl_dir, f\"sleep_data_part{i}.pkl\") for i in range(1, 7)]\n",
        "\n",
        "all_segments, all_labels = [], []\n",
        "\n",
        "print(\"🔄 피클 파일 병합 중...\")\n",
        "for file in file_list:\n",
        "    with open(file, 'rb') as f:\n",
        "        segments, labels = pickle.load(f)\n",
        "        for seg in segments:\n",
        "            tensor_seg = torch.tensor(seg, dtype=torch.float32)\n",
        "            if tensor_seg.ndim == 3:  # (2, 60, 50)\n",
        "                tensor_seg = tensor_seg.view(2, -1)  # (2, 3000)\n",
        "            all_segments.append(tensor_seg)\n",
        "        all_labels.extend(labels)\n",
        "\n",
        "all_segments = torch.stack(all_segments)  # (N, 2, T)\n",
        "all_labels = torch.tensor(all_labels, dtype=torch.long)\n",
        "\n",
        "save_path = \"/content/drive/MyDrive/sleep_segments/merged_sleep_dataset.pt\"\n",
        "torch.save((all_segments, all_labels), save_path)\n",
        "print(f\"✅ 병합 완료! 저장 위치: {save_path}\")"
      ],
      "metadata": {
        "id": "T7_ivoKhCsbi",
        "colab": {
          "base_uri": "https://localhost:8080/"
        },
        "outputId": "cef441f9-52cb-4c82-f9e5-16768bd45d0b"
      },
      "execution_count": null,
      "outputs": [
        {
          "output_type": "stream",
          "name": "stdout",
          "text": [
            "🔄 피클 파일 병합 중...\n"
          ]
        },
        {
          "output_type": "stream",
          "name": "stderr",
          "text": [
            "<ipython-input-4-3bdd17a6ae7d>:17: UserWarning: Creating a tensor from a list of numpy.ndarrays is extremely slow. Please consider converting the list to a single numpy.ndarray with numpy.array() before converting to a tensor. (Triggered internally at /pytorch/torch/csrc/utils/tensor_new.cpp:254.)\n",
            "  tensor_seg = torch.tensor(seg, dtype=torch.float32)\n"
          ]
        },
        {
          "output_type": "stream",
          "name": "stdout",
          "text": [
            "✅ 병합 완료! 저장 위치: /content/drive/MyDrive/sleep_segments/merged_sleep_dataset.pt\n"
          ]
        }
      ]
    },
    {
      "cell_type": "markdown",
      "source": [
        "## 데이터 불러오기"
      ],
      "metadata": {
        "id": "ni9oDCFmnQbd"
      }
    },
    {
      "cell_type": "code",
      "source": [
        "import torch\n",
        "from torch.utils.data import Dataset, DataLoader, Subset\n",
        "import numpy as np\n",
        "\n",
        "class SleepTensorDataset(Dataset):\n",
        "    def __init__(self, data_tensor, label_tensor):\n",
        "        self.data = data_tensor\n",
        "        self.labels = label_tensor\n",
        "\n",
        "    def __len__(self):\n",
        "        return len(self.data)\n",
        "\n",
        "    def __getitem__(self, idx):\n",
        "        return self.data[idx], self.labels[idx]\n",
        "\n",
        "# 🔹 불러오기\n",
        "merged_path = \"/content/drive/MyDrive/sleep_segments/merged_sleep_dataset.pt\"\n",
        "print(\"🔄 병합된 데이터 불러오는 중...\")\n",
        "all_data, all_labels = torch.load(merged_path)\n",
        "print(f\"✅ 불러오기 완료: 총 샘플 = {len(all_data)}\")\n",
        "\n",
        "# 🔹 Train/Test Split\n",
        "indices = np.arange(len(all_data))\n",
        "np.random.seed(42)\n",
        "np.random.shuffle(indices)\n",
        "split = int(len(indices) * 0.8)\n",
        "train_idx, test_idx = indices[:split], indices[split:]\n",
        "\n",
        "train_dataset = SleepTensorDataset(all_data[train_idx], all_labels[train_idx])\n",
        "test_dataset  = SleepTensorDataset(all_data[test_idx], all_labels[test_idx])\n",
        "\n",
        "train_loader = DataLoader(train_dataset, batch_size=32, shuffle=True)\n",
        "test_loader  = DataLoader(test_dataset, batch_size=32, shuffle=False)\n",
        "\n",
        "print(f\"✅ DataLoader 생성 완료: Train = {len(train_dataset)} / Test = {len(test_dataset)}\")"
      ],
      "metadata": {
        "colab": {
          "base_uri": "https://localhost:8080/"
        },
        "id": "XCBARnMLFl2L",
        "outputId": "5115b189-2ff4-45d3-8519-58bd5f391bf9"
      },
      "execution_count": null,
      "outputs": [
        {
          "output_type": "stream",
          "name": "stdout",
          "text": [
            "🔄 병합된 데이터 불러오는 중...\n",
            "✅ 불러오기 완료: 총 샘플 = 326557\n",
            "✅ DataLoader 생성 완료: Train = 261245 / Test = 65312\n"
          ]
        }
      ]
    },
    {
      "cell_type": "markdown",
      "source": [
        "## 학습 파이프라인"
      ],
      "metadata": {
        "id": "PRHBfvuQHMpD"
      }
    },
    {
      "cell_type": "markdown",
      "source": [
        "## 학습/평가 정의"
      ],
      "metadata": {
        "id": "E8JSHb7FMV7V"
      }
    },
    {
      "cell_type": "code",
      "source": [
        "def train(model, dataloader, optimizer, criterion, device):\n",
        "    model.train()\n",
        "    total_loss, correct, total = 0, 0, 0\n",
        "    for x, y in tqdm(dataloader, desc=\"Train\"):\n",
        "        x, y = x.to(device), y.to(device)\n",
        "        optimizer.zero_grad()\n",
        "        output, _ = model(x)\n",
        "        loss = criterion(output, y)\n",
        "        loss.backward()\n",
        "        optimizer.step()\n",
        "\n",
        "        preds = output.argmax(1)\n",
        "        total_loss += loss.item()\n",
        "        correct += (preds == y).sum().item()\n",
        "        total += y.size(0)\n",
        "\n",
        "    acc = correct / total * 100\n",
        "    return total_loss / len(dataloader), acc"
      ],
      "metadata": {
        "id": "4mtJ94e8M629"
      },
      "execution_count": null,
      "outputs": []
    },
    {
      "cell_type": "code",
      "source": [
        "from sklearn.metrics import classification_report, accuracy_score, f1_score, precision_score, recall_score\n",
        "\n",
        "def evaluate(model, dataloader, criterion, device):\n",
        "    model.eval()\n",
        "    y_true, y_pred = [], []\n",
        "    total_loss = 0\n",
        "\n",
        "    with torch.no_grad():\n",
        "        for x, y in dataloader:\n",
        "            x, y = x.to(device), y.to(device)\n",
        "            output, _ = model(x)\n",
        "            loss = criterion(output, y)\n",
        "            total_loss += loss.item()\n",
        "\n",
        "            preds = output.argmax(dim=1)\n",
        "            y_true.extend(y.cpu().numpy())\n",
        "            y_pred.extend(preds.cpu().numpy())\n",
        "\n",
        "    acc = accuracy_score(y_true, y_pred) * 100\n",
        "    f1 = f1_score(y_true, y_pred, average='macro')\n",
        "    prec = precision_score(y_true, y_pred, average='macro')\n",
        "    rec = recall_score(y_true, y_pred, average='macro')\n",
        "\n",
        "    print(\"\\n📊 Classification Report:\\n\")\n",
        "    print(classification_report(y_true, y_pred, digits=3))\n",
        "\n",
        "    return total_loss / len(dataloader), acc, f1, prec, rec"
      ],
      "metadata": {
        "id": "zeo25sdfNFF9"
      },
      "execution_count": null,
      "outputs": []
    },
    {
      "cell_type": "markdown",
      "source": [
        "## 클래스 균등"
      ],
      "metadata": {
        "id": "SN8nSYkGkiBb"
      }
    },
    {
      "cell_type": "code",
      "source": [
        "x_tensor, y_tensor = torch.load('/content/drive/MyDrive/sleep_segments/merged_sleep_dataset.pt')\n",
        "\n",
        "from torch.utils.data import TensorDataset, random_split, DataLoader, WeightedRandomSampler\n",
        "\n",
        "dataset = TensorDataset(x_tensor, y_tensor)\n",
        "train_len = int(len(dataset) * 0.8)\n",
        "train_set, test_set = random_split(dataset, [train_len, len(dataset) - train_len])\n",
        "\n",
        "# --- 1번 전략: WeightedRandomSampler 적용 ---\n",
        "train_indices = train_set.indices if hasattr(train_set, 'indices') else train_set._indices\n",
        "train_labels = y_tensor[train_indices]  # 라벨 추출\n",
        "\n",
        "class_counts = torch.bincount(train_labels)\n",
        "class_weights = 1.0 / class_counts.float()\n",
        "sample_weights = class_weights[train_labels]\n",
        "\n",
        "sampler = WeightedRandomSampler(weights=sample_weights, num_samples=len(train_labels), replacement=True)\n",
        "\n",
        "# --- DataLoader 생성 ---\n",
        "train_loader = DataLoader(train_set, batch_size=16, sampler=sampler)\n",
        "test_loader = DataLoader(test_set, batch_size=16, shuffle=False)\n",
        "\n",
        "print(f\"DataLoader 생성 완료: Train = {len(train_set)}개 / Test = {len(test_set)}개\")"
      ],
      "metadata": {
        "colab": {
          "base_uri": "https://localhost:8080/"
        },
        "id": "H1kh4KOG_bl8",
        "outputId": "eac347aa-7f17-4b67-f065-ecfb8a0ea5e4"
      },
      "execution_count": null,
      "outputs": [
        {
          "output_type": "stream",
          "name": "stdout",
          "text": [
            "✅ DataLoader 생성 완료: Train = 261245개 / Test = 65312개\n"
          ]
        }
      ]
    },
    {
      "cell_type": "code",
      "source": [
        "device = torch.device(\"cuda\" if torch.cuda.is_available() else \"cpu\")\n",
        "from tqdm import tqdm"
      ],
      "metadata": {
        "id": "u6qYVnm0nR6u"
      },
      "execution_count": null,
      "outputs": []
    },
    {
      "cell_type": "code",
      "source": [
        "import numpy as np\n",
        "import torch.nn.functional as F\n",
        "\n",
        "def cb_loss(logits, labels, samples_per_cls, beta=0.9999, gamma=2.0):\n",
        "    \"\"\"\n",
        "    logits: [B, C]\n",
        "    labels: [B]\n",
        "    samples_per_cls: list or array of class frequencies\n",
        "\n",
        "    \"\"\"\n",
        "    effective_num = 1.0 - np.power(beta, samples_per_cls)\n",
        "    weights = (1.0 - beta) / np.array(effective_num)\n",
        "    weights = weights / np.sum(weights) * len(samples_per_cls)\n",
        "\n",
        "    weights = torch.tensor(weights).float().to(logits.device)\n",
        "    labels_one_hot = F.one_hot(labels, num_classes=logits.size(1)).float()\n",
        "    weights = (weights.unsqueeze(0) * labels_one_hot).sum(1)\n",
        "\n",
        "    ce = F.cross_entropy(logits, labels, reduction='none')  # shape: (B,)\n",
        "    pt = torch.exp(-ce)\n",
        "    loss = weights * ((1 - pt) ** gamma) * ce\n",
        "    return loss.mean()"
      ],
      "metadata": {
        "id": "vEXSP8IdnUcj"
      },
      "execution_count": null,
      "outputs": []
    },
    {
      "cell_type": "code",
      "source": [
        "# 클래스별 샘플 수 정의\n",
        "samples_per_cls = [44965, 3010, 10696, 2323, 4318]\n",
        "\n",
        "# 손실 함수 정의\n",
        "criterion = lambda logits, labels: cb_loss(logits, labels, samples_per_cls=samples_per_cls)\n",
        "\n",
        "# 모델, 옵티마이저\n",
        "model = CSTAN_TCN().to(device)\n",
        "optimizer = torch.optim.Adam(model.parameters(), lr=1e-4)\n",
        "\n",
        "# 기록\n",
        "train_losses, val_losses, val_accuracies = [], [], []\n",
        "all_f1, all_precision, all_recall = [], [], []\n",
        "\n",
        "best_val_loss = float('inf')\n",
        "patience = 3\n",
        "patience_counter = 0\n",
        "best_model_state = None\n",
        "\n",
        "for epoch in range(1, 41):\n",
        "    print(f\"\\n🌀 Epoch {epoch}\")\n",
        "\n",
        "    train_loss, train_acc = train(model, train_loader, optimizer, criterion, device)\n",
        "    print(f\"Train Loss: {train_loss:.4f} | Train Accuracy: {train_acc:.2f}%\")\n",
        "\n",
        "    val_loss, val_acc, f1, prec, rec = evaluate(model, test_loader, criterion, device)\n",
        "    print(f\"Val Loss: {val_loss:.4f} | Val Acc: {val_acc:.2f}% | F1: {f1:.3f} | Precision: {prec:.3f} | Recall: {rec:.3f}\")\n",
        "\n",
        "    train_losses.append(train_loss)\n",
        "    val_losses.append(val_loss)\n",
        "    val_accuracies.append(val_acc)\n",
        "    all_f1.append(f1)\n",
        "    all_precision.append(prec)\n",
        "    all_recall.append(rec)\n",
        "\n",
        "    # Early stopping\n",
        "    if val_loss < best_val_loss:\n",
        "        best_val_loss = val_loss\n",
        "        patience_counter = 0\n",
        "        best_model_state = model.state_dict()\n",
        "    else:\n",
        "        patience_counter += 1\n",
        "        if patience_counter >= patience:\n",
        "            print(f\"\\n⏹️ Early stopping at epoch {epoch}. Best Val Loss: {best_val_loss:.4f}\")\n",
        "            break\n",
        "\n",
        "# 가장 좋은 모델 복원\n",
        "if best_model_state is not None:\n",
        "    model.load_state_dict(best_model_state)\n",
        "\n",
        "# 최종 성능 요약\n",
        "print(\"\\n📊 최종 모델 평가 요약:\")\n",
        "print(f\"Average Validation Accuracy: {np.mean(val_accuracies):.2f}%\")\n",
        "print(f\"Average Macro F1 Score: {np.mean(all_f1):.4f}\")\n",
        "print(f\"Average Precision: {np.mean(all_precision):.4f}\")\n",
        "print(f\"Average Recall: {np.mean(all_recall):.4f}\")\n",
        "print(f\"Last Epoch Accuracy: {val_accuracies[-1]:.2f}% | F1: {all_f1[-1]:.4f} | Precision: {all_precision[-1]:.4f} | Recall: {all_recall[-1]:.4f}\")"
      ],
      "metadata": {
        "id": "8y_3FYKc_k40",
        "colab": {
          "base_uri": "https://localhost:8080/"
        },
        "outputId": "b749999b-102f-4be0-cc0e-a15594d61a88"
      },
      "execution_count": null,
      "outputs": [
        {
          "output_type": "stream",
          "name": "stdout",
          "text": [
            "\n",
            "🌀 Epoch 1\n"
          ]
        },
        {
          "output_type": "stream",
          "name": "stderr",
          "text": [
            "Train: 100%|██████████| 16328/16328 [03:16<00:00, 83.14it/s]\n"
          ]
        },
        {
          "output_type": "stream",
          "name": "stdout",
          "text": [
            "Train Loss: 0.3004 | Train Accuracy: 69.36%\n"
          ]
        },
        {
          "output_type": "stream",
          "name": "stderr",
          "text": [
            "/usr/local/lib/python3.11/dist-packages/sklearn/metrics/_classification.py:1565: UndefinedMetricWarning: Precision is ill-defined and being set to 0.0 in labels with no predicted samples. Use `zero_division` parameter to control this behavior.\n",
            "  _warn_prf(average, modifier, f\"{metric.capitalize()} is\", len(result))\n",
            "/usr/local/lib/python3.11/dist-packages/sklearn/metrics/_classification.py:1565: UndefinedMetricWarning: Precision is ill-defined and being set to 0.0 in labels with no predicted samples. Use `zero_division` parameter to control this behavior.\n",
            "  _warn_prf(average, modifier, f\"{metric.capitalize()} is\", len(result))\n",
            "/usr/local/lib/python3.11/dist-packages/sklearn/metrics/_classification.py:1565: UndefinedMetricWarning: Precision is ill-defined and being set to 0.0 in labels with no predicted samples. Use `zero_division` parameter to control this behavior.\n",
            "  _warn_prf(average, modifier, f\"{metric.capitalize()} is\", len(result))\n",
            "/usr/local/lib/python3.11/dist-packages/sklearn/metrics/_classification.py:1565: UndefinedMetricWarning: Precision is ill-defined and being set to 0.0 in labels with no predicted samples. Use `zero_division` parameter to control this behavior.\n",
            "  _warn_prf(average, modifier, f\"{metric.capitalize()} is\", len(result))\n"
          ]
        },
        {
          "output_type": "stream",
          "name": "stdout",
          "text": [
            "\n",
            "📊 Classification Report:\n",
            "\n",
            "              precision    recall  f1-score   support\n",
            "\n",
            "           0      1.000     0.000     0.000     45060\n",
            "           1      0.045     1.000     0.086      2946\n",
            "           2      0.000     0.000     0.000     10716\n",
            "           3      0.000     0.000     0.000      2444\n",
            "           4      0.000     0.000     0.000      4146\n",
            "\n",
            "    accuracy                          0.045     65312\n",
            "   macro avg      0.209     0.200     0.017     65312\n",
            "weighted avg      0.692     0.045     0.004     65312\n",
            "\n",
            "Val Loss: 16.8640 | Val Acc: 4.52% | F1: 0.017 | Precision: 0.209 | Recall: 0.200\n",
            "\n",
            "🌀 Epoch 2\n"
          ]
        },
        {
          "output_type": "stream",
          "name": "stderr",
          "text": [
            "Train: 100%|██████████| 16328/16328 [03:16<00:00, 82.90it/s]\n"
          ]
        },
        {
          "output_type": "stream",
          "name": "stdout",
          "text": [
            "Train Loss: 0.2118 | Train Accuracy: 75.89%\n"
          ]
        },
        {
          "output_type": "stream",
          "name": "stderr",
          "text": [
            "/usr/local/lib/python3.11/dist-packages/sklearn/metrics/_classification.py:1565: UndefinedMetricWarning: Precision is ill-defined and being set to 0.0 in labels with no predicted samples. Use `zero_division` parameter to control this behavior.\n",
            "  _warn_prf(average, modifier, f\"{metric.capitalize()} is\", len(result))\n",
            "/usr/local/lib/python3.11/dist-packages/sklearn/metrics/_classification.py:1565: UndefinedMetricWarning: Precision is ill-defined and being set to 0.0 in labels with no predicted samples. Use `zero_division` parameter to control this behavior.\n",
            "  _warn_prf(average, modifier, f\"{metric.capitalize()} is\", len(result))\n",
            "/usr/local/lib/python3.11/dist-packages/sklearn/metrics/_classification.py:1565: UndefinedMetricWarning: Precision is ill-defined and being set to 0.0 in labels with no predicted samples. Use `zero_division` parameter to control this behavior.\n",
            "  _warn_prf(average, modifier, f\"{metric.capitalize()} is\", len(result))\n",
            "/usr/local/lib/python3.11/dist-packages/sklearn/metrics/_classification.py:1565: UndefinedMetricWarning: Precision is ill-defined and being set to 0.0 in labels with no predicted samples. Use `zero_division` parameter to control this behavior.\n",
            "  _warn_prf(average, modifier, f\"{metric.capitalize()} is\", len(result))\n"
          ]
        },
        {
          "output_type": "stream",
          "name": "stdout",
          "text": [
            "\n",
            "📊 Classification Report:\n",
            "\n",
            "              precision    recall  f1-score   support\n",
            "\n",
            "           0      0.690     1.000     0.817     45060\n",
            "           1      0.000     0.000     0.000      2946\n",
            "           2      0.000     0.000     0.000     10716\n",
            "           3      0.000     0.000     0.000      2444\n",
            "           4      0.000     0.000     0.000      4146\n",
            "\n",
            "    accuracy                          0.690     65312\n",
            "   macro avg      0.138     0.200     0.163     65312\n",
            "weighted avg      0.476     0.690     0.563     65312\n",
            "\n",
            "Val Loss: 14.8375 | Val Acc: 68.99% | F1: 0.163 | Precision: 0.138 | Recall: 0.200\n",
            "\n",
            "🌀 Epoch 3\n"
          ]
        },
        {
          "output_type": "stream",
          "name": "stderr",
          "text": [
            "Train: 100%|██████████| 16328/16328 [03:16<00:00, 83.01it/s]\n"
          ]
        },
        {
          "output_type": "stream",
          "name": "stdout",
          "text": [
            "Train Loss: 0.1846 | Train Accuracy: 78.45%\n"
          ]
        },
        {
          "output_type": "stream",
          "name": "stderr",
          "text": [
            "/usr/local/lib/python3.11/dist-packages/sklearn/metrics/_classification.py:1565: UndefinedMetricWarning: Precision is ill-defined and being set to 0.0 in labels with no predicted samples. Use `zero_division` parameter to control this behavior.\n",
            "  _warn_prf(average, modifier, f\"{metric.capitalize()} is\", len(result))\n",
            "/usr/local/lib/python3.11/dist-packages/sklearn/metrics/_classification.py:1565: UndefinedMetricWarning: Precision is ill-defined and being set to 0.0 in labels with no predicted samples. Use `zero_division` parameter to control this behavior.\n",
            "  _warn_prf(average, modifier, f\"{metric.capitalize()} is\", len(result))\n",
            "/usr/local/lib/python3.11/dist-packages/sklearn/metrics/_classification.py:1565: UndefinedMetricWarning: Precision is ill-defined and being set to 0.0 in labels with no predicted samples. Use `zero_division` parameter to control this behavior.\n",
            "  _warn_prf(average, modifier, f\"{metric.capitalize()} is\", len(result))\n",
            "/usr/local/lib/python3.11/dist-packages/sklearn/metrics/_classification.py:1565: UndefinedMetricWarning: Precision is ill-defined and being set to 0.0 in labels with no predicted samples. Use `zero_division` parameter to control this behavior.\n",
            "  _warn_prf(average, modifier, f\"{metric.capitalize()} is\", len(result))\n"
          ]
        },
        {
          "output_type": "stream",
          "name": "stdout",
          "text": [
            "\n",
            "📊 Classification Report:\n",
            "\n",
            "              precision    recall  f1-score   support\n",
            "\n",
            "           0      0.690     1.000     0.817     45060\n",
            "           1      0.000     0.000     0.000      2946\n",
            "           2      0.000     0.000     0.000     10716\n",
            "           3      0.000     0.000     0.000      2444\n",
            "           4      0.000     0.000     0.000      4146\n",
            "\n",
            "    accuracy                          0.690     65312\n",
            "   macro avg      0.138     0.200     0.163     65312\n",
            "weighted avg      0.476     0.690     0.563     65312\n",
            "\n",
            "Val Loss: 15.8062 | Val Acc: 68.99% | F1: 0.163 | Precision: 0.138 | Recall: 0.200\n",
            "\n",
            "🌀 Epoch 4\n"
          ]
        },
        {
          "output_type": "stream",
          "name": "stderr",
          "text": [
            "Train: 100%|██████████| 16328/16328 [03:16<00:00, 83.15it/s]\n"
          ]
        },
        {
          "output_type": "stream",
          "name": "stdout",
          "text": [
            "Train Loss: 0.1719 | Train Accuracy: 79.64%\n"
          ]
        },
        {
          "output_type": "stream",
          "name": "stderr",
          "text": [
            "/usr/local/lib/python3.11/dist-packages/sklearn/metrics/_classification.py:1565: UndefinedMetricWarning: Precision is ill-defined and being set to 0.0 in labels with no predicted samples. Use `zero_division` parameter to control this behavior.\n",
            "  _warn_prf(average, modifier, f\"{metric.capitalize()} is\", len(result))\n",
            "/usr/local/lib/python3.11/dist-packages/sklearn/metrics/_classification.py:1565: UndefinedMetricWarning: Precision is ill-defined and being set to 0.0 in labels with no predicted samples. Use `zero_division` parameter to control this behavior.\n",
            "  _warn_prf(average, modifier, f\"{metric.capitalize()} is\", len(result))\n",
            "/usr/local/lib/python3.11/dist-packages/sklearn/metrics/_classification.py:1565: UndefinedMetricWarning: Precision is ill-defined and being set to 0.0 in labels with no predicted samples. Use `zero_division` parameter to control this behavior.\n",
            "  _warn_prf(average, modifier, f\"{metric.capitalize()} is\", len(result))\n",
            "/usr/local/lib/python3.11/dist-packages/sklearn/metrics/_classification.py:1565: UndefinedMetricWarning: Precision is ill-defined and being set to 0.0 in labels with no predicted samples. Use `zero_division` parameter to control this behavior.\n",
            "  _warn_prf(average, modifier, f\"{metric.capitalize()} is\", len(result))\n"
          ]
        },
        {
          "output_type": "stream",
          "name": "stdout",
          "text": [
            "\n",
            "📊 Classification Report:\n",
            "\n",
            "              precision    recall  f1-score   support\n",
            "\n",
            "           0      0.690     1.000     0.817     45060\n",
            "           1      0.000     0.000     0.000      2946\n",
            "           2      0.000     0.000     0.000     10716\n",
            "           3      0.000     0.000     0.000      2444\n",
            "           4      0.000     0.000     0.000      4146\n",
            "\n",
            "    accuracy                          0.690     65312\n",
            "   macro avg      0.138     0.200     0.163     65312\n",
            "weighted avg      0.476     0.690     0.563     65312\n",
            "\n",
            "Val Loss: 15.2519 | Val Acc: 68.99% | F1: 0.163 | Precision: 0.138 | Recall: 0.200\n",
            "\n",
            "🌀 Epoch 5\n"
          ]
        },
        {
          "output_type": "stream",
          "name": "stderr",
          "text": [
            "Train: 100%|██████████| 16328/16328 [03:19<00:00, 81.87it/s]\n"
          ]
        },
        {
          "output_type": "stream",
          "name": "stdout",
          "text": [
            "Train Loss: 0.1623 | Train Accuracy: 80.75%\n",
            "\n",
            "📊 Classification Report:\n",
            "\n",
            "              precision    recall  f1-score   support\n",
            "\n",
            "           0      0.690     0.999     0.816     45060\n",
            "           1      0.000     0.000     0.000      2946\n",
            "           2      0.000     0.000     0.000     10716\n",
            "           3      0.000     0.000     0.000      2444\n",
            "           4      0.000     0.000     0.000      4146\n",
            "\n",
            "    accuracy                          0.689     65312\n",
            "   macro avg      0.138     0.200     0.163     65312\n",
            "weighted avg      0.476     0.689     0.563     65312\n",
            "\n",
            "Val Loss: 20.5776 | Val Acc: 68.91% | F1: 0.163 | Precision: 0.138 | Recall: 0.200\n",
            "\n",
            "⏹️ Early stopping at epoch 5. Best Val Loss: 14.8375\n",
            "\n",
            "📊 최종 모델 평가 요약:\n",
            "Average Validation Accuracy: 56.08%\n",
            "Average Macro F1 Score: 0.1341\n",
            "Average Precision: 0.1522\n",
            "Average Recall: 0.2000\n",
            "Last Epoch Accuracy: 68.91% | F1: 0.1632 | Precision: 0.1379 | Recall: 0.1998\n"
          ]
        },
        {
          "output_type": "stream",
          "name": "stderr",
          "text": [
            "/usr/local/lib/python3.11/dist-packages/sklearn/metrics/_classification.py:1565: UndefinedMetricWarning: Precision is ill-defined and being set to 0.0 in labels with no predicted samples. Use `zero_division` parameter to control this behavior.\n",
            "  _warn_prf(average, modifier, f\"{metric.capitalize()} is\", len(result))\n",
            "/usr/local/lib/python3.11/dist-packages/sklearn/metrics/_classification.py:1565: UndefinedMetricWarning: Precision is ill-defined and being set to 0.0 in labels with no predicted samples. Use `zero_division` parameter to control this behavior.\n",
            "  _warn_prf(average, modifier, f\"{metric.capitalize()} is\", len(result))\n",
            "/usr/local/lib/python3.11/dist-packages/sklearn/metrics/_classification.py:1565: UndefinedMetricWarning: Precision is ill-defined and being set to 0.0 in labels with no predicted samples. Use `zero_division` parameter to control this behavior.\n",
            "  _warn_prf(average, modifier, f\"{metric.capitalize()} is\", len(result))\n",
            "/usr/local/lib/python3.11/dist-packages/sklearn/metrics/_classification.py:1565: UndefinedMetricWarning: Precision is ill-defined and being set to 0.0 in labels with no predicted samples. Use `zero_division` parameter to control this behavior.\n",
            "  _warn_prf(average, modifier, f\"{metric.capitalize()} is\", len(result))\n"
          ]
        }
      ]
    },
    {
      "cell_type": "code",
      "source": [
        "print(\"\\n🧪 테스트 세트 성능 평가:\")\n",
        "test_loss, test_acc, test_f1, test_prec, test_rec = evaluate(model, test_loader, criterion, device)\n",
        "\n",
        "print(f\"Test Loss: {test_loss:.4f} | Accuracy: {test_acc:.2f}%\")\n",
        "print(f\"Macro F1: {test_f1:.4f} | Precision: {test_prec:.4f} | Recall: {test_rec:.4f}\")"
      ],
      "metadata": {
        "colab": {
          "base_uri": "https://localhost:8080/"
        },
        "id": "V_JWVJzFskox",
        "outputId": "082f2ca8-ec85-4767-8655-8e587c389d83"
      },
      "execution_count": null,
      "outputs": [
        {
          "output_type": "stream",
          "name": "stdout",
          "text": [
            "\n",
            "🧪 테스트 세트 성능 평가:\n",
            "\n",
            "📊 Classification Report:\n",
            "\n",
            "              precision    recall  f1-score   support\n",
            "\n",
            "           0      0.690     0.999     0.816     45060\n",
            "           1      0.000     0.000     0.000      2946\n",
            "           2      0.000     0.000     0.000     10716\n",
            "           3      0.000     0.000     0.000      2444\n",
            "           4      0.000     0.000     0.000      4146\n",
            "\n",
            "    accuracy                          0.689     65312\n",
            "   macro avg      0.138     0.200     0.163     65312\n",
            "weighted avg      0.476     0.689     0.563     65312\n",
            "\n",
            "Test Loss: 20.5776 | Accuracy: 68.91%\n",
            "Macro F1: 0.1632 | Precision: 0.1379 | Recall: 0.1998\n"
          ]
        },
        {
          "output_type": "stream",
          "name": "stderr",
          "text": [
            "/usr/local/lib/python3.11/dist-packages/sklearn/metrics/_classification.py:1565: UndefinedMetricWarning: Precision is ill-defined and being set to 0.0 in labels with no predicted samples. Use `zero_division` parameter to control this behavior.\n",
            "  _warn_prf(average, modifier, f\"{metric.capitalize()} is\", len(result))\n",
            "/usr/local/lib/python3.11/dist-packages/sklearn/metrics/_classification.py:1565: UndefinedMetricWarning: Precision is ill-defined and being set to 0.0 in labels with no predicted samples. Use `zero_division` parameter to control this behavior.\n",
            "  _warn_prf(average, modifier, f\"{metric.capitalize()} is\", len(result))\n",
            "/usr/local/lib/python3.11/dist-packages/sklearn/metrics/_classification.py:1565: UndefinedMetricWarning: Precision is ill-defined and being set to 0.0 in labels with no predicted samples. Use `zero_division` parameter to control this behavior.\n",
            "  _warn_prf(average, modifier, f\"{metric.capitalize()} is\", len(result))\n",
            "/usr/local/lib/python3.11/dist-packages/sklearn/metrics/_classification.py:1565: UndefinedMetricWarning: Precision is ill-defined and being set to 0.0 in labels with no predicted samples. Use `zero_division` parameter to control this behavior.\n",
            "  _warn_prf(average, modifier, f\"{metric.capitalize()} is\", len(result))\n"
          ]
        }
      ]
    },
    {
      "cell_type": "code",
      "source": [
        "import torch\n",
        "import pickle\n",
        "\n",
        "# 모델 학습이 끝난 후 (예: best 모델 기준)\n",
        "model_path_pt = '/content/drive/MyDrive/best_model.pt'\n",
        "model_path_pkl = '/content/drive/MyDrive/best_model.pkl'\n",
        "\n",
        "# 저장\n",
        "torch.save(model.state_dict(), model_path_pt)\n",
        "\n",
        "# 저징 : pkl\n",
        "with open(model_path_pkl, 'wb') as f:\n",
        "    pickle.dump(model.state_dict(), f)\n",
        "\n",
        "print(\"모델 저장 완료 (.pt, .pkl)\")"
      ],
      "metadata": {
        "id": "M73ODL1l0V5d",
        "outputId": "2a3e0e9b-ad1c-4949-f578-714c0e22af75",
        "colab": {
          "base_uri": "https://localhost:8080/"
        }
      },
      "execution_count": null,
      "outputs": [
        {
          "output_type": "stream",
          "name": "stdout",
          "text": [
            "✅ 모델 저장 완료 (.pt, .pkl)\n"
          ]
        }
      ]
    },
    {
      "cell_type": "markdown",
      "source": [
        "##시각화"
      ],
      "metadata": {
        "id": "hT6axtPawYxP"
      }
    },
    {
      "cell_type": "code",
      "source": [
        "# 평가 모드\n",
        "model.eval()\n",
        "y_true = []\n",
        "y_pred = []\n",
        "\n",
        "with torch.no_grad():\n",
        "    for x, y in tqdm(test_loader, desc=\"Evaluating\"):\n",
        "        x = x.to(device)\n",
        "        out, _ = model(x)\n",
        "        preds = out.argmax(dim=1).cpu()\n",
        "        y_pred.extend(preds.tolist())\n",
        "        y_true.extend(y.tolist())\n",
        "\n",
        "# 평가 지표 출력\n",
        "print(\"✅ 평가 결과\")\n",
        "print(\"Accuracy      :\", round(accuracy_score(y_true, y_pred) * 100, 2), \"%\")\n",
        "print(\"Macro F1      :\", round(f1_score(y_true, y_pred, average=\"macro\") * 100, 2), \"%\")\n",
        "print(\"Macro Precision:\", round(precision_score(y_true, y_pred, average=\"macro\") * 100, 2), \"%\")\n",
        "print(\"Macro Recall  :\", round(recall_score(y_true, y_pred, average=\"macro\") * 100, 2), \"%\")"
      ],
      "metadata": {
        "id": "h5htiOSXJEKk",
        "colab": {
          "base_uri": "https://localhost:8080/"
        },
        "outputId": "da4165a7-8053-49bd-8e09-a351f1992c7d"
      },
      "execution_count": null,
      "outputs": [
        {
          "output_type": "stream",
          "name": "stderr",
          "text": [
            "Evaluating: 100%|██████████| 4082/4082 [00:18<00:00, 223.33it/s]\n",
            "/usr/local/lib/python3.11/dist-packages/sklearn/metrics/_classification.py:1565: UndefinedMetricWarning: Precision is ill-defined and being set to 0.0 in labels with no predicted samples. Use `zero_division` parameter to control this behavior.\n",
            "  _warn_prf(average, modifier, f\"{metric.capitalize()} is\", len(result))\n"
          ]
        },
        {
          "output_type": "stream",
          "name": "stdout",
          "text": [
            "✅ 평가 결과\n",
            "Accuracy      : 68.8 %\n",
            "Macro F1      : 16.3 %\n",
            "Macro Precision: 13.77 %\n",
            "Macro Recall  : 19.99 %\n"
          ]
        }
      ]
    }
  ]
}